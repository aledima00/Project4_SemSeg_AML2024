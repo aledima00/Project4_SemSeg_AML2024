{
  "cells": [
    {
      "cell_type": "markdown",
      "metadata": {
        "id": "view-in-github",
        "colab_type": "text"
      },
      "source": [
        "<a href=\"https://colab.research.google.com/github/aledima00/Project4_SemSeg_AML2024/blob/main/main.ipynb\" target=\"_parent\"><img src=\"https://colab.research.google.com/assets/colab-badge.svg\" alt=\"Open In Colab\"/></a>"
      ]
    },
    {
      "cell_type": "markdown",
      "metadata": {
        "id": "bwGAibz4oZbs"
      },
      "source": [
        "# Project 4 - Semantic Segmentation"
      ]
    },
    {
      "cell_type": "markdown",
      "source": [
        "First let's download dataset, that is already split in \"Train\", \"Test\" and \"Val\" modules"
      ],
      "metadata": {
        "id": "GaksjqH-t7sC"
      }
    },
    {
      "cell_type": "code",
      "source": [
        "!pip install colorama | tail -n 1\n",
        "!pip install albumentations | tail -n 1\n",
        "!pip install yacs | tail -n 1\n",
        "!pip install fvcore | tail -n 1\n",
        "!pip install tqdm | tail -n 1"
      ],
      "metadata": {
        "id": "NPe9UMf8DtRL",
        "outputId": "8289c9f3-8667-462f-e711-d1ecad1a199c",
        "colab": {
          "base_uri": "https://localhost:8080/"
        }
      },
      "execution_count": 1,
      "outputs": [
        {
          "output_type": "stream",
          "name": "stdout",
          "text": [
            "Successfully installed colorama-0.4.6\n",
            "Requirement already satisfied: typing-extensions>=4.12.2 in /usr/local/lib/python3.10/dist-packages (from pydantic>=2.7.0->albumentations) (4.12.2)\n",
            "Successfully installed yacs-0.1.8\n",
            "Successfully installed fvcore-0.1.5.post20221221 iopath-0.1.10 portalocker-3.1.1\n",
            "Requirement already satisfied: tqdm in /usr/local/lib/python3.10/dist-packages (4.67.1)\n"
          ]
        }
      ]
    },
    {
      "cell_type": "markdown",
      "source": [
        "Generic Imports: here we import all generic libraries required from now on; more specific libraries will be imported later."
      ],
      "metadata": {
        "id": "0vVQKlhgkbOB"
      }
    },
    {
      "cell_type": "code",
      "source": [
        "# miscellaneous\n",
        "import os\n",
        "import glob\n",
        "from enum import Enum\n",
        "import gdown\n",
        "import numpy as np\n",
        "\n",
        "# torch basics\n",
        "import torch\n",
        "from torch.utils.data import DataLoader\n",
        "from torch.utils.data import Dataset\n",
        "import torch.nn as nn\n",
        "import torch.nn.functional as F\n",
        "import torch.optim as optim\n",
        "\n",
        "# image management\n",
        "import torchvision\n",
        "from torchvision import transforms\n",
        "import albumentations\n",
        "from PIL import Image\n",
        "\n",
        "# logging and printing\n",
        "import logging\n",
        "from colorama import Fore, Back, Style\n",
        "from tqdm.auto import tqdm\n",
        "\n",
        "None # suppress output"
      ],
      "metadata": {
        "id": "3s8kdM5oGGr1",
        "outputId": "b450c051-0822-47be-ecc9-78a0ee3d160a",
        "colab": {
          "base_uri": "https://localhost:8080/"
        }
      },
      "execution_count": 2,
      "outputs": [
        {
          "output_type": "stream",
          "name": "stderr",
          "text": [
            "/usr/local/lib/python3.10/dist-packages/albumentations/__init__.py:24: UserWarning: A new version of Albumentations is available: 1.4.24 (you have 1.4.20). Upgrade using: pip install -U albumentations. To disable automatic update checks, set the environment variable NO_ALBUMENTATIONS_UPDATE to 1.\n",
            "  check_for_updates()\n"
          ]
        }
      ]
    },
    {
      "cell_type": "markdown",
      "source": [
        "General Configuration:"
      ],
      "metadata": {
        "id": "f3N9EoQoVgC-"
      }
    },
    {
      "cell_type": "code",
      "source": [
        "DBG = False                   # set to True for debug mode (lighter execution + dbg prints)\n",
        "CONFIG_DATASET = True         # set to True to download and config all dataset resources\n",
        "CONFIG_DEEPLABV2 = True       # set to True to download and config all DeepLabv2 resources\n",
        "CONFIG_PIDNET = True          # set to True to download and config all PIDNET resources\n",
        "\n",
        "DEVICE = \"cuda\" if torch.cuda.is_available() else \"cpu\"\n",
        "print(f\"Using device: {DEVICE}\")\n",
        "TRAIN_PATH = \"Train\"          # path of the train folder\n",
        "VAL_PATH = \"Val\"              # path of the val folder\n",
        "TEST_PATH = \"Test\"            # path of the test folder\n",
        "\n",
        "DEEPLABV2_PRETRAIN_WEIGHTS_PATH = \"deeplabv2-pretrain-weights.pth\"  # path of the deeplabv2 pretrain weights\n",
        "PIDNET_PRETRAIN_WEIGHTS_PATH = \"PIDNet/pretrained_models/imagenet/imagenet.pth.tar\" # path of the PIDNet pretrain weights\n",
        "\n",
        "MODELS_FOLDER = \"saved_models\"\n",
        "DEEPLABV2_FINAL_WEIGHTS_PATH = MODELS_FOLDER + \"/deeplab_v2.pth\"\n",
        "PIDNET_FINAL_WEIGHTS_PATH = MODELS_FOLDER + \"/pidnet.pth\"\n",
        "PIDNET_DACS_FINAL_WEIGHTS_PATH = MODELS_FOLDER + \"/pidnet_DACS.pth\"\n",
        "if not os.path.isdir(MODELS_FOLDER):\n",
        "    os.makedirs(MODELS_FOLDER)\n"
      ],
      "metadata": {
        "id": "yacl9RktR8Fb",
        "outputId": "9991abb4-e1db-4e37-f115-10956483fc22",
        "colab": {
          "base_uri": "https://localhost:8080/"
        }
      },
      "execution_count": 3,
      "outputs": [
        {
          "output_type": "stream",
          "name": "stdout",
          "text": [
            "Using device: cuda\n"
          ]
        }
      ]
    },
    {
      "cell_type": "markdown",
      "source": [
        "function to download datasets:"
      ],
      "metadata": {
        "id": "BPING-HIYj5V"
      }
    },
    {
      "cell_type": "code",
      "execution_count": 4,
      "metadata": {
        "id": "QlswjyfJoZbu"
      },
      "outputs": [],
      "source": [
        "def config_generic_dataset(DS_PATHNAME,URL):\n",
        "  !rm -rf {DS_PATHNAME}\n",
        "  ZIP_PATH = DS_PATHNAME + \".zip\"\n",
        "  !rm {ZIP_PATH}\n",
        "  !wget -O {ZIP_PATH} {URL}\n",
        "  !unzip {ZIP_PATH} | tail -n 3\n",
        "  !rm {ZIP_PATH}\n",
        "\n",
        "def config_train_dataset():\n",
        "  config_generic_dataset(TRAIN_PATH, \"https://zenodo.org/records/5706578/files/Train.zip?download=1\")\n",
        "def config_val_dataset():\n",
        "  config_generic_dataset(VAL_PATH, \"https://zenodo.org/records/5706578/files/Val.zip?download=1\")\n",
        "def config_test_dataset():\n",
        "  config_generic_dataset(TEST_PATH, \"https://zenodo.org/records/5706578/files/Test.zip?download=1\")\n",
        "\n",
        "def config_all_dataset(*,force=False):\n",
        "  print(\"Dowloading and Configuring Dataset\")\n",
        "  if force or (not os.path.exists(TRAIN_PATH)):\n",
        "    config_train_dataset()\n",
        "  if force or (not os.path.exists(VAL_PATH)):\n",
        "    config_val_dataset()\n",
        "  if force or (not os.path.exists(TEST_PATH)):\n",
        "    config_test_dataset()"
      ]
    },
    {
      "cell_type": "markdown",
      "source": [
        "function to download and configure deeplabv2 model library (_with R101 backbone_) and the pretrain weights:"
      ],
      "metadata": {
        "id": "OYvs6ukiaWXn"
      }
    },
    {
      "cell_type": "code",
      "source": [
        "def config_deeplabv2_model():\n",
        "  print(\"Dowloading and Configuring DeepLabv2 Model\")\n",
        "  import sys\n",
        "  import gdown\n",
        "  !rm -rf \"MLDL2024_project1\"\n",
        "  !git clone https://github.com/Gabrysse/MLDL2024_project1.git\n",
        "  sys.path.append(\"/content/MLDL2024_project1/\")\n",
        "  gdown.download(\"https://drive.google.com/uc?id=1ZX0UCXvJwqd2uBGCX7LI2n-DfMg3t74v\", DEEPLABV2_PRETRAIN_WEIGHTS_PATH, quiet=False)\n",
        "  gdown.download(\"https://drive.google.com/uc?id=15eXpt8tqLK_mgReNP58Q37wFwnA4RF_n\", DEEPLABV2_FINAL_WEIGHTS_PATH, quiet=False)\n"
      ],
      "metadata": {
        "id": "ILWYQBnQZvj8"
      },
      "execution_count": 5,
      "outputs": []
    },
    {
      "cell_type": "markdown",
      "source": [
        "function to download and configure pidnet model library and the pretrain weights:"
      ],
      "metadata": {
        "id": "sSV3px5dN3kb"
      }
    },
    {
      "cell_type": "code",
      "source": [
        "def config_pidnet():\n",
        "  import sys\n",
        "  import gdown\n",
        "  print(\"Dowloading and Configuring PIDNET Model\")\n",
        "  !rm -rf \"PIDNet\"\n",
        "  !git clone https://github.com/XuJiacong/PIDNet.git\n",
        "  sys.path.append(\"/content/PIDNet/\")\n",
        "  gdown.download(\"https://drive.google.com/uc?id=1hIBp_8maRr60-B3PF0NVtaA6TYBvO4y-\", PIDNET_PRETRAIN_WEIGHTS_PATH, quiet=False)\n",
        "  gdown.download(\"https://drive.google.com/uc?id=1kwpTYYbqs4BNYsw12j9Zth81sOKbMzFU\", PIDNET_FINAL_WEIGHTS_PATH, quiet=False)\n"
      ],
      "metadata": {
        "id": "ltKuPIAaN5WC"
      },
      "execution_count": 6,
      "outputs": []
    },
    {
      "cell_type": "code",
      "source": [
        "if CONFIG_DATASET:\n",
        "  config_all_dataset()\n",
        "if CONFIG_DEEPLABV2:\n",
        "  config_deeplabv2_model()\n",
        "if CONFIG_PIDNET:\n",
        "  config_pidnet()"
      ],
      "metadata": {
        "id": "jklZ1NAorsGq",
        "outputId": "aa9b0812-e884-4510-8db4-062749274245",
        "colab": {
          "base_uri": "https://localhost:8080/"
        }
      },
      "execution_count": 7,
      "outputs": [
        {
          "output_type": "stream",
          "name": "stdout",
          "text": [
            "Dowloading and Configuring Dataset\n",
            "rm: cannot remove 'Train.zip': No such file or directory\n",
            "--2025-01-07 20:31:47--  https://zenodo.org/records/5706578/files/Train.zip?download=1\n",
            "Resolving zenodo.org (zenodo.org)... 188.185.45.92, 188.185.43.25, 188.185.48.194, ...\n",
            "Connecting to zenodo.org (zenodo.org)|188.185.45.92|:443... connected.\n",
            "HTTP request sent, awaiting response... 200 OK\n",
            "Length: 4021669263 (3.7G) [application/octet-stream]\n",
            "Saving to: ‘Train.zip’\n",
            "\n",
            "Train.zip           100%[===================>]   3.75G  11.8MB/s    in 5m 30s  \n",
            "\n",
            "2025-01-07 20:37:18 (11.6 MB/s) - ‘Train.zip’ saved [4021669263/4021669263]\n",
            "\n",
            "  inflating: Train/Urban/masks_png/2519.png  \n",
            "  inflating: Train/Urban/masks_png/2520.png  \n",
            "  inflating: Train/Urban/masks_png/2521.png  \n",
            "rm: cannot remove 'Val.zip': No such file or directory\n",
            "--2025-01-07 20:37:58--  https://zenodo.org/records/5706578/files/Val.zip?download=1\n",
            "Resolving zenodo.org (zenodo.org)... 188.185.43.25, 188.185.45.92, 188.185.48.194, ...\n",
            "Connecting to zenodo.org (zenodo.org)|188.185.43.25|:443... connected.\n",
            "HTTP request sent, awaiting response... 200 OK\n",
            "Length: 2425958254 (2.3G) [application/octet-stream]\n",
            "Saving to: ‘Val.zip’\n",
            "\n",
            "Val.zip             100%[===================>]   2.26G  17.4MB/s    in 2m 20s  \n",
            "\n",
            "2025-01-07 20:40:19 (16.6 MB/s) - ‘Val.zip’ saved [2425958254/2425958254]\n",
            "\n",
            "  inflating: Val/Urban/masks_png/4188.png  \n",
            "  inflating: Val/Urban/masks_png/4189.png  \n",
            "  inflating: Val/Urban/masks_png/4190.png  \n",
            "rm: cannot remove 'Test.zip': No such file or directory\n",
            "--2025-01-07 20:40:41--  https://zenodo.org/records/5706578/files/Test.zip?download=1\n",
            "Resolving zenodo.org (zenodo.org)... 188.185.48.194, 188.185.43.25, 188.185.45.92, ...\n",
            "Connecting to zenodo.org (zenodo.org)|188.185.48.194|:443... connected.\n",
            "HTTP request sent, awaiting response... 200 OK\n",
            "Length: 3126023212 (2.9G) [application/octet-stream]\n",
            "Saving to: ‘Test.zip’\n",
            "\n",
            "Test.zip            100%[===================>]   2.91G  18.0MB/s    in 2m 53s  \n",
            "\n",
            "2025-01-07 20:43:35 (17.2 MB/s) - ‘Test.zip’ saved [3126023212/3126023212]\n",
            "\n",
            " extracting: Test/Urban/images_png/5984.png  \n",
            " extracting: Test/Urban/images_png/5985.png  \n",
            " extracting: Test/Urban/images_png/5986.png  \n",
            "Dowloading and Configuring DeepLabv2 Model\n",
            "Cloning into 'MLDL2024_project1'...\n",
            "remote: Enumerating objects: 34, done.\u001b[K\n",
            "remote: Counting objects: 100% (18/18), done.\u001b[K\n",
            "remote: Compressing objects: 100% (14/14), done.\u001b[K\n",
            "remote: Total 34 (delta 8), reused 4 (delta 4), pack-reused 16 (from 1)\u001b[K\n",
            "Receiving objects: 100% (34/34), 12.06 KiB | 12.06 MiB/s, done.\n",
            "Resolving deltas: 100% (8/8), done.\n"
          ]
        },
        {
          "output_type": "stream",
          "name": "stderr",
          "text": [
            "Downloading...\n",
            "From (original): https://drive.google.com/uc?id=1ZX0UCXvJwqd2uBGCX7LI2n-DfMg3t74v\n",
            "From (redirected): https://drive.google.com/uc?id=1ZX0UCXvJwqd2uBGCX7LI2n-DfMg3t74v&confirm=t&uuid=70c49334-087f-4a76-896d-ac60b3154499\n",
            "To: /content/deeplabv2-pretrain-weights.pth\n",
            "100%|██████████| 177M/177M [00:05<00:00, 32.7MB/s]\n",
            "Downloading...\n",
            "From (original): https://drive.google.com/uc?id=15eXpt8tqLK_mgReNP58Q37wFwnA4RF_n\n",
            "From (redirected): https://drive.google.com/uc?id=15eXpt8tqLK_mgReNP58Q37wFwnA4RF_n&confirm=t&uuid=d05d26ce-68a7-4dd4-8a86-aa7fd3958777\n",
            "To: /content/saved_models/deeplab_v2.pth\n",
            "100%|██████████| 173M/173M [00:03<00:00, 56.2MB/s]\n"
          ]
        },
        {
          "output_type": "stream",
          "name": "stdout",
          "text": [
            "Dowloading and Configuring PIDNET Model\n",
            "Cloning into 'PIDNet'...\n",
            "remote: Enumerating objects: 386, done.\u001b[K\n",
            "remote: Counting objects: 100% (193/193), done.\u001b[K\n",
            "remote: Compressing objects: 100% (68/68), done.\u001b[K\n",
            "remote: Total 386 (delta 131), reused 125 (delta 125), pack-reused 193 (from 1)\u001b[K\n",
            "Receiving objects: 100% (386/386), 212.80 MiB | 16.10 MiB/s, done.\n",
            "Resolving deltas: 100% (184/184), done.\n"
          ]
        },
        {
          "output_type": "stream",
          "name": "stderr",
          "text": [
            "Downloading...\n",
            "From: https://drive.google.com/uc?id=1hIBp_8maRr60-B3PF0NVtaA6TYBvO4y-\n",
            "To: /content/PIDNet/pretrained_models/imagenet/imagenet.pth.tar\n",
            "100%|██████████| 38.1M/38.1M [00:00<00:00, 52.6MB/s]\n",
            "Downloading...\n",
            "From (original): https://drive.google.com/uc?id=1kwpTYYbqs4BNYsw12j9Zth81sOKbMzFU\n",
            "From (redirected): https://drive.google.com/uc?id=1kwpTYYbqs4BNYsw12j9Zth81sOKbMzFU&confirm=t&uuid=80676456-ec25-4235-82c1-ab840a537e65\n",
            "To: /content/saved_models/pidnet.pth\n",
            "100%|██████████| 31.1M/31.1M [00:00<00:00, 42.3MB/s]\n"
          ]
        }
      ]
    },
    {
      "cell_type": "code",
      "source": [
        "def dbgp(name,value):\n",
        "  \"\"\" Debug print function \"\"\"\n",
        "  if DBG:\n",
        "    print(f\"{Fore.BLACK}{Back.GREEN}{Style.BRIGHT}{name}:\\t{value}{Fore.RESET}{Back.RESET}{Style.RESET_ALL}\")"
      ],
      "metadata": {
        "id": "Lbd-G8xDYRu5"
      },
      "execution_count": 8,
      "outputs": []
    },
    {
      "cell_type": "markdown",
      "source": [
        "## Data Preparation\n",
        "\n",
        "Here we want to create the DataSet class and define the interfaces to use it."
      ],
      "metadata": {
        "id": "T30UDU6NBlLC"
      }
    },
    {
      "cell_type": "markdown",
      "source": [
        "First let's define some parameters about data:"
      ],
      "metadata": {
        "id": "O79ygl6vuWZZ"
      }
    },
    {
      "cell_type": "code",
      "source": [
        "NUM_CLASSES = 7\n",
        "BATCH_SIZE = 2 if DBG else 16\n",
        "IMAGENET_MEAN = (0.485, 0.456, 0.406)\n",
        "IMAGENET_STDDEV = (0.229, 0.224, 0.225)"
      ],
      "metadata": {
        "id": "eHgaJ5Z_3tvs"
      },
      "execution_count": 9,
      "outputs": []
    },
    {
      "cell_type": "markdown",
      "source": [
        "we define the transformation to apply on the dataset using albumentations in order to automatically distinguish which transformation must be applied on both images and masks and which others must be applied only on images:"
      ],
      "metadata": {
        "id": "fxKyU0_WpAFS"
      }
    },
    {
      "cell_type": "code",
      "source": [
        "import albumentations as ALB\n",
        "from albumentations.pytorch import ToTensorV2\n",
        "\n",
        "train_transform = ALB.Compose([\n",
        "      ALB.Resize(256,256),\n",
        "      ALB.Normalize(mean=IMAGENET_MEAN, std=IMAGENET_STDDEV),\n",
        "      ToTensorV2()\n",
        "  ])\n",
        "\n",
        "test_transform = ALB.Compose([\n",
        "    ALB.Resize(256,256),\n",
        "    ALB.Normalize(mean=IMAGENET_MEAN, std=IMAGENET_STDDEV),\n",
        "    ToTensorV2()\n",
        "])\n"
      ],
      "metadata": {
        "id": "IbuKjlvxKXiD"
      },
      "execution_count": 10,
      "outputs": []
    },
    {
      "cell_type": "markdown",
      "source": [
        "then we define the `COLOR_MAP` used to interpretate the mask representation:"
      ],
      "metadata": {
        "id": "mEo-3gWjpNgE"
      }
    },
    {
      "cell_type": "code",
      "source": [
        "# taken from official repo of LoveDA\n",
        "IGNORE_INDEX = -1\n",
        "COLOR_MAP = {\n",
        "    IGNORE_INDEX:\"IGNORE\",\n",
        "    0:\"Background\",\n",
        "    1:\"Building\",\n",
        "    2:\"Road\",\n",
        "    3:\"Water\",\n",
        "    4:\"Barren\",\n",
        "    5:\"Forest\",\n",
        "    6:\"Agricultural\"\n",
        "}\n",
        "CLASSES = list(key for key in COLOR_MAP.keys() if COLOR_MAP[key] != \"IGNORE\")"
      ],
      "metadata": {
        "id": "ke4pX0Bvpohi"
      },
      "execution_count": 11,
      "outputs": []
    },
    {
      "cell_type": "markdown",
      "source": [
        "finally, we can define the `LoveDA` class, used to create dataset instances; in addition, we define:\n",
        "- `DataType` *enum* class, used to choose what dataset to instantiate;\n",
        "- `pil_loader` function, to load images and masks"
      ],
      "metadata": {
        "id": "KdSSJ3pwpV9_"
      }
    },
    {
      "cell_type": "code",
      "source": [
        "def pil_loader(path,*,format:str=\"RGB\"):\n",
        "    # open path as file to avoid ResourceWarning (https://github.com/python-pillow/Pillow/issues/835)\n",
        "    with open(path, 'rb') as f:\n",
        "        img = Image.open(f)\n",
        "        return img.convert(format)\n",
        "\n",
        "class DataType(Enum):\n",
        "  RURAL = 0\n",
        "  URBAN = 1\n",
        "\n",
        "class LoveDA(Dataset):\n",
        "  def __init__(self, basedir, data_type:DataType, transforms=None):\n",
        "    #super(LoveDA, self).__init__(basedir, transforms, target_transform) # should we do this??\n",
        "    if data_type == DataType.RURAL:\n",
        "        self.base_path = os.path.join(basedir, \"Rural\")\n",
        "    else: #data_type == DataType.URBAN:\n",
        "        self.base_path = os.path.join(basedir, \"Urban\")\n",
        "\n",
        "\n",
        "    # list of integers that identifies paths relative to both images_png and masks_png\n",
        "    self.int_pathrefs = os.listdir(os.path.join(self.base_path, \"images_png\"))\n",
        "    self.int_pathrefs = list(int(st.split(\".\")[0]) for st in self.int_pathrefs)\n",
        "\n",
        "    # DEBUG PRINT\n",
        "    if DBG:\n",
        "      self.int_pathrefs = self.int_pathrefs[:15] # limit the dataset for debug\n",
        "\n",
        "    self.transforms = transforms\n",
        "\n",
        "  def __getitem__(self, idx):\n",
        "    assert idx < len(self), 'Index out of range'\n",
        "    image_path = os.path.join(self.base_path, \"images_png\", str(self.int_pathrefs[idx]) + \".png\")\n",
        "    mask_path = os.path.join(self.base_path, \"masks_png\", str(self.int_pathrefs[idx]) + \".png\")\n",
        "    image = pil_loader(image_path,format=\"RGB\")\n",
        "    mask = pil_loader(mask_path,format=\"L\")\n",
        "\n",
        "    # Convert PIL images to numpy arrays\n",
        "    image = np.array(image)\n",
        "    mask = np.array(mask, dtype=np.int8)\n",
        "\n",
        "    if self.transforms is not None:\n",
        "      augmented = self.transforms(image=image, mask=mask)\n",
        "      image = augmented[\"image\"]\n",
        "      mask = augmented[\"mask\"]\n",
        "\n",
        "    mask -= 1\n",
        "\n",
        "    return image, mask\n",
        "\n",
        "  def __len__(self):\n",
        "    return len(self.int_pathrefs)\n"
      ],
      "metadata": {
        "id": "-pTgwB0k1wWA"
      },
      "execution_count": 12,
      "outputs": []
    },
    {
      "cell_type": "markdown",
      "source": [
        "we can therefore use the former classes to instantiate the dataset and dataloader objects that we're going to use later:"
      ],
      "metadata": {
        "id": "IM4YgB0UpzD8"
      }
    },
    {
      "cell_type": "code",
      "source": [
        "# Urban Datasets (train, val, test)\n",
        "urban_train = LoveDA(TRAIN_PATH, DataType.URBAN, transforms=train_transform)\n",
        "urban_val = LoveDA(VAL_PATH, DataType.URBAN, transforms=test_transform)\n",
        "\n",
        "# Urban Dataloaders (train, val, test)\n",
        "\n",
        "NUM_WORKERS = 2 if DBG else 4\n",
        "urban_train_dataloader = DataLoader(urban_train, batch_size=BATCH_SIZE, shuffle=True, num_workers=NUM_WORKERS, drop_last=True)\n",
        "urban_val_dataloader = DataLoader(urban_val, shuffle=False, num_workers=NUM_WORKERS, drop_last=False)"
      ],
      "metadata": {
        "id": "AeG5O3GoDj5b",
        "outputId": "65d83864-df99-46b9-cceb-0d558f842e27",
        "colab": {
          "base_uri": "https://localhost:8080/"
        }
      },
      "execution_count": 13,
      "outputs": [
        {
          "output_type": "stream",
          "name": "stderr",
          "text": [
            "/usr/local/lib/python3.10/dist-packages/torch/utils/data/dataloader.py:617: UserWarning: This DataLoader will create 4 worker processes in total. Our suggested max number of worker in current system is 2, which is smaller than what this DataLoader is going to create. Please be aware that excessive worker creation might get DataLoader running slow or even freeze, lower the worker number to avoid potential slowness/freeze if necessary.\n",
            "  warnings.warn(\n"
          ]
        }
      ]
    },
    {
      "cell_type": "markdown",
      "source": [
        "## Utilities\n",
        "\n",
        "Now we define some utilities useful for different purposes."
      ],
      "metadata": {
        "id": "-gMadJ5mzm0w"
      }
    },
    {
      "cell_type": "markdown",
      "source": [
        "First we define the `IoUMeter` class, useful to compute IoU for classes and over the whole set:"
      ],
      "metadata": {
        "id": "iY0Z5CfNsq7e"
      }
    },
    {
      "cell_type": "code",
      "source": [
        "EPSILON_IOU = 1e-7\n",
        "\n",
        "class IoUMeter:\n",
        "  total_intersection_per_class:dict\n",
        "  total_union_per_class:dict\n",
        "\n",
        "  def __init__(self):\n",
        "    self.total_intersection_per_class = {cls: 0 for cls in CLASSES}\n",
        "    self.total_union_per_class = {cls: 0 for cls in CLASSES}\n",
        "  def zero(self):\n",
        "    self.total_intersection_per_class = {cls: 0 for cls in CLASSES}\n",
        "    self.total_union_per_class = {cls: 0 for cls in CLASSES}\n",
        "  def addCouple(self,predicted,labels):\n",
        "    for cls in CLASSES:\n",
        "      true_mask = (labels == cls)  # Crea una maschera booleana per la classe `cls` nel target\n",
        "      pred_mask = (predicted == cls)  # Crea una maschera booleana per la classe `cls` nelle predizioni\n",
        "\n",
        "      # Calcola l'intersezione e l'unione per quella classe\n",
        "      intersection = torch.logical_and(true_mask, pred_mask).sum().item()\n",
        "      union = torch.logical_or(true_mask, pred_mask).sum().item()\n",
        "\n",
        "      # Aggiungi i valori all'array totale di intersezione e unione per ogni classe\n",
        "      self.total_intersection_per_class[cls] += intersection\n",
        "      self.total_union_per_class[cls] += union\n",
        "  def getPerClass(self):\n",
        "    return { cls: self.total_intersection_per_class[cls] / (self.total_union_per_class[cls] + EPSILON_IOU) for cls in CLASSES }\n",
        "  def getTotal(self):\n",
        "    class_IoUs = self.getPerClass()\n",
        "    return sum(class_IoUs.values()) / NUM_CLASSES\n",
        "\n"
      ],
      "metadata": {
        "id": "U0XFATjCrC-0"
      },
      "execution_count": 14,
      "outputs": []
    },
    {
      "cell_type": "markdown",
      "source": [
        "now we define a plotter to shrink lines of code in loops:"
      ],
      "metadata": {
        "id": "zHXYJmvZws4a"
      }
    },
    {
      "cell_type": "code",
      "source": [
        "class StatPlotMode(Enum):\n",
        "  TRAINING = 0\n",
        "  VALIDATION = 1\n",
        "  TESTING = 2\n",
        "\n",
        "  def __str__(self):\n",
        "    return self.name\n",
        "\n",
        "def stat_plot(avg_loss,iou_meter:IoUMeter,*,mode:StatPlotMode,epoch=None):\n",
        "  mean_IoU = iou_meter.getTotal()\n",
        "  if mode==StatPlotMode.TRAINING:\n",
        "    print(Fore.GREEN + Style.NORMAL + 'TRAINING RESULTS (@epoch={}): mean Loss = {:.3f} | mean-IoU = {:.3f}'.format(epoch + 1, avg_loss, mean_IoU)+Style.RESET_ALL)\n",
        "  elif mode==StatPlotMode.VALIDATION:\n",
        "    print(Fore.BLACK + Back.YELLOW + Style.BRIGHT + 'VALIDATION RESULTS (@epoch={}): mean Loss = {:.3f} | mean-IoU = {:.3f}'.format(epoch+1, avg_loss, mean_IoU)+Style.RESET_ALL)\n",
        "  else:\n",
        "    print(Fore.BLACK + Back.GREEN + Style.BRIGHT + 'TEST RESULTS on VALIDATION SET: mean Loss = {:.3f} | mean-IoU = {:.3f}'.format(avg_loss, mean_IoU)+Style.RESET_ALL)\n",
        "\n",
        "  if mode != StatPlotMode.TRAINING:\n",
        "    # print IoU for each\n",
        "    print(Fore.CYAN + Style.NORMAL + \"Class-wise IoUs:\"+ Style.RESET_ALL)\n",
        "    class_IoUs = iou_meter.getPerClass()\n",
        "    for cls in CLASSES:\n",
        "        print(Fore.WHITE + Style.DIM + f\"Class {cls} ({COLOR_MAP[cls]}): IoU = {class_IoUs[cls]:.3f}\"+ Style.RESET_ALL)\n"
      ],
      "metadata": {
        "id": "VHaryQWxwyDQ"
      },
      "execution_count": 15,
      "outputs": []
    },
    {
      "cell_type": "markdown",
      "source": [
        "flops, parameters and latency are computed for a model using the function `analyze_model`"
      ],
      "metadata": {
        "id": "GnvvgQgYkX6K"
      }
    },
    {
      "cell_type": "code",
      "source": [
        "from fvcore.nn import FlopCountAnalysis, parameter_count\n",
        "\n",
        "import warnings\n",
        "from torch.backends import cudnn\n",
        "\n",
        "def analyze_model(model,*,iterations=100,batch_size=1):\n",
        "\n",
        "  warnings.filterwarnings('ignore')\n",
        "  cudnn.benchmark\n",
        "  CUDA_LAUNCH_BLOCKING=1\n",
        "\n",
        "  # Set the model to evaluation mode to avoid issues with batch normalization\n",
        "  model.eval()\n",
        "  model.training=False\n",
        "\n",
        "  # test images batch (zeroes)\n",
        "  height = 256\n",
        "  width = 256\n",
        "  image = torch.zeros((batch_size,3, height, width)).to(DEVICE)\n",
        "\n",
        "  flops = FlopCountAnalysis(model, image)\n",
        "  params = parameter_count(model)['']\n",
        "  print(f\"Model FLOPs: {flops.total()}\")\n",
        "  print(f\"Model Parameters: {params}\")\n",
        "\n",
        "  # latency compute\n",
        "  latency = list()\n",
        "  start_event = torch.cuda.Event(enable_timing=True)\n",
        "  end_event = torch.cuda.Event(enable_timing=True)\n",
        "  for _ in tqdm(range(iterations)):\n",
        "    start_event.record()  # Record start time on GPU\n",
        "    _ = model(image)      # Run inference\n",
        "    end_event.record()    # Record end time on GPU\n",
        "\n",
        "    # Wait for GPU synchronization to ensure accurate timing\n",
        "    torch.cuda.synchronize()\n",
        "\n",
        "    # Calculate time elapsed in milliseconds\n",
        "    latency.append(start_event.elapsed_time(end_event))\n",
        "  avg_latency = sum(latency) / len(latency)\n",
        "  print(f\"Average latency: {avg_latency:.2f} ms\")"
      ],
      "metadata": {
        "id": "Ii2UIGX2zlsi"
      },
      "execution_count": 16,
      "outputs": []
    },
    {
      "cell_type": "markdown",
      "source": [
        "the model weights can be saved and reloaded using the following functions:"
      ],
      "metadata": {
        "id": "yoaCT5cTkgLa"
      }
    },
    {
      "cell_type": "code",
      "source": [
        "def save_model_weights(model,save_path):\n",
        "  print(f\"Saving Model to {save_path}...\")\n",
        "  torch.save(model.state_dict(), save_path)\n",
        "  print(\"Done!\")\n",
        "\n",
        "def load_model_weights(model, weights_path):\n",
        "    if weights_path is None:\n",
        "        return model\n",
        "    weights_dict = torch.load(weights_path, map_location=torch.device(DEVICE))\n",
        "    if 'state_dict' in weights_dict:\n",
        "        weights_dict = weights_dict['state_dict']\n",
        "    model.load_state_dict(weights_dict, strict = False)\n",
        "    msg = 'Loaded {} parameters!'.format(len(weights_dict))\n",
        "    return model\n"
      ],
      "metadata": {
        "id": "YiUKhz3_klr5"
      },
      "execution_count": 17,
      "outputs": []
    },
    {
      "cell_type": "markdown",
      "source": [
        "## DeepLabv2 on LoveDA (Urban)"
      ],
      "metadata": {
        "id": "WtPDArP74Vie"
      }
    },
    {
      "cell_type": "code",
      "source": [
        "LR = 2e-4               # The initial Learning Rate\n",
        "MOMENTUM = 0.9          # Hyperparameter for SGD, keep this at 0.9 when using SGD\n",
        "WEIGHT_DECAY = 5e-4     # Regularization, you can keep this at the default\n",
        "NUM_EPOCHS = 20         # Total number of training epochs (iterations over dataset)\n",
        "STEP_SIZE = [10, 15]    # How many epochs before decreasing learning rate (if using a step-down policy)\n",
        "GAMMA = 0.1             # Multiplicative factor for learning rate step-down"
      ],
      "metadata": {
        "id": "MmsIRKlQ3x8C"
      },
      "execution_count": 18,
      "outputs": []
    },
    {
      "cell_type": "markdown",
      "source": [
        "Get DeepLabv2 model with pretrain weights:"
      ],
      "metadata": {
        "id": "PklC_MDk1z31"
      }
    },
    {
      "cell_type": "code",
      "source": [
        "from MLDL2024_project1.models.deeplabv2 import deeplabv2\n",
        "\n",
        "model = deeplabv2.get_deeplab_v2(num_classes=NUM_CLASSES,pretrain=True,pretrain_model_path=DEEPLABV2_PRETRAIN_WEIGHTS_PATH)\n",
        "model_name = \"deeplab_v2\"\n",
        "weights_path = DEEPLABV2_FINAL_WEIGHTS_PATH"
      ],
      "metadata": {
        "id": "CCfB1vwkWB7e",
        "outputId": "9e5e1f33-60b9-42cb-be3d-5a3d4f7ac3cd",
        "colab": {
          "base_uri": "https://localhost:8080/"
        }
      },
      "execution_count": 19,
      "outputs": [
        {
          "output_type": "stream",
          "name": "stdout",
          "text": [
            "Deeplab pretraining loading...\n"
          ]
        },
        {
          "output_type": "stream",
          "name": "stderr",
          "text": [
            "/content/MLDL2024_project1/models/deeplabv2/deeplabv2.py:180: FutureWarning: You are using `torch.load` with `weights_only=False` (the current default value), which uses the default pickle module implicitly. It is possible to construct malicious pickle data which will execute arbitrary code during unpickling (See https://github.com/pytorch/pytorch/blob/main/SECURITY.md#untrusted-models for more details). In a future release, the default value for `weights_only` will be flipped to `True`. This limits the functions that could be executed during unpickling. Arbitrary objects will no longer be allowed to be loaded via this mode unless they are explicitly allowlisted by the user via `torch.serialization.add_safe_globals`. We recommend you start setting `weights_only=True` for any use case where you don't have full control of the loaded file. Please open an issue on GitHub for any issues related to this experimental feature.\n",
            "  saved_state_dict = torch.load(pretrain_model_path)\n"
          ]
        }
      ]
    },
    {
      "cell_type": "markdown",
      "source": [
        "### Optimizer, Loss, ecc."
      ],
      "metadata": {
        "id": "eR_jhjxTcxB0"
      }
    },
    {
      "cell_type": "code",
      "source": [
        "# enable validation during training\n",
        "validate = True\n",
        "\n",
        "model = model.to(DEVICE) # switch to GPU\n",
        "\n",
        "# Loss (as said in DeepLabv2 docs)\n",
        "loss_fn = nn.CrossEntropyLoss(ignore_index=IGNORE_INDEX)\n",
        "\n",
        "# Opt\n",
        "trainable_params = [p for p in model.parameters() if p.requires_grad]\n",
        "optimizer_fn = optim.Adam(trainable_params, lr=LR, weight_decay=WEIGHT_DECAY, eps=1e-4)\n",
        "\n",
        "#Scheduler\n",
        "optim_scheduler = optim.lr_scheduler.MultiStepLR(optimizer_fn, milestones=STEP_SIZE, gamma=GAMMA)"
      ],
      "metadata": {
        "id": "gfXbShPFcwrE"
      },
      "execution_count": 20,
      "outputs": []
    },
    {
      "cell_type": "code",
      "source": [
        "logging.getLogger(\"fvcore.nn.jit_analysis\").setLevel(logging.ERROR)\n",
        "analyze_model(model,iterations=1000,batch_size=1)"
      ],
      "metadata": {
        "id": "665ln9zcv8fw",
        "outputId": "3cc23ccd-c327-442c-cce1-d83cf4960cb4",
        "colab": {
          "base_uri": "https://localhost:8080/",
          "height": 101,
          "referenced_widgets": [
            "18e5785e3139418680af20c6f301a39a",
            "8f63611dfb9b42e280ca9f967bf7b0ab",
            "00e18c883cd94154bbbd0945cbe3bfb6",
            "c6f32e844b4741098f74ea7dffd27efd",
            "2bf166517f8745d4b5901c89b4b9f23c",
            "1ed891393004417a9515e9115a053aca",
            "80dc44b0d1784aa58feda22fc8fa63d0",
            "156482b01ab2480f9e9593cf3b26e1dd",
            "72b31bfa0cd147e5b25632d1d526d664",
            "ffc6e66c100948b49453121e88b44bb6",
            "dd9e7aa7f5a14753a4804a3ff37ce2eb"
          ]
        }
      },
      "execution_count": 21,
      "outputs": [
        {
          "output_type": "stream",
          "name": "stdout",
          "text": [
            "Model FLOPs: 47669164800\n",
            "Model Parameters: 43016284\n"
          ]
        },
        {
          "output_type": "display_data",
          "data": {
            "text/plain": [
              "  0%|          | 0/1000 [00:00<?, ?it/s]"
            ],
            "application/vnd.jupyter.widget-view+json": {
              "version_major": 2,
              "version_minor": 0,
              "model_id": "18e5785e3139418680af20c6f301a39a"
            }
          },
          "metadata": {}
        },
        {
          "output_type": "stream",
          "name": "stdout",
          "text": [
            "Average latency: 38.79 ms\n"
          ]
        }
      ]
    },
    {
      "cell_type": "markdown",
      "source": [
        "### Training Loop"
      ],
      "metadata": {
        "id": "zrh_HJ0xbfTB"
      }
    },
    {
      "cell_type": "code",
      "source": [
        "import warnings\n",
        "from torch.backends import cudnn\n",
        "warnings.filterwarnings('ignore')\n",
        "\n",
        "train_iter = 0\n",
        "iterPerEpoch = len(urban_train_dataloader)\n",
        "\n",
        "cudnn.benchmark\n",
        "CUDA_LAUNCH_BLOCKING=1\n",
        "\n",
        "best_IoU = 0\n",
        "\n",
        "for epoch in range(NUM_EPOCHS):\n",
        "    model.train(True)\n",
        "    epoch_loss = 0\n",
        "\n",
        "    iou_meter = IoUMeter()\n",
        "\n",
        "    for i, (inputs, targets) in enumerate(urban_train_dataloader):\n",
        "\n",
        "        optimizer_fn.zero_grad()\n",
        "\n",
        "        # feeds in model\n",
        "        inputs = inputs.to(DEVICE)\n",
        "        labels = targets.long().to(device=DEVICE)\n",
        "        output_logits,_,_ = model(inputs)\n",
        "\n",
        "        # compute loss\n",
        "        loss = loss_fn(output_logits, labels)\n",
        "\n",
        "        # backward loss and optimizer step\n",
        "        loss.backward()\n",
        "        optimizer_fn.step()\n",
        "\n",
        "        #compute the training accuracy\n",
        "        _, predicted = torch.max(output_logits.data, 1)\n",
        "\n",
        "        iou_meter.addCouple(predicted,labels)\n",
        "\n",
        "        step_loss = loss.data.item()\n",
        "        epoch_loss += step_loss\n",
        "\n",
        "    # FINAL EPOCH-WISE COMPUTATIONS\n",
        "    avg_loss = epoch_loss/iterPerEpoch\n",
        "    stat_plot(avg_loss,iou_meter,mode=StatPlotMode.TRAINING,epoch=epoch)\n",
        "\n",
        "    if validate:\n",
        "        iterPerVal = len(urban_val_dataloader)\n",
        "        model.eval()\n",
        "        val_loss = 0\n",
        "        iou_meter = IoUMeter()\n",
        "        for j, (inputs, targets) in enumerate(urban_val_dataloader):\n",
        "\n",
        "            # feeds in model\n",
        "            inputs = inputs.to(DEVICE)\n",
        "            labels = targets.long().to(device=DEVICE)\n",
        "            output_logits = model(inputs)\n",
        "\n",
        "            # compute loss\n",
        "            loss = loss_fn(output_logits, labels)\n",
        "\n",
        "            # compute the training accuracy\n",
        "            _, predicted = torch.max(output_logits.data, 1)\n",
        "\n",
        "            iou_meter.addCouple(predicted,labels)\n",
        "\n",
        "            step_loss = loss.data.item()\n",
        "            val_loss += step_loss\n",
        "\n",
        "\n",
        "        # FINAL EPOCH-WISE COMPUTATIONS\n",
        "        mean_IoU = iou_meter.getTotal()\n",
        "        avg_loss = val_loss/iterPerVal\n",
        "\n",
        "        stat_plot(avg_loss,iou_meter,mode=StatPlotMode.VALIDATION,epoch=epoch)\n",
        "\n",
        "        if mean_IoU > best_IoU:\n",
        "            best_IoU = mean_IoU\n",
        "            save_model_weights(model,weights_path)\n",
        "        # END OF VALIDATION\n",
        "\n",
        "    optim_scheduler.step()\n"
      ],
      "metadata": {
        "id": "LclZQhQQVLt7"
      },
      "execution_count": null,
      "outputs": []
    },
    {
      "cell_type": "markdown",
      "source": [
        "### Testing\n",
        "Now we test using the val dataset:"
      ],
      "metadata": {
        "id": "8-rKPnqx-eRE"
      }
    },
    {
      "cell_type": "code",
      "source": [
        "model = load_model_weights(model,weights_path).to(DEVICE)\n",
        "model.eval()\n",
        "iterPerVal = len(urban_val_dataloader)\n",
        "val_loss = 0\n",
        "iou_meter = IoUMeter()\n",
        "for j, (inputs, targets) in enumerate(urban_val_dataloader):\n",
        "\n",
        "    # feeds in model\n",
        "    inputs = inputs.to(DEVICE)\n",
        "    labels = targets.long().to(device=DEVICE)\n",
        "    output_logits = model(inputs)\n",
        "\n",
        "    # compute loss\n",
        "    loss = loss_fn(output_logits, labels)\n",
        "\n",
        "    # compute the training accuracy\n",
        "    _, predicted = torch.max(output_logits.data, 1)\n",
        "\n",
        "    iou_meter.addCouple(predicted,labels)\n",
        "\n",
        "    step_loss = loss.data.item()\n",
        "    val_loss += step_loss\n",
        "\n",
        "\n",
        "# FINAL EPOCH-WISE COMPUTATIONS\n",
        "\n",
        "avg_loss = val_loss/iterPerVal\n",
        "stat_plot(avg_loss,iou_meter,mode=StatPlotMode.TESTING)"
      ],
      "metadata": {
        "id": "ETSXoJau-daA",
        "outputId": "dfa93171-278b-4843-cd96-2b0485360e72",
        "colab": {
          "base_uri": "https://localhost:8080/"
        }
      },
      "execution_count": 23,
      "outputs": [
        {
          "output_type": "stream",
          "name": "stdout",
          "text": [
            "\u001b[30m\u001b[42m\u001b[1mTEST RESULTS on VALIDATION SET: mean Loss = 1.608 | mean-IoU = 0.384\u001b[0m\n",
            "\u001b[36m\u001b[22mClass-wise IoUs:\u001b[0m\n",
            "\u001b[37m\u001b[2mClass 0 (Background): IoU = 0.304\u001b[0m\n",
            "\u001b[37m\u001b[2mClass 1 (Building): IoU = 0.435\u001b[0m\n",
            "\u001b[37m\u001b[2mClass 2 (Road): IoU = 0.472\u001b[0m\n",
            "\u001b[37m\u001b[2mClass 3 (Water): IoU = 0.611\u001b[0m\n",
            "\u001b[37m\u001b[2mClass 4 (Barren): IoU = 0.195\u001b[0m\n",
            "\u001b[37m\u001b[2mClass 5 (Forest): IoU = 0.356\u001b[0m\n",
            "\u001b[37m\u001b[2mClass 6 (Agricultural): IoU = 0.317\u001b[0m\n"
          ]
        }
      ]
    },
    {
      "cell_type": "markdown",
      "source": [
        "## PIDNet & LoveDA"
      ],
      "metadata": {
        "id": "H39hIKUEQtV1"
      }
    },
    {
      "cell_type": "code",
      "source": [
        "from PIDNet.models.pidnet import PIDNet\n",
        "model = PIDNet(m=2, n=3, num_classes=NUM_CLASSES, planes=32, ppm_planes=96, head_planes=128, augment=True)\n",
        "model = load_model_weights(model,PIDNET_PRETRAIN_WEIGHTS_PATH)\n",
        "weights_path = PIDNET_FINAL_WEIGHTS_PATH"
      ],
      "metadata": {
        "id": "-jN8CpnfQwEb"
      },
      "execution_count": 24,
      "outputs": []
    },
    {
      "cell_type": "markdown",
      "source": [
        "### Optimizer, Loss, ecc."
      ],
      "metadata": {
        "id": "I3e3LLqV2Dpg"
      }
    },
    {
      "cell_type": "code",
      "source": [
        "LR = 2e-4               # The initial Learning Rate\n",
        "MOMENTUM = 0.9          # Hyperparameter for SGD, keep this at 0.9 when using SGD\n",
        "WEIGHT_DECAY = 5e-4     # Regularization, you can keep this at the default\n",
        "NUM_EPOCHS = 20         # Total number of training epochs (iterations over dataset)\n",
        "STEP_SIZE = [10, 15]    # How many epochs before decreasing learning rate (if using a step-down policy)\n",
        "GAMMA = 0.1             # Multiplicative factor for learning rate step-down"
      ],
      "metadata": {
        "id": "bIgMPvc7y1C5"
      },
      "execution_count": 25,
      "outputs": []
    },
    {
      "cell_type": "code",
      "source": [
        "# enable validation during training\n",
        "validate = True\n",
        "\n",
        "model.train()\n",
        "model = model.to(DEVICE) # switch to GPU\n",
        "\n",
        "# loss functions\n",
        "sem_criterion = nn.CrossEntropyLoss(ignore_index=IGNORE_INDEX)\n",
        "\n",
        "#Opt\n",
        "trainable_params = [p for p in model.parameters() if p.requires_grad]\n",
        "optimizer_fn = optim.Adam(trainable_params, lr=LR, weight_decay=WEIGHT_DECAY, eps=1e-4)\n",
        "\n",
        "#Scheduler\n",
        "optim_scheduler = optim.lr_scheduler.MultiStepLR(optimizer_fn, milestones=STEP_SIZE, gamma=GAMMA)\n"
      ],
      "metadata": {
        "id": "6jftNKn4VtYB"
      },
      "execution_count": 26,
      "outputs": []
    },
    {
      "cell_type": "code",
      "source": [
        "analyze_model(model,iterations=1000,batch_size=1)"
      ],
      "metadata": {
        "id": "0a-vTypE5cEY",
        "outputId": "8ca1d3a1-3ca1-4e4a-b429-e3e4b9583030",
        "colab": {
          "base_uri": "https://localhost:8080/",
          "height": 101,
          "referenced_widgets": [
            "cf860ff0811c4d8ca419faeefc26e4f6",
            "637417805a7f4b31b0315049be1d1c61",
            "e2348c84019340e3aa2db63d7da3e43e",
            "8f5758d549f549b78ef073cacd29789e",
            "530dd68f41b946caba051a3e053dbbce",
            "0307e332afff45609e19b1d19b97089b",
            "1f16815b3cf14b8f94a672a6d9b9a123",
            "a3b7f33c209b4fb2955391737c85a350",
            "4cbb06994d76478e90bcda2675454f4a",
            "959583e49d3140eb84489463d55c5789",
            "73277c54cc1a4226bf54a7ba1dd9b063"
          ]
        }
      },
      "execution_count": 27,
      "outputs": [
        {
          "output_type": "stream",
          "name": "stdout",
          "text": [
            "Model FLOPs: 1579333632\n",
            "Model Parameters: 7717839\n"
          ]
        },
        {
          "output_type": "display_data",
          "data": {
            "text/plain": [
              "  0%|          | 0/1000 [00:00<?, ?it/s]"
            ],
            "application/vnd.jupyter.widget-view+json": {
              "version_major": 2,
              "version_minor": 0,
              "model_id": "cf860ff0811c4d8ca419faeefc26e4f6"
            }
          },
          "metadata": {}
        },
        {
          "output_type": "stream",
          "name": "stdout",
          "text": [
            "Average latency: 14.24 ms\n"
          ]
        }
      ]
    },
    {
      "cell_type": "markdown",
      "source": [
        "### Training loop"
      ],
      "metadata": {
        "id": "SCxkIDal2MeM"
      }
    },
    {
      "cell_type": "code",
      "source": [
        "import warnings\n",
        "\n",
        "from torch.backends import cudnn\n",
        "warnings.filterwarnings('ignore')\n",
        "\n",
        "iterPerEpoch = len(urban_train_dataloader)\n",
        "\n",
        "cudnn.benchmark\n",
        "CUDA_LAUNCH_BLOCKING=1\n",
        "\n",
        "best_IoU = 0\n",
        "\n",
        "for epoch in range(NUM_EPOCHS):\n",
        "    model.train()\n",
        "    epoch_loss = 0\n",
        "    iou_meter = IoUMeter()\n",
        "\n",
        "    for i, (inputs, targets) in enumerate(urban_train_dataloader):\n",
        "        optimizer_fn.zero_grad()\n",
        "\n",
        "        # send inputs to gpu\n",
        "        inputs = inputs.to(DEVICE)\n",
        "        labels = targets.long().to(device=DEVICE)\n",
        "\n",
        "        # feeds in the model\n",
        "        output_logits,_,_ = model(inputs)\n",
        "\n",
        "        h, w = labels.size(1), labels.size(2)\n",
        "        ph, pw = output_logits.size(2), output_logits.size(3)\n",
        "        if ph != h or pw != w:\n",
        "          output_logits = F.interpolate(output_logits, size=(h, w), mode='bilinear', align_corners=True)\n",
        "\n",
        "\n",
        "        # compute loss\n",
        "        loss = sem_criterion(output_logits, labels)\n",
        "        \"\"\"\n",
        "        filler = torch.ones_like(labels) * config.TRAIN.IGNORE_LABEL\n",
        "        bd_label = torch.where(F.sigmoid(outputs[-1][:,0,:,:])>0.8, labels, filler)\n",
        "        loss_sb = self.sem_loss(outputs[-2], bd_label)\n",
        "        loss += loss_sb\n",
        "        \"\"\"\n",
        "\n",
        "        # backward loss and optimizer step\n",
        "        loss.backward()\n",
        "        optimizer_fn.step()\n",
        "\n",
        "        #compute the training accuracy\n",
        "        _, predicted = torch.max(output_logits.data, 1)\n",
        "\n",
        "        iou_meter.addCouple(predicted,labels)\n",
        "\n",
        "        step_loss = loss.data.item()\n",
        "        epoch_loss += step_loss\n",
        "\n",
        "    # FINAL EPOCH-WISE COMPUTATIONS\n",
        "    avg_loss = epoch_loss/iterPerEpoch\n",
        "    stat_plot(avg_loss,iou_meter,mode=StatPlotMode.TRAINING,epoch=epoch)\n",
        "\n",
        "    if validate:\n",
        "        model.eval()\n",
        "        val_loss = 0\n",
        "        iterPerVal = len(urban_val_dataloader)\n",
        "        iou_meter = IoUMeter()\n",
        "        for j, (inputs, targets) in enumerate(urban_val_dataloader):\n",
        "\n",
        "            # feeds in model\n",
        "            inputs = inputs.to(DEVICE)\n",
        "            labels = targets.long().to(device=DEVICE)\n",
        "            output_logits,_,_ = model(inputs)\n",
        "            output_logits = F.interpolate(output_logits, size=labels.shape[1:], mode='bilinear', align_corners=True)\n",
        "\n",
        "            # compute loss\n",
        "            loss = sem_criterion(output_logits, labels)\n",
        "\n",
        "            # compute the training accuracy\n",
        "            _, predicted = torch.max(output_logits.data, 1)\n",
        "\n",
        "            iou_meter.addCouple(predicted,labels)\n",
        "\n",
        "            step_loss = loss.data.item()\n",
        "            val_loss += step_loss\n",
        "\n",
        "\n",
        "        # FINAL EPOCH-WISE COMPUTATIONS\n",
        "        avg_loss = val_loss/iterPerVal\n",
        "        mean_IoU = iou_meter.getTotal()\n",
        "\n",
        "        stat_plot(avg_loss,iou_meter,mode=StatPlotMode.VALIDATION,epoch=epoch)\n",
        "\n",
        "        if mean_IoU > best_IoU:\n",
        "            best_IoU = mean_IoU\n",
        "            save_model_weights(model,weights_path)\n",
        "        # END OF VALIDATION\n",
        "\n",
        "    optim_scheduler.step()"
      ],
      "metadata": {
        "id": "s1ajoePG2LVg"
      },
      "execution_count": null,
      "outputs": []
    },
    {
      "cell_type": "markdown",
      "source": [
        "### Testing\n",
        "\n",
        "Now we test using the val dataset:"
      ],
      "metadata": {
        "id": "B6NHXn1qwzSF"
      }
    },
    {
      "cell_type": "code",
      "source": [
        "model = load_model_weights(model,weights_path).to(DEVICE)\n",
        "model.eval()\n",
        "val_loss = 0\n",
        "iterPerVal = len(urban_val_dataloader)\n",
        "iou_meter = IoUMeter()\n",
        "\n",
        "for j, (inputs, targets) in enumerate(urban_val_dataloader):\n",
        "\n",
        "      # feeds in model\n",
        "      inputs = inputs.to(DEVICE)\n",
        "      labels = targets.long().to(device=DEVICE)\n",
        "      output_logits,_,_ = model(inputs)\n",
        "      output_logits = F.interpolate(output_logits, size=labels.shape[1:], mode='bilinear', align_corners=True)\n",
        "\n",
        "      # compute loss\n",
        "      loss = sem_criterion(output_logits, labels)\n",
        "\n",
        "      # compute the training accuracy\n",
        "      _, predicted = torch.max(output_logits.data, 1)\n",
        "\n",
        "      iou_meter.addCouple(predicted,labels)\n",
        "\n",
        "      step_loss = loss.data.item()\n",
        "      val_loss += step_loss\n",
        "\n",
        "\n",
        "# FINAL EPOCH-WISE COMPUTATIONS\n",
        "avg_loss = val_loss/iterPerVal\n",
        "stat_plot(avg_loss,iou_meter,mode=StatPlotMode.TESTING)\n"
      ],
      "metadata": {
        "id": "kSaVi7ZSLfr8",
        "outputId": "e6c72b32-ec4c-4d28-e70b-472ec1b3b48a",
        "colab": {
          "base_uri": "https://localhost:8080/"
        }
      },
      "execution_count": 28,
      "outputs": [
        {
          "output_type": "stream",
          "name": "stdout",
          "text": [
            "\u001b[30m\u001b[42m\u001b[1mTEST RESULTS on VALIDATION SET: mean Loss = 1.540 | mean-IoU = 0.343\u001b[0m\n",
            "\u001b[36m\u001b[22mClass-wise IoUs:\u001b[0m\n",
            "\u001b[37m\u001b[2mClass 0 (Background): IoU = 0.322\u001b[0m\n",
            "\u001b[37m\u001b[2mClass 1 (Building): IoU = 0.405\u001b[0m\n",
            "\u001b[37m\u001b[2mClass 2 (Road): IoU = 0.370\u001b[0m\n",
            "\u001b[37m\u001b[2mClass 3 (Water): IoU = 0.520\u001b[0m\n",
            "\u001b[37m\u001b[2mClass 4 (Barren): IoU = 0.206\u001b[0m\n",
            "\u001b[37m\u001b[2mClass 5 (Forest): IoU = 0.340\u001b[0m\n",
            "\u001b[37m\u001b[2mClass 6 (Agricultural): IoU = 0.239\u001b[0m\n"
          ]
        }
      ]
    },
    {
      "cell_type": "markdown",
      "source": [
        "## Domain Shift"
      ],
      "metadata": {
        "id": "A0Q-Qs-suayQ"
      }
    },
    {
      "cell_type": "markdown",
      "source": [
        "Add dataset and loaders for rural images:"
      ],
      "metadata": {
        "id": "MHvsRn238CvH"
      }
    },
    {
      "cell_type": "code",
      "source": [
        "# Rural Datasets (train, val, test)\n",
        "rural_val = LoveDA(VAL_PATH, DataType.RURAL, transforms=test_transform)\n",
        "\n",
        "# Rural Dataloaders (train, val, test)\n",
        "NUM_WORKERS = 2 if DBG else 4\n",
        "rural_val_dataloader = DataLoader(rural_val, shuffle=False, num_workers=NUM_WORKERS, drop_last=False)\n",
        "weights_path = PIDNET_FINAL_WEIGHTS_PATH"
      ],
      "metadata": {
        "id": "R9W0ouY48CUn"
      },
      "execution_count": 29,
      "outputs": []
    },
    {
      "cell_type": "markdown",
      "source": [
        "first let's test with domain shift:"
      ],
      "metadata": {
        "id": "ulpXoE9TL5NT"
      }
    },
    {
      "cell_type": "code",
      "source": [
        "model = load_model_weights(model,weights_path).to(DEVICE)\n",
        "model.eval()\n",
        "val_loss = 0\n",
        "iterPerVal = len(rural_val_dataloader)\n",
        "iou_meter = IoUMeter()\n",
        "for j, (inputs, targets) in enumerate(rural_val_dataloader):\n",
        "\n",
        "      # feeds in model\n",
        "      inputs = inputs.to(DEVICE)\n",
        "      labels = targets.long().to(device=DEVICE)\n",
        "      output_logits,_,_ = model(inputs)\n",
        "      output_logits = F.interpolate(output_logits, size=labels.shape[1:], mode='bilinear', align_corners=True)\n",
        "\n",
        "      # compute loss\n",
        "      loss = sem_criterion(output_logits, labels)\n",
        "\n",
        "      # compute the training accuracy\n",
        "      _, predicted = torch.max(output_logits.data, 1)\n",
        "\n",
        "      iou_meter.addCouple(predicted,labels)\n",
        "\n",
        "      step_loss = loss.data.item()\n",
        "      val_loss += step_loss\n",
        "\n",
        "# FINAL EPOCH-WISE COMPUTATIONS\n",
        "avg_loss = val_loss/iterPerVal\n",
        "stat_plot(avg_loss,iou_meter,mode=StatPlotMode.TESTING)"
      ],
      "metadata": {
        "id": "87-ZnmV2LreC",
        "colab": {
          "base_uri": "https://localhost:8080/"
        },
        "outputId": "a5525fc4-e54c-42bd-a499-82d9ad9179b7"
      },
      "execution_count": 30,
      "outputs": [
        {
          "output_type": "stream",
          "name": "stdout",
          "text": [
            "\u001b[30m\u001b[42m\u001b[1mTEST RESULTS on VALIDATION SET: mean Loss = 1.806 | mean-IoU = 0.267\u001b[0m\n",
            "\u001b[36m\u001b[22mClass-wise IoUs:\u001b[0m\n",
            "\u001b[37m\u001b[2mClass 0 (Background): IoU = 0.468\u001b[0m\n",
            "\u001b[37m\u001b[2mClass 1 (Building): IoU = 0.283\u001b[0m\n",
            "\u001b[37m\u001b[2mClass 2 (Road): IoU = 0.209\u001b[0m\n",
            "\u001b[37m\u001b[2mClass 3 (Water): IoU = 0.352\u001b[0m\n",
            "\u001b[37m\u001b[2mClass 4 (Barren): IoU = 0.082\u001b[0m\n",
            "\u001b[37m\u001b[2mClass 5 (Forest): IoU = 0.139\u001b[0m\n",
            "\u001b[37m\u001b[2mClass 6 (Agricultural): IoU = 0.333\u001b[0m\n"
          ]
        }
      ]
    },
    {
      "cell_type": "markdown",
      "source": [
        "### Augment\n",
        "Now let's try adding some data augmentation techniques:"
      ],
      "metadata": {
        "id": "ZcVvXHJxxLhI"
      }
    },
    {
      "cell_type": "code",
      "source": [
        "rural_val = LoveDA(VAL_PATH, DataType.RURAL, transforms=test_transform)\n",
        "rural_val_dataloader = DataLoader(rural_val, shuffle=False, num_workers=NUM_WORKERS, drop_last=False)\n",
        "NUM_WORKERS = 2 if DBG else 4"
      ],
      "metadata": {
        "id": "GZNAMEjCQDj7"
      },
      "execution_count": 31,
      "outputs": []
    },
    {
      "cell_type": "code",
      "source": [
        "aug1 = ALB.Compose([\n",
        "          ALB.HorizontalFlip(),\n",
        "          ALB.RandomRotate90(),\n",
        "          ALB.ColorJitter()\n",
        "          ],p= 0.5)\n",
        "aug2 = ALB.Compose([\n",
        "          ALB.RandomBrightnessContrast(),\n",
        "          ALB.RandomGamma(),\n",
        "          ALB.GaussianBlur(),\n",
        "          ],p= 0.5)\n",
        "aug3 = ALB.Compose([\n",
        "          ALB.HorizontalFlip(),\n",
        "          ALB.RandomRotate90(),\n",
        "          ALB.ColorJitter(),\n",
        "          ALB.RandomBrightnessContrast(),\n",
        "          ALB.RandomGamma(),\n",
        "          ALB.GaussianBlur(),\n",
        "          ],p= 0.5)\n",
        "\n",
        "augmentations = [aug1,aug2,aug3]\n",
        "\n",
        "\n",
        "# WE DEFINE A LIST OF DIFFERENT AUGMENTATION CHAINS FOR DIFFERENT RUNS\n",
        "train_transform_augmentations = [\n",
        "  ALB.Compose([\n",
        "      ALB.Resize(256,256),\n",
        "      aug_i,\n",
        "      ALB.Normalize(mean=IMAGENET_MEAN, std=IMAGENET_STDDEV),\n",
        "      ToTensorV2()\n",
        "  ])\n",
        "  for aug_i in augmentations\n",
        "]\n",
        "\n",
        "NUM_AUGMENTATIONS = len(augmentations) # we are performing 3 augmentations"
      ],
      "metadata": {
        "id": "3nDPyzpqDbeY"
      },
      "execution_count": 32,
      "outputs": []
    },
    {
      "cell_type": "markdown",
      "source": [
        "Now we define which augmentation to appy in train/testing:"
      ],
      "metadata": {
        "id": "BPx8My2AQqRy"
      }
    },
    {
      "cell_type": "code",
      "source": [
        "TRAIN_INDEXES = {0,1,2} # skip first as it load weights from google\n",
        "gdown_links = [\"https://drive.google.com/uc?id=1FyNDjz0YvxnWvy63Aff4MpxEuanQaKP9\",\"https://drive.google.com/uc?id=1rTDn1dJm1_HzbwlVZL4bSwpxpCpGxzOb\",\"https://drive.google.com/uc?id=1zU7CIOfOj0mKFA-EqN6VGDCWtcK9GmAd\"]\n",
        "weights_paths = [MODELS_FOLDER + f\"/pidnet_augmented_v{i+1}.pth\" for i in range(NUM_AUGMENTATIONS)]\n",
        "\n",
        "for i in range(NUM_AUGMENTATIONS):\n",
        "  if i not in TRAIN_INDEXES:\n",
        "    gdown.download(gdown_links[i], weights_paths[i], quiet=False)\n"
      ],
      "metadata": {
        "id": "mJk2BXawQymu"
      },
      "execution_count": 33,
      "outputs": []
    },
    {
      "cell_type": "code",
      "source": [
        "import warnings\n",
        "from torch.backends import cudnn\n",
        "\n",
        "# enable validation during training\n",
        "validate = True\n",
        "\n",
        "for k, trf in enumerate(train_transform_augmentations):\n",
        "    weights_path = weights_paths[k]\n",
        "\n",
        "    if k in TRAIN_INDEXES:\n",
        "\n",
        "        model = load_model_weights(model,PIDNET_PRETRAIN_WEIGHTS_PATH).to(DEVICE)\n",
        "\n",
        "        urban_train_augmented = LoveDA(TRAIN_PATH, DataType.URBAN, transforms=trf) # change transformation in each run\n",
        "        urban_train_dataloader_augmented = DataLoader(urban_train_augmented, batch_size=BATCH_SIZE, shuffle=True, num_workers=NUM_WORKERS, drop_last=True)\n",
        "\n",
        "        model.train()\n",
        "        model = model.to(DEVICE) # switch to GPU\n",
        "\n",
        "        optimizer_fn = optim.Adam(trainable_params, lr=LR, weight_decay=WEIGHT_DECAY, eps=1e-4)\n",
        "        optim_scheduler = optim.lr_scheduler.MultiStepLR(optimizer_fn, milestones=STEP_SIZE, gamma=GAMMA)\n",
        "\n",
        "        iterPerEpoch = len(urban_train_dataloader_augmented)\n",
        "\n",
        "        warnings.filterwarnings('ignore')\n",
        "        cudnn.benchmark\n",
        "        CUDA_LAUNCH_BLOCKING=1\n",
        "\n",
        "        best_IoU = 0\n",
        "\n",
        "        print(Fore.BLACK+Back.RED+Style.BRIGHT+f\"Training PIDNet with LoveDA-URBAN with augmentation v{k+1}\"+Style.RESET_ALL)\n",
        "\n",
        "        for epoch in range(NUM_EPOCHS):\n",
        "            model.train()\n",
        "            epoch_loss = 0\n",
        "            iou_meter = IoUMeter()\n",
        "\n",
        "            for i, (inputs, targets) in enumerate(urban_train_dataloader_augmented):\n",
        "                optimizer_fn.zero_grad()\n",
        "\n",
        "                # send inputs to gpu\n",
        "                inputs = inputs.to(DEVICE)\n",
        "                labels = targets.long().to(device=DEVICE)\n",
        "\n",
        "                # feeds in the model\n",
        "                output_logits,_,_ = model(inputs)\n",
        "\n",
        "                h, w = labels.size(1), labels.size(2)\n",
        "                ph, pw = output_logits.size(2), output_logits.size(3)\n",
        "                if ph != h or pw != w:\n",
        "                  output_logits = F.interpolate(output_logits, size=(h, w), mode='bilinear', align_corners=True)\n",
        "\n",
        "\n",
        "                # compute loss\n",
        "                loss = sem_criterion(output_logits, labels)\n",
        "                \"\"\"\n",
        "                filler = torch.ones_like(labels) * config.TRAIN.IGNORE_LABEL\n",
        "                bd_label = torch.where(F.sigmoid(outputs[-1][:,0,:,:])>0.8, labels, filler)\n",
        "                loss_sb = self.sem_loss(outputs[-2], bd_label)\n",
        "                loss += loss_sb\n",
        "                \"\"\"\n",
        "\n",
        "                # backward loss and optimizer step\n",
        "                loss.backward()\n",
        "                optimizer_fn.step()\n",
        "\n",
        "                #compute the training accuracy\n",
        "                _, predicted = torch.max(output_logits.data, 1)\n",
        "\n",
        "                iou_meter.addCouple(predicted,labels)\n",
        "\n",
        "                step_loss = loss.data.item()\n",
        "                epoch_loss += step_loss\n",
        "\n",
        "            # FINAL EPOCH-WISE COMPUTATIONS\n",
        "            avg_loss = epoch_loss/iterPerEpoch\n",
        "            stat_plot(avg_loss,iou_meter,mode=StatPlotMode.TRAINING,epoch=epoch)\n",
        "\n",
        "            if validate:\n",
        "                model.eval()\n",
        "                val_loss = 0\n",
        "                iterPerVal = len(rural_val_dataloader)\n",
        "                iou_meter = IoUMeter()\n",
        "                for j, (inputs, targets) in enumerate(rural_val_dataloader):\n",
        "\n",
        "                    # feeds in model\n",
        "                    inputs = inputs.to(DEVICE)\n",
        "                    labels = targets.long().to(device=DEVICE)\n",
        "                    output_logits,_,_ = model(inputs)\n",
        "                    output_logits = F.interpolate(output_logits, size=labels.shape[1:], mode='bilinear', align_corners=True)\n",
        "\n",
        "                    # compute loss\n",
        "                    loss = sem_criterion(output_logits, labels)\n",
        "\n",
        "                    # compute the training accuracy\n",
        "                    _, predicted = torch.max(output_logits.data, 1)\n",
        "\n",
        "                    iou_meter.addCouple(predicted,labels)\n",
        "\n",
        "                    step_loss = loss.data.item()\n",
        "                    val_loss += step_loss\n",
        "\n",
        "                # FINAL EPOCH-WISE COMPUTATIONS\n",
        "                avg_loss = val_loss/iterPerVal\n",
        "                mean_IoU = iou_meter.getTotal()\n",
        "                stat_plot(avg_loss,iou_meter,mode=StatPlotMode.VALIDATION,epoch=epoch)\n",
        "\n",
        "                if mean_IoU > best_IoU:\n",
        "                    best_IoU = mean_IoU\n",
        "                    save_model_weights(model,weights_path)\n",
        "                # END OF VALIDATION\n",
        "\n",
        "        optim_scheduler.step()\n",
        "    # END OF TRAINING\n",
        "\n",
        "    # TESTING ON BEST WEIGHTS\n",
        "    print(Fore.BLACK+Back.CYAN+Style.BRIGHT+f\"Testing PIDNet with LoveDA-URBAN with augmentation v{k+1}\"+Style.RESET_ALL)\n",
        "    model = load_model_weights(model,weights_path).to(DEVICE)\n",
        "    model.eval()\n",
        "    val_loss = 0\n",
        "    iterPerVal = len(rural_val_dataloader)\n",
        "    iou_meter = IoUMeter()\n",
        "    for j, (inputs, targets) in enumerate(rural_val_dataloader):\n",
        "\n",
        "        # feeds in model\n",
        "        inputs = inputs.to(DEVICE)\n",
        "        labels = targets.long().to(device=DEVICE)\n",
        "        output_logits,_,_ = model(inputs)\n",
        "        output_logits = F.interpolate(output_logits, size=labels.shape[1:], mode='bilinear', align_corners=True)\n",
        "\n",
        "        # compute loss\n",
        "        loss = sem_criterion(output_logits, labels)\n",
        "\n",
        "        # compute the training accuracy\n",
        "        _, predicted = torch.max(output_logits.data, 1)\n",
        "\n",
        "        iou_meter.addCouple(predicted,labels)\n",
        "\n",
        "        step_loss = loss.data.item()\n",
        "        val_loss += step_loss\n",
        "\n",
        "\n",
        "    # FINAL EPOCH-WISE COMPUTATIONS\n",
        "    avg_loss = val_loss/iterPerVal\n",
        "    stat_plot(avg_loss,iou_meter,mode=StatPlotMode.TESTING)\n",
        "    # END OF TESTING\n",
        "\n"
      ],
      "metadata": {
        "id": "2R68XzmhDoQE",
        "outputId": "d3728815-6fb4-45a1-e932-a5fd7283394f",
        "colab": {
          "base_uri": "https://localhost:8080/"
        }
      },
      "execution_count": 34,
      "outputs": [
        {
          "output_type": "stream",
          "name": "stdout",
          "text": [
            "\u001b[30m\u001b[41m\u001b[1mTraining PIDNet with LoveDA-URBAN with augmentation v1\u001b[0m\n",
            "\u001b[32m\u001b[22mTRAINING RESULTS (@epoch=1): mean Loss = 1.395 | mean-IoU = 0.238\u001b[0m\n",
            "\u001b[30m\u001b[43m\u001b[1mVALIDATION RESULTS (@epoch=1): mean Loss = 2.000 | mean-IoU = 0.191\u001b[0m\n",
            "\u001b[36m\u001b[22mClass-wise IoUs:\u001b[0m\n",
            "\u001b[37m\u001b[2mClass 0 (Background): IoU = 0.429\u001b[0m\n",
            "\u001b[37m\u001b[2mClass 1 (Building): IoU = 0.203\u001b[0m\n",
            "\u001b[37m\u001b[2mClass 2 (Road): IoU = 0.117\u001b[0m\n",
            "\u001b[37m\u001b[2mClass 3 (Water): IoU = 0.365\u001b[0m\n",
            "\u001b[37m\u001b[2mClass 4 (Barren): IoU = 0.075\u001b[0m\n",
            "\u001b[37m\u001b[2mClass 5 (Forest): IoU = 0.122\u001b[0m\n",
            "\u001b[37m\u001b[2mClass 6 (Agricultural): IoU = 0.028\u001b[0m\n",
            "Saving Model to saved_models/pidnet_augmented_v1.pth...\n",
            "Done!\n",
            "\u001b[32m\u001b[22mTRAINING RESULTS (@epoch=2): mean Loss = 1.063 | mean-IoU = 0.313\u001b[0m\n",
            "\u001b[30m\u001b[43m\u001b[1mVALIDATION RESULTS (@epoch=2): mean Loss = 1.913 | mean-IoU = 0.210\u001b[0m\n",
            "\u001b[36m\u001b[22mClass-wise IoUs:\u001b[0m\n",
            "\u001b[37m\u001b[2mClass 0 (Background): IoU = 0.462\u001b[0m\n",
            "\u001b[37m\u001b[2mClass 1 (Building): IoU = 0.244\u001b[0m\n",
            "\u001b[37m\u001b[2mClass 2 (Road): IoU = 0.140\u001b[0m\n",
            "\u001b[37m\u001b[2mClass 3 (Water): IoU = 0.282\u001b[0m\n",
            "\u001b[37m\u001b[2mClass 4 (Barren): IoU = 0.106\u001b[0m\n",
            "\u001b[37m\u001b[2mClass 5 (Forest): IoU = 0.132\u001b[0m\n",
            "\u001b[37m\u001b[2mClass 6 (Agricultural): IoU = 0.104\u001b[0m\n",
            "Saving Model to saved_models/pidnet_augmented_v1.pth...\n",
            "Done!\n",
            "\u001b[32m\u001b[22mTRAINING RESULTS (@epoch=3): mean Loss = 1.011 | mean-IoU = 0.331\u001b[0m\n",
            "\u001b[30m\u001b[43m\u001b[1mVALIDATION RESULTS (@epoch=3): mean Loss = 1.847 | mean-IoU = 0.226\u001b[0m\n",
            "\u001b[36m\u001b[22mClass-wise IoUs:\u001b[0m\n",
            "\u001b[37m\u001b[2mClass 0 (Background): IoU = 0.433\u001b[0m\n",
            "\u001b[37m\u001b[2mClass 1 (Building): IoU = 0.284\u001b[0m\n",
            "\u001b[37m\u001b[2mClass 2 (Road): IoU = 0.187\u001b[0m\n",
            "\u001b[37m\u001b[2mClass 3 (Water): IoU = 0.312\u001b[0m\n",
            "\u001b[37m\u001b[2mClass 4 (Barren): IoU = 0.100\u001b[0m\n",
            "\u001b[37m\u001b[2mClass 5 (Forest): IoU = 0.135\u001b[0m\n",
            "\u001b[37m\u001b[2mClass 6 (Agricultural): IoU = 0.129\u001b[0m\n",
            "Saving Model to saved_models/pidnet_augmented_v1.pth...\n",
            "Done!\n",
            "\u001b[32m\u001b[22mTRAINING RESULTS (@epoch=4): mean Loss = 0.973 | mean-IoU = 0.351\u001b[0m\n",
            "\u001b[30m\u001b[43m\u001b[1mVALIDATION RESULTS (@epoch=4): mean Loss = 1.775 | mean-IoU = 0.239\u001b[0m\n",
            "\u001b[36m\u001b[22mClass-wise IoUs:\u001b[0m\n",
            "\u001b[37m\u001b[2mClass 0 (Background): IoU = 0.476\u001b[0m\n",
            "\u001b[37m\u001b[2mClass 1 (Building): IoU = 0.287\u001b[0m\n",
            "\u001b[37m\u001b[2mClass 2 (Road): IoU = 0.185\u001b[0m\n",
            "\u001b[37m\u001b[2mClass 3 (Water): IoU = 0.375\u001b[0m\n",
            "\u001b[37m\u001b[2mClass 4 (Barren): IoU = 0.058\u001b[0m\n",
            "\u001b[37m\u001b[2mClass 5 (Forest): IoU = 0.154\u001b[0m\n",
            "\u001b[37m\u001b[2mClass 6 (Agricultural): IoU = 0.142\u001b[0m\n",
            "Saving Model to saved_models/pidnet_augmented_v1.pth...\n",
            "Done!\n",
            "\u001b[32m\u001b[22mTRAINING RESULTS (@epoch=5): mean Loss = 0.911 | mean-IoU = 0.376\u001b[0m\n",
            "\u001b[30m\u001b[43m\u001b[1mVALIDATION RESULTS (@epoch=5): mean Loss = 1.741 | mean-IoU = 0.253\u001b[0m\n",
            "\u001b[36m\u001b[22mClass-wise IoUs:\u001b[0m\n",
            "\u001b[37m\u001b[2mClass 0 (Background): IoU = 0.475\u001b[0m\n",
            "\u001b[37m\u001b[2mClass 1 (Building): IoU = 0.264\u001b[0m\n",
            "\u001b[37m\u001b[2mClass 2 (Road): IoU = 0.187\u001b[0m\n",
            "\u001b[37m\u001b[2mClass 3 (Water): IoU = 0.375\u001b[0m\n",
            "\u001b[37m\u001b[2mClass 4 (Barren): IoU = 0.092\u001b[0m\n",
            "\u001b[37m\u001b[2mClass 5 (Forest): IoU = 0.164\u001b[0m\n",
            "\u001b[37m\u001b[2mClass 6 (Agricultural): IoU = 0.216\u001b[0m\n",
            "Saving Model to saved_models/pidnet_augmented_v1.pth...\n",
            "Done!\n",
            "\u001b[32m\u001b[22mTRAINING RESULTS (@epoch=6): mean Loss = 0.911 | mean-IoU = 0.384\u001b[0m\n",
            "\u001b[30m\u001b[43m\u001b[1mVALIDATION RESULTS (@epoch=6): mean Loss = 1.760 | mean-IoU = 0.265\u001b[0m\n",
            "\u001b[36m\u001b[22mClass-wise IoUs:\u001b[0m\n",
            "\u001b[37m\u001b[2mClass 0 (Background): IoU = 0.490\u001b[0m\n",
            "\u001b[37m\u001b[2mClass 1 (Building): IoU = 0.263\u001b[0m\n",
            "\u001b[37m\u001b[2mClass 2 (Road): IoU = 0.214\u001b[0m\n",
            "\u001b[37m\u001b[2mClass 3 (Water): IoU = 0.371\u001b[0m\n",
            "\u001b[37m\u001b[2mClass 4 (Barren): IoU = 0.118\u001b[0m\n",
            "\u001b[37m\u001b[2mClass 5 (Forest): IoU = 0.159\u001b[0m\n",
            "\u001b[37m\u001b[2mClass 6 (Agricultural): IoU = 0.238\u001b[0m\n",
            "Saving Model to saved_models/pidnet_augmented_v1.pth...\n",
            "Done!\n",
            "\u001b[32m\u001b[22mTRAINING RESULTS (@epoch=7): mean Loss = 0.872 | mean-IoU = 0.397\u001b[0m\n",
            "\u001b[30m\u001b[43m\u001b[1mVALIDATION RESULTS (@epoch=7): mean Loss = 1.768 | mean-IoU = 0.270\u001b[0m\n",
            "\u001b[36m\u001b[22mClass-wise IoUs:\u001b[0m\n",
            "\u001b[37m\u001b[2mClass 0 (Background): IoU = 0.488\u001b[0m\n",
            "\u001b[37m\u001b[2mClass 1 (Building): IoU = 0.296\u001b[0m\n",
            "\u001b[37m\u001b[2mClass 2 (Road): IoU = 0.193\u001b[0m\n",
            "\u001b[37m\u001b[2mClass 3 (Water): IoU = 0.418\u001b[0m\n",
            "\u001b[37m\u001b[2mClass 4 (Barren): IoU = 0.090\u001b[0m\n",
            "\u001b[37m\u001b[2mClass 5 (Forest): IoU = 0.175\u001b[0m\n",
            "\u001b[37m\u001b[2mClass 6 (Agricultural): IoU = 0.231\u001b[0m\n",
            "Saving Model to saved_models/pidnet_augmented_v1.pth...\n",
            "Done!\n",
            "\u001b[32m\u001b[22mTRAINING RESULTS (@epoch=8): mean Loss = 0.848 | mean-IoU = 0.408\u001b[0m\n",
            "\u001b[30m\u001b[43m\u001b[1mVALIDATION RESULTS (@epoch=8): mean Loss = 1.760 | mean-IoU = 0.284\u001b[0m\n",
            "\u001b[36m\u001b[22mClass-wise IoUs:\u001b[0m\n",
            "\u001b[37m\u001b[2mClass 0 (Background): IoU = 0.486\u001b[0m\n",
            "\u001b[37m\u001b[2mClass 1 (Building): IoU = 0.340\u001b[0m\n",
            "\u001b[37m\u001b[2mClass 2 (Road): IoU = 0.212\u001b[0m\n",
            "\u001b[37m\u001b[2mClass 3 (Water): IoU = 0.369\u001b[0m\n",
            "\u001b[37m\u001b[2mClass 4 (Barren): IoU = 0.082\u001b[0m\n",
            "\u001b[37m\u001b[2mClass 5 (Forest): IoU = 0.205\u001b[0m\n",
            "\u001b[37m\u001b[2mClass 6 (Agricultural): IoU = 0.292\u001b[0m\n",
            "Saving Model to saved_models/pidnet_augmented_v1.pth...\n",
            "Done!\n",
            "\u001b[32m\u001b[22mTRAINING RESULTS (@epoch=9): mean Loss = 0.839 | mean-IoU = 0.405\u001b[0m\n",
            "\u001b[30m\u001b[43m\u001b[1mVALIDATION RESULTS (@epoch=9): mean Loss = 1.686 | mean-IoU = 0.277\u001b[0m\n",
            "\u001b[36m\u001b[22mClass-wise IoUs:\u001b[0m\n",
            "\u001b[37m\u001b[2mClass 0 (Background): IoU = 0.489\u001b[0m\n",
            "\u001b[37m\u001b[2mClass 1 (Building): IoU = 0.299\u001b[0m\n",
            "\u001b[37m\u001b[2mClass 2 (Road): IoU = 0.225\u001b[0m\n",
            "\u001b[37m\u001b[2mClass 3 (Water): IoU = 0.400\u001b[0m\n",
            "\u001b[37m\u001b[2mClass 4 (Barren): IoU = 0.058\u001b[0m\n",
            "\u001b[37m\u001b[2mClass 5 (Forest): IoU = 0.185\u001b[0m\n",
            "\u001b[37m\u001b[2mClass 6 (Agricultural): IoU = 0.286\u001b[0m\n",
            "\u001b[32m\u001b[22mTRAINING RESULTS (@epoch=10): mean Loss = 0.831 | mean-IoU = 0.423\u001b[0m\n",
            "\u001b[30m\u001b[43m\u001b[1mVALIDATION RESULTS (@epoch=10): mean Loss = 1.744 | mean-IoU = 0.265\u001b[0m\n",
            "\u001b[36m\u001b[22mClass-wise IoUs:\u001b[0m\n",
            "\u001b[37m\u001b[2mClass 0 (Background): IoU = 0.481\u001b[0m\n",
            "\u001b[37m\u001b[2mClass 1 (Building): IoU = 0.340\u001b[0m\n",
            "\u001b[37m\u001b[2mClass 2 (Road): IoU = 0.199\u001b[0m\n",
            "\u001b[37m\u001b[2mClass 3 (Water): IoU = 0.337\u001b[0m\n",
            "\u001b[37m\u001b[2mClass 4 (Barren): IoU = 0.076\u001b[0m\n",
            "\u001b[37m\u001b[2mClass 5 (Forest): IoU = 0.199\u001b[0m\n",
            "\u001b[37m\u001b[2mClass 6 (Agricultural): IoU = 0.223\u001b[0m\n",
            "\u001b[32m\u001b[22mTRAINING RESULTS (@epoch=11): mean Loss = 0.822 | mean-IoU = 0.428\u001b[0m\n",
            "\u001b[30m\u001b[43m\u001b[1mVALIDATION RESULTS (@epoch=11): mean Loss = 1.570 | mean-IoU = 0.301\u001b[0m\n",
            "\u001b[36m\u001b[22mClass-wise IoUs:\u001b[0m\n",
            "\u001b[37m\u001b[2mClass 0 (Background): IoU = 0.513\u001b[0m\n",
            "\u001b[37m\u001b[2mClass 1 (Building): IoU = 0.312\u001b[0m\n",
            "\u001b[37m\u001b[2mClass 2 (Road): IoU = 0.220\u001b[0m\n",
            "\u001b[37m\u001b[2mClass 3 (Water): IoU = 0.408\u001b[0m\n",
            "\u001b[37m\u001b[2mClass 4 (Barren): IoU = 0.106\u001b[0m\n",
            "\u001b[37m\u001b[2mClass 5 (Forest): IoU = 0.198\u001b[0m\n",
            "\u001b[37m\u001b[2mClass 6 (Agricultural): IoU = 0.346\u001b[0m\n",
            "Saving Model to saved_models/pidnet_augmented_v1.pth...\n",
            "Done!\n",
            "\u001b[32m\u001b[22mTRAINING RESULTS (@epoch=12): mean Loss = 0.794 | mean-IoU = 0.443\u001b[0m\n",
            "\u001b[30m\u001b[43m\u001b[1mVALIDATION RESULTS (@epoch=12): mean Loss = 1.648 | mean-IoU = 0.291\u001b[0m\n",
            "\u001b[36m\u001b[22mClass-wise IoUs:\u001b[0m\n",
            "\u001b[37m\u001b[2mClass 0 (Background): IoU = 0.508\u001b[0m\n",
            "\u001b[37m\u001b[2mClass 1 (Building): IoU = 0.287\u001b[0m\n",
            "\u001b[37m\u001b[2mClass 2 (Road): IoU = 0.180\u001b[0m\n",
            "\u001b[37m\u001b[2mClass 3 (Water): IoU = 0.476\u001b[0m\n",
            "\u001b[37m\u001b[2mClass 4 (Barren): IoU = 0.079\u001b[0m\n",
            "\u001b[37m\u001b[2mClass 5 (Forest): IoU = 0.193\u001b[0m\n",
            "\u001b[37m\u001b[2mClass 6 (Agricultural): IoU = 0.317\u001b[0m\n",
            "\u001b[32m\u001b[22mTRAINING RESULTS (@epoch=13): mean Loss = 0.786 | mean-IoU = 0.455\u001b[0m\n",
            "\u001b[30m\u001b[43m\u001b[1mVALIDATION RESULTS (@epoch=13): mean Loss = 1.669 | mean-IoU = 0.288\u001b[0m\n",
            "\u001b[36m\u001b[22mClass-wise IoUs:\u001b[0m\n",
            "\u001b[37m\u001b[2mClass 0 (Background): IoU = 0.493\u001b[0m\n",
            "\u001b[37m\u001b[2mClass 1 (Building): IoU = 0.261\u001b[0m\n",
            "\u001b[37m\u001b[2mClass 2 (Road): IoU = 0.216\u001b[0m\n",
            "\u001b[37m\u001b[2mClass 3 (Water): IoU = 0.424\u001b[0m\n",
            "\u001b[37m\u001b[2mClass 4 (Barren): IoU = 0.121\u001b[0m\n",
            "\u001b[37m\u001b[2mClass 5 (Forest): IoU = 0.214\u001b[0m\n",
            "\u001b[37m\u001b[2mClass 6 (Agricultural): IoU = 0.290\u001b[0m\n",
            "\u001b[32m\u001b[22mTRAINING RESULTS (@epoch=14): mean Loss = 0.771 | mean-IoU = 0.460\u001b[0m\n",
            "\u001b[30m\u001b[43m\u001b[1mVALIDATION RESULTS (@epoch=14): mean Loss = 1.717 | mean-IoU = 0.278\u001b[0m\n",
            "\u001b[36m\u001b[22mClass-wise IoUs:\u001b[0m\n",
            "\u001b[37m\u001b[2mClass 0 (Background): IoU = 0.499\u001b[0m\n",
            "\u001b[37m\u001b[2mClass 1 (Building): IoU = 0.285\u001b[0m\n",
            "\u001b[37m\u001b[2mClass 2 (Road): IoU = 0.220\u001b[0m\n",
            "\u001b[37m\u001b[2mClass 3 (Water): IoU = 0.420\u001b[0m\n",
            "\u001b[37m\u001b[2mClass 4 (Barren): IoU = 0.075\u001b[0m\n",
            "\u001b[37m\u001b[2mClass 5 (Forest): IoU = 0.207\u001b[0m\n",
            "\u001b[37m\u001b[2mClass 6 (Agricultural): IoU = 0.239\u001b[0m\n",
            "\u001b[32m\u001b[22mTRAINING RESULTS (@epoch=15): mean Loss = 0.757 | mean-IoU = 0.463\u001b[0m\n",
            "\u001b[30m\u001b[43m\u001b[1mVALIDATION RESULTS (@epoch=15): mean Loss = 1.821 | mean-IoU = 0.272\u001b[0m\n",
            "\u001b[36m\u001b[22mClass-wise IoUs:\u001b[0m\n",
            "\u001b[37m\u001b[2mClass 0 (Background): IoU = 0.482\u001b[0m\n",
            "\u001b[37m\u001b[2mClass 1 (Building): IoU = 0.306\u001b[0m\n",
            "\u001b[37m\u001b[2mClass 2 (Road): IoU = 0.216\u001b[0m\n",
            "\u001b[37m\u001b[2mClass 3 (Water): IoU = 0.365\u001b[0m\n",
            "\u001b[37m\u001b[2mClass 4 (Barren): IoU = 0.083\u001b[0m\n",
            "\u001b[37m\u001b[2mClass 5 (Forest): IoU = 0.210\u001b[0m\n",
            "\u001b[37m\u001b[2mClass 6 (Agricultural): IoU = 0.243\u001b[0m\n",
            "\u001b[32m\u001b[22mTRAINING RESULTS (@epoch=16): mean Loss = 0.741 | mean-IoU = 0.477\u001b[0m\n",
            "\u001b[30m\u001b[43m\u001b[1mVALIDATION RESULTS (@epoch=16): mean Loss = 1.743 | mean-IoU = 0.280\u001b[0m\n",
            "\u001b[36m\u001b[22mClass-wise IoUs:\u001b[0m\n",
            "\u001b[37m\u001b[2mClass 0 (Background): IoU = 0.470\u001b[0m\n",
            "\u001b[37m\u001b[2mClass 1 (Building): IoU = 0.274\u001b[0m\n",
            "\u001b[37m\u001b[2mClass 2 (Road): IoU = 0.227\u001b[0m\n",
            "\u001b[37m\u001b[2mClass 3 (Water): IoU = 0.420\u001b[0m\n",
            "\u001b[37m\u001b[2mClass 4 (Barren): IoU = 0.100\u001b[0m\n",
            "\u001b[37m\u001b[2mClass 5 (Forest): IoU = 0.182\u001b[0m\n",
            "\u001b[37m\u001b[2mClass 6 (Agricultural): IoU = 0.288\u001b[0m\n",
            "\u001b[32m\u001b[22mTRAINING RESULTS (@epoch=17): mean Loss = 0.748 | mean-IoU = 0.475\u001b[0m\n",
            "\u001b[30m\u001b[43m\u001b[1mVALIDATION RESULTS (@epoch=17): mean Loss = 1.693 | mean-IoU = 0.282\u001b[0m\n",
            "\u001b[36m\u001b[22mClass-wise IoUs:\u001b[0m\n",
            "\u001b[37m\u001b[2mClass 0 (Background): IoU = 0.489\u001b[0m\n",
            "\u001b[37m\u001b[2mClass 1 (Building): IoU = 0.279\u001b[0m\n",
            "\u001b[37m\u001b[2mClass 2 (Road): IoU = 0.234\u001b[0m\n",
            "\u001b[37m\u001b[2mClass 3 (Water): IoU = 0.417\u001b[0m\n",
            "\u001b[37m\u001b[2mClass 4 (Barren): IoU = 0.072\u001b[0m\n",
            "\u001b[37m\u001b[2mClass 5 (Forest): IoU = 0.199\u001b[0m\n",
            "\u001b[37m\u001b[2mClass 6 (Agricultural): IoU = 0.284\u001b[0m\n",
            "\u001b[32m\u001b[22mTRAINING RESULTS (@epoch=18): mean Loss = 0.725 | mean-IoU = 0.487\u001b[0m\n",
            "\u001b[30m\u001b[43m\u001b[1mVALIDATION RESULTS (@epoch=18): mean Loss = 1.776 | mean-IoU = 0.285\u001b[0m\n",
            "\u001b[36m\u001b[22mClass-wise IoUs:\u001b[0m\n",
            "\u001b[37m\u001b[2mClass 0 (Background): IoU = 0.497\u001b[0m\n",
            "\u001b[37m\u001b[2mClass 1 (Building): IoU = 0.240\u001b[0m\n",
            "\u001b[37m\u001b[2mClass 2 (Road): IoU = 0.252\u001b[0m\n",
            "\u001b[37m\u001b[2mClass 3 (Water): IoU = 0.408\u001b[0m\n",
            "\u001b[37m\u001b[2mClass 4 (Barren): IoU = 0.066\u001b[0m\n",
            "\u001b[37m\u001b[2mClass 5 (Forest): IoU = 0.230\u001b[0m\n",
            "\u001b[37m\u001b[2mClass 6 (Agricultural): IoU = 0.300\u001b[0m\n",
            "\u001b[32m\u001b[22mTRAINING RESULTS (@epoch=19): mean Loss = 0.723 | mean-IoU = 0.497\u001b[0m\n",
            "\u001b[30m\u001b[43m\u001b[1mVALIDATION RESULTS (@epoch=19): mean Loss = 1.845 | mean-IoU = 0.272\u001b[0m\n",
            "\u001b[36m\u001b[22mClass-wise IoUs:\u001b[0m\n",
            "\u001b[37m\u001b[2mClass 0 (Background): IoU = 0.487\u001b[0m\n",
            "\u001b[37m\u001b[2mClass 1 (Building): IoU = 0.255\u001b[0m\n",
            "\u001b[37m\u001b[2mClass 2 (Road): IoU = 0.205\u001b[0m\n",
            "\u001b[37m\u001b[2mClass 3 (Water): IoU = 0.406\u001b[0m\n",
            "\u001b[37m\u001b[2mClass 4 (Barren): IoU = 0.095\u001b[0m\n",
            "\u001b[37m\u001b[2mClass 5 (Forest): IoU = 0.222\u001b[0m\n",
            "\u001b[37m\u001b[2mClass 6 (Agricultural): IoU = 0.233\u001b[0m\n",
            "\u001b[32m\u001b[22mTRAINING RESULTS (@epoch=20): mean Loss = 0.737 | mean-IoU = 0.481\u001b[0m\n",
            "\u001b[30m\u001b[43m\u001b[1mVALIDATION RESULTS (@epoch=20): mean Loss = 2.131 | mean-IoU = 0.246\u001b[0m\n",
            "\u001b[36m\u001b[22mClass-wise IoUs:\u001b[0m\n",
            "\u001b[37m\u001b[2mClass 0 (Background): IoU = 0.472\u001b[0m\n",
            "\u001b[37m\u001b[2mClass 1 (Building): IoU = 0.285\u001b[0m\n",
            "\u001b[37m\u001b[2mClass 2 (Road): IoU = 0.176\u001b[0m\n",
            "\u001b[37m\u001b[2mClass 3 (Water): IoU = 0.423\u001b[0m\n",
            "\u001b[37m\u001b[2mClass 4 (Barren): IoU = 0.084\u001b[0m\n",
            "\u001b[37m\u001b[2mClass 5 (Forest): IoU = 0.183\u001b[0m\n",
            "\u001b[37m\u001b[2mClass 6 (Agricultural): IoU = 0.101\u001b[0m\n",
            "\u001b[30m\u001b[46m\u001b[1mTesting PIDNet with LoveDA-URBAN with augmentation v72\u001b[0m\n",
            "\u001b[30m\u001b[42m\u001b[1mTEST RESULTS on VALIDATION SET: mean Loss = 1.570 | mean-IoU = 0.301\u001b[0m\n",
            "\u001b[36m\u001b[22mClass-wise IoUs:\u001b[0m\n",
            "\u001b[37m\u001b[2mClass 0 (Background): IoU = 0.513\u001b[0m\n",
            "\u001b[37m\u001b[2mClass 1 (Building): IoU = 0.312\u001b[0m\n",
            "\u001b[37m\u001b[2mClass 2 (Road): IoU = 0.220\u001b[0m\n",
            "\u001b[37m\u001b[2mClass 3 (Water): IoU = 0.408\u001b[0m\n",
            "\u001b[37m\u001b[2mClass 4 (Barren): IoU = 0.106\u001b[0m\n",
            "\u001b[37m\u001b[2mClass 5 (Forest): IoU = 0.198\u001b[0m\n",
            "\u001b[37m\u001b[2mClass 6 (Agricultural): IoU = 0.346\u001b[0m\n",
            "\u001b[30m\u001b[41m\u001b[1mTraining PIDNet with LoveDA-URBAN with augmentation v2\u001b[0m\n",
            "\u001b[32m\u001b[22mTRAINING RESULTS (@epoch=1): mean Loss = 1.200 | mean-IoU = 0.270\u001b[0m\n",
            "\u001b[30m\u001b[43m\u001b[1mVALIDATION RESULTS (@epoch=1): mean Loss = 1.840 | mean-IoU = 0.196\u001b[0m\n",
            "\u001b[36m\u001b[22mClass-wise IoUs:\u001b[0m\n",
            "\u001b[37m\u001b[2mClass 0 (Background): IoU = 0.425\u001b[0m\n",
            "\u001b[37m\u001b[2mClass 1 (Building): IoU = 0.184\u001b[0m\n",
            "\u001b[37m\u001b[2mClass 2 (Road): IoU = 0.132\u001b[0m\n",
            "\u001b[37m\u001b[2mClass 3 (Water): IoU = 0.408\u001b[0m\n",
            "\u001b[37m\u001b[2mClass 4 (Barren): IoU = 0.087\u001b[0m\n",
            "\u001b[37m\u001b[2mClass 5 (Forest): IoU = 0.051\u001b[0m\n",
            "\u001b[37m\u001b[2mClass 6 (Agricultural): IoU = 0.085\u001b[0m\n",
            "Saving Model to saved_models/pidnet_augmented_v2.pth...\n",
            "Done!\n",
            "\u001b[32m\u001b[22mTRAINING RESULTS (@epoch=2): mean Loss = 0.984 | mean-IoU = 0.342\u001b[0m\n",
            "\u001b[30m\u001b[43m\u001b[1mVALIDATION RESULTS (@epoch=2): mean Loss = 1.758 | mean-IoU = 0.224\u001b[0m\n",
            "\u001b[36m\u001b[22mClass-wise IoUs:\u001b[0m\n",
            "\u001b[37m\u001b[2mClass 0 (Background): IoU = 0.460\u001b[0m\n",
            "\u001b[37m\u001b[2mClass 1 (Building): IoU = 0.249\u001b[0m\n",
            "\u001b[37m\u001b[2mClass 2 (Road): IoU = 0.192\u001b[0m\n",
            "\u001b[37m\u001b[2mClass 3 (Water): IoU = 0.383\u001b[0m\n",
            "\u001b[37m\u001b[2mClass 4 (Barren): IoU = 0.107\u001b[0m\n",
            "\u001b[37m\u001b[2mClass 5 (Forest): IoU = 0.056\u001b[0m\n",
            "\u001b[37m\u001b[2mClass 6 (Agricultural): IoU = 0.123\u001b[0m\n",
            "Saving Model to saved_models/pidnet_augmented_v2.pth...\n",
            "Done!\n",
            "\u001b[32m\u001b[22mTRAINING RESULTS (@epoch=3): mean Loss = 0.924 | mean-IoU = 0.365\u001b[0m\n",
            "\u001b[30m\u001b[43m\u001b[1mVALIDATION RESULTS (@epoch=3): mean Loss = 1.781 | mean-IoU = 0.230\u001b[0m\n",
            "\u001b[36m\u001b[22mClass-wise IoUs:\u001b[0m\n",
            "\u001b[37m\u001b[2mClass 0 (Background): IoU = 0.450\u001b[0m\n",
            "\u001b[37m\u001b[2mClass 1 (Building): IoU = 0.274\u001b[0m\n",
            "\u001b[37m\u001b[2mClass 2 (Road): IoU = 0.192\u001b[0m\n",
            "\u001b[37m\u001b[2mClass 3 (Water): IoU = 0.388\u001b[0m\n",
            "\u001b[37m\u001b[2mClass 4 (Barren): IoU = 0.112\u001b[0m\n",
            "\u001b[37m\u001b[2mClass 5 (Forest): IoU = 0.070\u001b[0m\n",
            "\u001b[37m\u001b[2mClass 6 (Agricultural): IoU = 0.124\u001b[0m\n",
            "Saving Model to saved_models/pidnet_augmented_v2.pth...\n",
            "Done!\n",
            "\u001b[32m\u001b[22mTRAINING RESULTS (@epoch=4): mean Loss = 0.866 | mean-IoU = 0.393\u001b[0m\n",
            "\u001b[30m\u001b[43m\u001b[1mVALIDATION RESULTS (@epoch=4): mean Loss = 1.762 | mean-IoU = 0.238\u001b[0m\n",
            "\u001b[36m\u001b[22mClass-wise IoUs:\u001b[0m\n",
            "\u001b[37m\u001b[2mClass 0 (Background): IoU = 0.440\u001b[0m\n",
            "\u001b[37m\u001b[2mClass 1 (Building): IoU = 0.273\u001b[0m\n",
            "\u001b[37m\u001b[2mClass 2 (Road): IoU = 0.218\u001b[0m\n",
            "\u001b[37m\u001b[2mClass 3 (Water): IoU = 0.368\u001b[0m\n",
            "\u001b[37m\u001b[2mClass 4 (Barren): IoU = 0.106\u001b[0m\n",
            "\u001b[37m\u001b[2mClass 5 (Forest): IoU = 0.091\u001b[0m\n",
            "\u001b[37m\u001b[2mClass 6 (Agricultural): IoU = 0.165\u001b[0m\n",
            "Saving Model to saved_models/pidnet_augmented_v2.pth...\n",
            "Done!\n",
            "\u001b[32m\u001b[22mTRAINING RESULTS (@epoch=5): mean Loss = 0.876 | mean-IoU = 0.409\u001b[0m\n",
            "\u001b[30m\u001b[43m\u001b[1mVALIDATION RESULTS (@epoch=5): mean Loss = 1.766 | mean-IoU = 0.236\u001b[0m\n",
            "\u001b[36m\u001b[22mClass-wise IoUs:\u001b[0m\n",
            "\u001b[37m\u001b[2mClass 0 (Background): IoU = 0.450\u001b[0m\n",
            "\u001b[37m\u001b[2mClass 1 (Building): IoU = 0.230\u001b[0m\n",
            "\u001b[37m\u001b[2mClass 2 (Road): IoU = 0.207\u001b[0m\n",
            "\u001b[37m\u001b[2mClass 3 (Water): IoU = 0.374\u001b[0m\n",
            "\u001b[37m\u001b[2mClass 4 (Barren): IoU = 0.118\u001b[0m\n",
            "\u001b[37m\u001b[2mClass 5 (Forest): IoU = 0.082\u001b[0m\n",
            "\u001b[37m\u001b[2mClass 6 (Agricultural): IoU = 0.192\u001b[0m\n",
            "\u001b[32m\u001b[22mTRAINING RESULTS (@epoch=6): mean Loss = 0.838 | mean-IoU = 0.425\u001b[0m\n",
            "\u001b[30m\u001b[43m\u001b[1mVALIDATION RESULTS (@epoch=6): mean Loss = 1.777 | mean-IoU = 0.243\u001b[0m\n",
            "\u001b[36m\u001b[22mClass-wise IoUs:\u001b[0m\n",
            "\u001b[37m\u001b[2mClass 0 (Background): IoU = 0.444\u001b[0m\n",
            "\u001b[37m\u001b[2mClass 1 (Building): IoU = 0.250\u001b[0m\n",
            "\u001b[37m\u001b[2mClass 2 (Road): IoU = 0.223\u001b[0m\n",
            "\u001b[37m\u001b[2mClass 3 (Water): IoU = 0.420\u001b[0m\n",
            "\u001b[37m\u001b[2mClass 4 (Barren): IoU = 0.060\u001b[0m\n",
            "\u001b[37m\u001b[2mClass 5 (Forest): IoU = 0.097\u001b[0m\n",
            "\u001b[37m\u001b[2mClass 6 (Agricultural): IoU = 0.207\u001b[0m\n",
            "Saving Model to saved_models/pidnet_augmented_v2.pth...\n",
            "Done!\n",
            "\u001b[32m\u001b[22mTRAINING RESULTS (@epoch=7): mean Loss = 0.791 | mean-IoU = 0.440\u001b[0m\n",
            "\u001b[30m\u001b[43m\u001b[1mVALIDATION RESULTS (@epoch=7): mean Loss = 1.854 | mean-IoU = 0.238\u001b[0m\n",
            "\u001b[36m\u001b[22mClass-wise IoUs:\u001b[0m\n",
            "\u001b[37m\u001b[2mClass 0 (Background): IoU = 0.419\u001b[0m\n",
            "\u001b[37m\u001b[2mClass 1 (Building): IoU = 0.299\u001b[0m\n",
            "\u001b[37m\u001b[2mClass 2 (Road): IoU = 0.204\u001b[0m\n",
            "\u001b[37m\u001b[2mClass 3 (Water): IoU = 0.392\u001b[0m\n",
            "\u001b[37m\u001b[2mClass 4 (Barren): IoU = 0.080\u001b[0m\n",
            "\u001b[37m\u001b[2mClass 5 (Forest): IoU = 0.104\u001b[0m\n",
            "\u001b[37m\u001b[2mClass 6 (Agricultural): IoU = 0.169\u001b[0m\n",
            "\u001b[32m\u001b[22mTRAINING RESULTS (@epoch=8): mean Loss = 0.776 | mean-IoU = 0.452\u001b[0m\n",
            "\u001b[30m\u001b[43m\u001b[1mVALIDATION RESULTS (@epoch=8): mean Loss = 1.954 | mean-IoU = 0.238\u001b[0m\n",
            "\u001b[36m\u001b[22mClass-wise IoUs:\u001b[0m\n",
            "\u001b[37m\u001b[2mClass 0 (Background): IoU = 0.436\u001b[0m\n",
            "\u001b[37m\u001b[2mClass 1 (Building): IoU = 0.235\u001b[0m\n",
            "\u001b[37m\u001b[2mClass 2 (Road): IoU = 0.232\u001b[0m\n",
            "\u001b[37m\u001b[2mClass 3 (Water): IoU = 0.402\u001b[0m\n",
            "\u001b[37m\u001b[2mClass 4 (Barren): IoU = 0.088\u001b[0m\n",
            "\u001b[37m\u001b[2mClass 5 (Forest): IoU = 0.107\u001b[0m\n",
            "\u001b[37m\u001b[2mClass 6 (Agricultural): IoU = 0.162\u001b[0m\n",
            "\u001b[32m\u001b[22mTRAINING RESULTS (@epoch=9): mean Loss = 0.733 | mean-IoU = 0.479\u001b[0m\n",
            "\u001b[30m\u001b[43m\u001b[1mVALIDATION RESULTS (@epoch=9): mean Loss = 1.815 | mean-IoU = 0.241\u001b[0m\n",
            "\u001b[36m\u001b[22mClass-wise IoUs:\u001b[0m\n",
            "\u001b[37m\u001b[2mClass 0 (Background): IoU = 0.417\u001b[0m\n",
            "\u001b[37m\u001b[2mClass 1 (Building): IoU = 0.287\u001b[0m\n",
            "\u001b[37m\u001b[2mClass 2 (Road): IoU = 0.227\u001b[0m\n",
            "\u001b[37m\u001b[2mClass 3 (Water): IoU = 0.385\u001b[0m\n",
            "\u001b[37m\u001b[2mClass 4 (Barren): IoU = 0.068\u001b[0m\n",
            "\u001b[37m\u001b[2mClass 5 (Forest): IoU = 0.095\u001b[0m\n",
            "\u001b[37m\u001b[2mClass 6 (Agricultural): IoU = 0.206\u001b[0m\n",
            "\u001b[32m\u001b[22mTRAINING RESULTS (@epoch=10): mean Loss = 0.726 | mean-IoU = 0.483\u001b[0m\n",
            "\u001b[30m\u001b[43m\u001b[1mVALIDATION RESULTS (@epoch=10): mean Loss = 1.990 | mean-IoU = 0.237\u001b[0m\n",
            "\u001b[36m\u001b[22mClass-wise IoUs:\u001b[0m\n",
            "\u001b[37m\u001b[2mClass 0 (Background): IoU = 0.421\u001b[0m\n",
            "\u001b[37m\u001b[2mClass 1 (Building): IoU = 0.296\u001b[0m\n",
            "\u001b[37m\u001b[2mClass 2 (Road): IoU = 0.221\u001b[0m\n",
            "\u001b[37m\u001b[2mClass 3 (Water): IoU = 0.386\u001b[0m\n",
            "\u001b[37m\u001b[2mClass 4 (Barren): IoU = 0.071\u001b[0m\n",
            "\u001b[37m\u001b[2mClass 5 (Forest): IoU = 0.095\u001b[0m\n",
            "\u001b[37m\u001b[2mClass 6 (Agricultural): IoU = 0.165\u001b[0m\n",
            "\u001b[32m\u001b[22mTRAINING RESULTS (@epoch=11): mean Loss = 0.693 | mean-IoU = 0.510\u001b[0m\n",
            "\u001b[30m\u001b[43m\u001b[1mVALIDATION RESULTS (@epoch=11): mean Loss = 1.922 | mean-IoU = 0.253\u001b[0m\n",
            "\u001b[36m\u001b[22mClass-wise IoUs:\u001b[0m\n",
            "\u001b[37m\u001b[2mClass 0 (Background): IoU = 0.460\u001b[0m\n",
            "\u001b[37m\u001b[2mClass 1 (Building): IoU = 0.319\u001b[0m\n",
            "\u001b[37m\u001b[2mClass 2 (Road): IoU = 0.233\u001b[0m\n",
            "\u001b[37m\u001b[2mClass 3 (Water): IoU = 0.312\u001b[0m\n",
            "\u001b[37m\u001b[2mClass 4 (Barren): IoU = 0.083\u001b[0m\n",
            "\u001b[37m\u001b[2mClass 5 (Forest): IoU = 0.085\u001b[0m\n",
            "\u001b[37m\u001b[2mClass 6 (Agricultural): IoU = 0.281\u001b[0m\n",
            "Saving Model to saved_models/pidnet_augmented_v2.pth...\n",
            "Done!\n",
            "\u001b[32m\u001b[22mTRAINING RESULTS (@epoch=12): mean Loss = 0.697 | mean-IoU = 0.516\u001b[0m\n",
            "\u001b[30m\u001b[43m\u001b[1mVALIDATION RESULTS (@epoch=12): mean Loss = 1.936 | mean-IoU = 0.238\u001b[0m\n",
            "\u001b[36m\u001b[22mClass-wise IoUs:\u001b[0m\n",
            "\u001b[37m\u001b[2mClass 0 (Background): IoU = 0.385\u001b[0m\n",
            "\u001b[37m\u001b[2mClass 1 (Building): IoU = 0.251\u001b[0m\n",
            "\u001b[37m\u001b[2mClass 2 (Road): IoU = 0.228\u001b[0m\n",
            "\u001b[37m\u001b[2mClass 3 (Water): IoU = 0.372\u001b[0m\n",
            "\u001b[37m\u001b[2mClass 4 (Barren): IoU = 0.064\u001b[0m\n",
            "\u001b[37m\u001b[2mClass 5 (Forest): IoU = 0.098\u001b[0m\n",
            "\u001b[37m\u001b[2mClass 6 (Agricultural): IoU = 0.266\u001b[0m\n",
            "\u001b[32m\u001b[22mTRAINING RESULTS (@epoch=13): mean Loss = 0.650 | mean-IoU = 0.530\u001b[0m\n",
            "\u001b[30m\u001b[43m\u001b[1mVALIDATION RESULTS (@epoch=13): mean Loss = 1.978 | mean-IoU = 0.244\u001b[0m\n",
            "\u001b[36m\u001b[22mClass-wise IoUs:\u001b[0m\n",
            "\u001b[37m\u001b[2mClass 0 (Background): IoU = 0.456\u001b[0m\n",
            "\u001b[37m\u001b[2mClass 1 (Building): IoU = 0.222\u001b[0m\n",
            "\u001b[37m\u001b[2mClass 2 (Road): IoU = 0.231\u001b[0m\n",
            "\u001b[37m\u001b[2mClass 3 (Water): IoU = 0.387\u001b[0m\n",
            "\u001b[37m\u001b[2mClass 4 (Barren): IoU = 0.088\u001b[0m\n",
            "\u001b[37m\u001b[2mClass 5 (Forest): IoU = 0.077\u001b[0m\n",
            "\u001b[37m\u001b[2mClass 6 (Agricultural): IoU = 0.243\u001b[0m\n",
            "\u001b[32m\u001b[22mTRAINING RESULTS (@epoch=14): mean Loss = 0.626 | mean-IoU = 0.546\u001b[0m\n",
            "\u001b[30m\u001b[43m\u001b[1mVALIDATION RESULTS (@epoch=14): mean Loss = 2.021 | mean-IoU = 0.238\u001b[0m\n",
            "\u001b[36m\u001b[22mClass-wise IoUs:\u001b[0m\n",
            "\u001b[37m\u001b[2mClass 0 (Background): IoU = 0.407\u001b[0m\n",
            "\u001b[37m\u001b[2mClass 1 (Building): IoU = 0.263\u001b[0m\n",
            "\u001b[37m\u001b[2mClass 2 (Road): IoU = 0.237\u001b[0m\n",
            "\u001b[37m\u001b[2mClass 3 (Water): IoU = 0.368\u001b[0m\n",
            "\u001b[37m\u001b[2mClass 4 (Barren): IoU = 0.051\u001b[0m\n",
            "\u001b[37m\u001b[2mClass 5 (Forest): IoU = 0.086\u001b[0m\n",
            "\u001b[37m\u001b[2mClass 6 (Agricultural): IoU = 0.252\u001b[0m\n",
            "\u001b[32m\u001b[22mTRAINING RESULTS (@epoch=15): mean Loss = 0.612 | mean-IoU = 0.556\u001b[0m\n",
            "\u001b[30m\u001b[43m\u001b[1mVALIDATION RESULTS (@epoch=15): mean Loss = 2.241 | mean-IoU = 0.234\u001b[0m\n",
            "\u001b[36m\u001b[22mClass-wise IoUs:\u001b[0m\n",
            "\u001b[37m\u001b[2mClass 0 (Background): IoU = 0.444\u001b[0m\n",
            "\u001b[37m\u001b[2mClass 1 (Building): IoU = 0.271\u001b[0m\n",
            "\u001b[37m\u001b[2mClass 2 (Road): IoU = 0.224\u001b[0m\n",
            "\u001b[37m\u001b[2mClass 3 (Water): IoU = 0.385\u001b[0m\n",
            "\u001b[37m\u001b[2mClass 4 (Barren): IoU = 0.065\u001b[0m\n",
            "\u001b[37m\u001b[2mClass 5 (Forest): IoU = 0.097\u001b[0m\n",
            "\u001b[37m\u001b[2mClass 6 (Agricultural): IoU = 0.155\u001b[0m\n",
            "\u001b[32m\u001b[22mTRAINING RESULTS (@epoch=16): mean Loss = 0.611 | mean-IoU = 0.563\u001b[0m\n",
            "\u001b[30m\u001b[43m\u001b[1mVALIDATION RESULTS (@epoch=16): mean Loss = 2.464 | mean-IoU = 0.212\u001b[0m\n",
            "\u001b[36m\u001b[22mClass-wise IoUs:\u001b[0m\n",
            "\u001b[37m\u001b[2mClass 0 (Background): IoU = 0.413\u001b[0m\n",
            "\u001b[37m\u001b[2mClass 1 (Building): IoU = 0.235\u001b[0m\n",
            "\u001b[37m\u001b[2mClass 2 (Road): IoU = 0.215\u001b[0m\n",
            "\u001b[37m\u001b[2mClass 3 (Water): IoU = 0.361\u001b[0m\n",
            "\u001b[37m\u001b[2mClass 4 (Barren): IoU = 0.056\u001b[0m\n",
            "\u001b[37m\u001b[2mClass 5 (Forest): IoU = 0.093\u001b[0m\n",
            "\u001b[37m\u001b[2mClass 6 (Agricultural): IoU = 0.113\u001b[0m\n",
            "\u001b[32m\u001b[22mTRAINING RESULTS (@epoch=17): mean Loss = 0.578 | mean-IoU = 0.581\u001b[0m\n",
            "\u001b[30m\u001b[43m\u001b[1mVALIDATION RESULTS (@epoch=17): mean Loss = 2.253 | mean-IoU = 0.234\u001b[0m\n",
            "\u001b[36m\u001b[22mClass-wise IoUs:\u001b[0m\n",
            "\u001b[37m\u001b[2mClass 0 (Background): IoU = 0.456\u001b[0m\n",
            "\u001b[37m\u001b[2mClass 1 (Building): IoU = 0.257\u001b[0m\n",
            "\u001b[37m\u001b[2mClass 2 (Road): IoU = 0.218\u001b[0m\n",
            "\u001b[37m\u001b[2mClass 3 (Water): IoU = 0.373\u001b[0m\n",
            "\u001b[37m\u001b[2mClass 4 (Barren): IoU = 0.058\u001b[0m\n",
            "\u001b[37m\u001b[2mClass 5 (Forest): IoU = 0.085\u001b[0m\n",
            "\u001b[37m\u001b[2mClass 6 (Agricultural): IoU = 0.190\u001b[0m\n",
            "\u001b[32m\u001b[22mTRAINING RESULTS (@epoch=18): mean Loss = 0.563 | mean-IoU = 0.588\u001b[0m\n",
            "\u001b[30m\u001b[43m\u001b[1mVALIDATION RESULTS (@epoch=18): mean Loss = 2.227 | mean-IoU = 0.229\u001b[0m\n",
            "\u001b[36m\u001b[22mClass-wise IoUs:\u001b[0m\n",
            "\u001b[37m\u001b[2mClass 0 (Background): IoU = 0.447\u001b[0m\n",
            "\u001b[37m\u001b[2mClass 1 (Building): IoU = 0.208\u001b[0m\n",
            "\u001b[37m\u001b[2mClass 2 (Road): IoU = 0.227\u001b[0m\n",
            "\u001b[37m\u001b[2mClass 3 (Water): IoU = 0.385\u001b[0m\n",
            "\u001b[37m\u001b[2mClass 4 (Barren): IoU = 0.061\u001b[0m\n",
            "\u001b[37m\u001b[2mClass 5 (Forest): IoU = 0.088\u001b[0m\n",
            "\u001b[37m\u001b[2mClass 6 (Agricultural): IoU = 0.188\u001b[0m\n",
            "\u001b[32m\u001b[22mTRAINING RESULTS (@epoch=19): mean Loss = 0.571 | mean-IoU = 0.593\u001b[0m\n",
            "\u001b[30m\u001b[43m\u001b[1mVALIDATION RESULTS (@epoch=19): mean Loss = 2.032 | mean-IoU = 0.248\u001b[0m\n",
            "\u001b[36m\u001b[22mClass-wise IoUs:\u001b[0m\n",
            "\u001b[37m\u001b[2mClass 0 (Background): IoU = 0.415\u001b[0m\n",
            "\u001b[37m\u001b[2mClass 1 (Building): IoU = 0.234\u001b[0m\n",
            "\u001b[37m\u001b[2mClass 2 (Road): IoU = 0.250\u001b[0m\n",
            "\u001b[37m\u001b[2mClass 3 (Water): IoU = 0.380\u001b[0m\n",
            "\u001b[37m\u001b[2mClass 4 (Barren): IoU = 0.093\u001b[0m\n",
            "\u001b[37m\u001b[2mClass 5 (Forest): IoU = 0.110\u001b[0m\n",
            "\u001b[37m\u001b[2mClass 6 (Agricultural): IoU = 0.252\u001b[0m\n",
            "\u001b[32m\u001b[22mTRAINING RESULTS (@epoch=20): mean Loss = 0.545 | mean-IoU = 0.599\u001b[0m\n",
            "\u001b[30m\u001b[43m\u001b[1mVALIDATION RESULTS (@epoch=20): mean Loss = 2.205 | mean-IoU = 0.241\u001b[0m\n",
            "\u001b[36m\u001b[22mClass-wise IoUs:\u001b[0m\n",
            "\u001b[37m\u001b[2mClass 0 (Background): IoU = 0.418\u001b[0m\n",
            "\u001b[37m\u001b[2mClass 1 (Building): IoU = 0.268\u001b[0m\n",
            "\u001b[37m\u001b[2mClass 2 (Road): IoU = 0.249\u001b[0m\n",
            "\u001b[37m\u001b[2mClass 3 (Water): IoU = 0.363\u001b[0m\n",
            "\u001b[37m\u001b[2mClass 4 (Barren): IoU = 0.061\u001b[0m\n",
            "\u001b[37m\u001b[2mClass 5 (Forest): IoU = 0.105\u001b[0m\n",
            "\u001b[37m\u001b[2mClass 6 (Agricultural): IoU = 0.222\u001b[0m\n",
            "\u001b[30m\u001b[46m\u001b[1mTesting PIDNet with LoveDA-URBAN with augmentation v72\u001b[0m\n",
            "\u001b[30m\u001b[42m\u001b[1mTEST RESULTS on VALIDATION SET: mean Loss = 1.922 | mean-IoU = 0.253\u001b[0m\n",
            "\u001b[36m\u001b[22mClass-wise IoUs:\u001b[0m\n",
            "\u001b[37m\u001b[2mClass 0 (Background): IoU = 0.460\u001b[0m\n",
            "\u001b[37m\u001b[2mClass 1 (Building): IoU = 0.319\u001b[0m\n",
            "\u001b[37m\u001b[2mClass 2 (Road): IoU = 0.233\u001b[0m\n",
            "\u001b[37m\u001b[2mClass 3 (Water): IoU = 0.312\u001b[0m\n",
            "\u001b[37m\u001b[2mClass 4 (Barren): IoU = 0.083\u001b[0m\n",
            "\u001b[37m\u001b[2mClass 5 (Forest): IoU = 0.085\u001b[0m\n",
            "\u001b[37m\u001b[2mClass 6 (Agricultural): IoU = 0.281\u001b[0m\n",
            "\u001b[30m\u001b[41m\u001b[1mTraining PIDNet with LoveDA-URBAN with augmentation v3\u001b[0m\n",
            "\u001b[32m\u001b[22mTRAINING RESULTS (@epoch=1): mean Loss = 1.272 | mean-IoU = 0.267\u001b[0m\n",
            "\u001b[30m\u001b[43m\u001b[1mVALIDATION RESULTS (@epoch=1): mean Loss = 1.869 | mean-IoU = 0.200\u001b[0m\n",
            "\u001b[36m\u001b[22mClass-wise IoUs:\u001b[0m\n",
            "\u001b[37m\u001b[2mClass 0 (Background): IoU = 0.451\u001b[0m\n",
            "\u001b[37m\u001b[2mClass 1 (Building): IoU = 0.188\u001b[0m\n",
            "\u001b[37m\u001b[2mClass 2 (Road): IoU = 0.174\u001b[0m\n",
            "\u001b[37m\u001b[2mClass 3 (Water): IoU = 0.366\u001b[0m\n",
            "\u001b[37m\u001b[2mClass 4 (Barren): IoU = 0.086\u001b[0m\n",
            "\u001b[37m\u001b[2mClass 5 (Forest): IoU = 0.075\u001b[0m\n",
            "\u001b[37m\u001b[2mClass 6 (Agricultural): IoU = 0.060\u001b[0m\n",
            "Saving Model to saved_models/pidnet_augmented_v3.pth...\n",
            "Done!\n",
            "\u001b[32m\u001b[22mTRAINING RESULTS (@epoch=2): mean Loss = 1.003 | mean-IoU = 0.318\u001b[0m\n",
            "\u001b[30m\u001b[43m\u001b[1mVALIDATION RESULTS (@epoch=2): mean Loss = 1.863 | mean-IoU = 0.211\u001b[0m\n",
            "\u001b[36m\u001b[22mClass-wise IoUs:\u001b[0m\n",
            "\u001b[37m\u001b[2mClass 0 (Background): IoU = 0.450\u001b[0m\n",
            "\u001b[37m\u001b[2mClass 1 (Building): IoU = 0.248\u001b[0m\n",
            "\u001b[37m\u001b[2mClass 2 (Road): IoU = 0.204\u001b[0m\n",
            "\u001b[37m\u001b[2mClass 3 (Water): IoU = 0.375\u001b[0m\n",
            "\u001b[37m\u001b[2mClass 4 (Barren): IoU = 0.074\u001b[0m\n",
            "\u001b[37m\u001b[2mClass 5 (Forest): IoU = 0.060\u001b[0m\n",
            "\u001b[37m\u001b[2mClass 6 (Agricultural): IoU = 0.068\u001b[0m\n",
            "Saving Model to saved_models/pidnet_augmented_v3.pth...\n",
            "Done!\n",
            "\u001b[32m\u001b[22mTRAINING RESULTS (@epoch=3): mean Loss = 0.970 | mean-IoU = 0.345\u001b[0m\n",
            "\u001b[30m\u001b[43m\u001b[1mVALIDATION RESULTS (@epoch=3): mean Loss = 1.659 | mean-IoU = 0.238\u001b[0m\n",
            "\u001b[36m\u001b[22mClass-wise IoUs:\u001b[0m\n",
            "\u001b[37m\u001b[2mClass 0 (Background): IoU = 0.469\u001b[0m\n",
            "\u001b[37m\u001b[2mClass 1 (Building): IoU = 0.246\u001b[0m\n",
            "\u001b[37m\u001b[2mClass 2 (Road): IoU = 0.215\u001b[0m\n",
            "\u001b[37m\u001b[2mClass 3 (Water): IoU = 0.443\u001b[0m\n",
            "\u001b[37m\u001b[2mClass 4 (Barren): IoU = 0.065\u001b[0m\n",
            "\u001b[37m\u001b[2mClass 5 (Forest): IoU = 0.069\u001b[0m\n",
            "\u001b[37m\u001b[2mClass 6 (Agricultural): IoU = 0.158\u001b[0m\n",
            "Saving Model to saved_models/pidnet_augmented_v3.pth...\n",
            "Done!\n",
            "\u001b[32m\u001b[22mTRAINING RESULTS (@epoch=4): mean Loss = 0.949 | mean-IoU = 0.354\u001b[0m\n",
            "\u001b[30m\u001b[43m\u001b[1mVALIDATION RESULTS (@epoch=4): mean Loss = 1.756 | mean-IoU = 0.229\u001b[0m\n",
            "\u001b[36m\u001b[22mClass-wise IoUs:\u001b[0m\n",
            "\u001b[37m\u001b[2mClass 0 (Background): IoU = 0.480\u001b[0m\n",
            "\u001b[37m\u001b[2mClass 1 (Building): IoU = 0.250\u001b[0m\n",
            "\u001b[37m\u001b[2mClass 2 (Road): IoU = 0.177\u001b[0m\n",
            "\u001b[37m\u001b[2mClass 3 (Water): IoU = 0.450\u001b[0m\n",
            "\u001b[37m\u001b[2mClass 4 (Barren): IoU = 0.083\u001b[0m\n",
            "\u001b[37m\u001b[2mClass 5 (Forest): IoU = 0.058\u001b[0m\n",
            "\u001b[37m\u001b[2mClass 6 (Agricultural): IoU = 0.105\u001b[0m\n",
            "\u001b[32m\u001b[22mTRAINING RESULTS (@epoch=5): mean Loss = 0.895 | mean-IoU = 0.379\u001b[0m\n",
            "\u001b[30m\u001b[43m\u001b[1mVALIDATION RESULTS (@epoch=5): mean Loss = 1.758 | mean-IoU = 0.237\u001b[0m\n",
            "\u001b[36m\u001b[22mClass-wise IoUs:\u001b[0m\n",
            "\u001b[37m\u001b[2mClass 0 (Background): IoU = 0.464\u001b[0m\n",
            "\u001b[37m\u001b[2mClass 1 (Building): IoU = 0.273\u001b[0m\n",
            "\u001b[37m\u001b[2mClass 2 (Road): IoU = 0.193\u001b[0m\n",
            "\u001b[37m\u001b[2mClass 3 (Water): IoU = 0.400\u001b[0m\n",
            "\u001b[37m\u001b[2mClass 4 (Barren): IoU = 0.093\u001b[0m\n",
            "\u001b[37m\u001b[2mClass 5 (Forest): IoU = 0.077\u001b[0m\n",
            "\u001b[37m\u001b[2mClass 6 (Agricultural): IoU = 0.157\u001b[0m\n",
            "\u001b[32m\u001b[22mTRAINING RESULTS (@epoch=6): mean Loss = 0.875 | mean-IoU = 0.387\u001b[0m\n",
            "\u001b[30m\u001b[43m\u001b[1mVALIDATION RESULTS (@epoch=6): mean Loss = 1.608 | mean-IoU = 0.266\u001b[0m\n",
            "\u001b[36m\u001b[22mClass-wise IoUs:\u001b[0m\n",
            "\u001b[37m\u001b[2mClass 0 (Background): IoU = 0.466\u001b[0m\n",
            "\u001b[37m\u001b[2mClass 1 (Building): IoU = 0.300\u001b[0m\n",
            "\u001b[37m\u001b[2mClass 2 (Road): IoU = 0.206\u001b[0m\n",
            "\u001b[37m\u001b[2mClass 3 (Water): IoU = 0.484\u001b[0m\n",
            "\u001b[37m\u001b[2mClass 4 (Barren): IoU = 0.106\u001b[0m\n",
            "\u001b[37m\u001b[2mClass 5 (Forest): IoU = 0.100\u001b[0m\n",
            "\u001b[37m\u001b[2mClass 6 (Agricultural): IoU = 0.197\u001b[0m\n",
            "Saving Model to saved_models/pidnet_augmented_v3.pth...\n",
            "Done!\n",
            "\u001b[32m\u001b[22mTRAINING RESULTS (@epoch=7): mean Loss = 0.863 | mean-IoU = 0.400\u001b[0m\n",
            "\u001b[30m\u001b[43m\u001b[1mVALIDATION RESULTS (@epoch=7): mean Loss = 1.583 | mean-IoU = 0.253\u001b[0m\n",
            "\u001b[36m\u001b[22mClass-wise IoUs:\u001b[0m\n",
            "\u001b[37m\u001b[2mClass 0 (Background): IoU = 0.470\u001b[0m\n",
            "\u001b[37m\u001b[2mClass 1 (Building): IoU = 0.236\u001b[0m\n",
            "\u001b[37m\u001b[2mClass 2 (Road): IoU = 0.209\u001b[0m\n",
            "\u001b[37m\u001b[2mClass 3 (Water): IoU = 0.464\u001b[0m\n",
            "\u001b[37m\u001b[2mClass 4 (Barren): IoU = 0.065\u001b[0m\n",
            "\u001b[37m\u001b[2mClass 5 (Forest): IoU = 0.107\u001b[0m\n",
            "\u001b[37m\u001b[2mClass 6 (Agricultural): IoU = 0.219\u001b[0m\n",
            "\u001b[32m\u001b[22mTRAINING RESULTS (@epoch=8): mean Loss = 0.846 | mean-IoU = 0.415\u001b[0m\n",
            "\u001b[30m\u001b[43m\u001b[1mVALIDATION RESULTS (@epoch=8): mean Loss = 1.445 | mean-IoU = 0.279\u001b[0m\n",
            "\u001b[36m\u001b[22mClass-wise IoUs:\u001b[0m\n",
            "\u001b[37m\u001b[2mClass 0 (Background): IoU = 0.471\u001b[0m\n",
            "\u001b[37m\u001b[2mClass 1 (Building): IoU = 0.347\u001b[0m\n",
            "\u001b[37m\u001b[2mClass 2 (Road): IoU = 0.216\u001b[0m\n",
            "\u001b[37m\u001b[2mClass 3 (Water): IoU = 0.432\u001b[0m\n",
            "\u001b[37m\u001b[2mClass 4 (Barren): IoU = 0.063\u001b[0m\n",
            "\u001b[37m\u001b[2mClass 5 (Forest): IoU = 0.112\u001b[0m\n",
            "\u001b[37m\u001b[2mClass 6 (Agricultural): IoU = 0.312\u001b[0m\n",
            "Saving Model to saved_models/pidnet_augmented_v3.pth...\n",
            "Done!\n",
            "\u001b[32m\u001b[22mTRAINING RESULTS (@epoch=9): mean Loss = 0.842 | mean-IoU = 0.412\u001b[0m\n",
            "\u001b[30m\u001b[43m\u001b[1mVALIDATION RESULTS (@epoch=9): mean Loss = 1.577 | mean-IoU = 0.264\u001b[0m\n",
            "\u001b[36m\u001b[22mClass-wise IoUs:\u001b[0m\n",
            "\u001b[37m\u001b[2mClass 0 (Background): IoU = 0.481\u001b[0m\n",
            "\u001b[37m\u001b[2mClass 1 (Building): IoU = 0.346\u001b[0m\n",
            "\u001b[37m\u001b[2mClass 2 (Road): IoU = 0.193\u001b[0m\n",
            "\u001b[37m\u001b[2mClass 3 (Water): IoU = 0.415\u001b[0m\n",
            "\u001b[37m\u001b[2mClass 4 (Barren): IoU = 0.071\u001b[0m\n",
            "\u001b[37m\u001b[2mClass 5 (Forest): IoU = 0.088\u001b[0m\n",
            "\u001b[37m\u001b[2mClass 6 (Agricultural): IoU = 0.257\u001b[0m\n",
            "\u001b[32m\u001b[22mTRAINING RESULTS (@epoch=10): mean Loss = 0.837 | mean-IoU = 0.410\u001b[0m\n",
            "\u001b[30m\u001b[43m\u001b[1mVALIDATION RESULTS (@epoch=10): mean Loss = 1.679 | mean-IoU = 0.265\u001b[0m\n",
            "\u001b[36m\u001b[22mClass-wise IoUs:\u001b[0m\n",
            "\u001b[37m\u001b[2mClass 0 (Background): IoU = 0.416\u001b[0m\n",
            "\u001b[37m\u001b[2mClass 1 (Building): IoU = 0.290\u001b[0m\n",
            "\u001b[37m\u001b[2mClass 2 (Road): IoU = 0.245\u001b[0m\n",
            "\u001b[37m\u001b[2mClass 3 (Water): IoU = 0.424\u001b[0m\n",
            "\u001b[37m\u001b[2mClass 4 (Barren): IoU = 0.095\u001b[0m\n",
            "\u001b[37m\u001b[2mClass 5 (Forest): IoU = 0.124\u001b[0m\n",
            "\u001b[37m\u001b[2mClass 6 (Agricultural): IoU = 0.258\u001b[0m\n",
            "\u001b[32m\u001b[22mTRAINING RESULTS (@epoch=11): mean Loss = 0.830 | mean-IoU = 0.417\u001b[0m\n",
            "\u001b[30m\u001b[43m\u001b[1mVALIDATION RESULTS (@epoch=11): mean Loss = 1.690 | mean-IoU = 0.265\u001b[0m\n",
            "\u001b[36m\u001b[22mClass-wise IoUs:\u001b[0m\n",
            "\u001b[37m\u001b[2mClass 0 (Background): IoU = 0.451\u001b[0m\n",
            "\u001b[37m\u001b[2mClass 1 (Building): IoU = 0.255\u001b[0m\n",
            "\u001b[37m\u001b[2mClass 2 (Road): IoU = 0.240\u001b[0m\n",
            "\u001b[37m\u001b[2mClass 3 (Water): IoU = 0.398\u001b[0m\n",
            "\u001b[37m\u001b[2mClass 4 (Barren): IoU = 0.071\u001b[0m\n",
            "\u001b[37m\u001b[2mClass 5 (Forest): IoU = 0.129\u001b[0m\n",
            "\u001b[37m\u001b[2mClass 6 (Agricultural): IoU = 0.315\u001b[0m\n",
            "\u001b[32m\u001b[22mTRAINING RESULTS (@epoch=12): mean Loss = 0.832 | mean-IoU = 0.437\u001b[0m\n",
            "\u001b[30m\u001b[43m\u001b[1mVALIDATION RESULTS (@epoch=12): mean Loss = 1.534 | mean-IoU = 0.275\u001b[0m\n",
            "\u001b[36m\u001b[22mClass-wise IoUs:\u001b[0m\n",
            "\u001b[37m\u001b[2mClass 0 (Background): IoU = 0.483\u001b[0m\n",
            "\u001b[37m\u001b[2mClass 1 (Building): IoU = 0.297\u001b[0m\n",
            "\u001b[37m\u001b[2mClass 2 (Road): IoU = 0.216\u001b[0m\n",
            "\u001b[37m\u001b[2mClass 3 (Water): IoU = 0.445\u001b[0m\n",
            "\u001b[37m\u001b[2mClass 4 (Barren): IoU = 0.047\u001b[0m\n",
            "\u001b[37m\u001b[2mClass 5 (Forest): IoU = 0.127\u001b[0m\n",
            "\u001b[37m\u001b[2mClass 6 (Agricultural): IoU = 0.313\u001b[0m\n",
            "\u001b[32m\u001b[22mTRAINING RESULTS (@epoch=13): mean Loss = 0.797 | mean-IoU = 0.443\u001b[0m\n",
            "\u001b[30m\u001b[43m\u001b[1mVALIDATION RESULTS (@epoch=13): mean Loss = 1.617 | mean-IoU = 0.272\u001b[0m\n",
            "\u001b[36m\u001b[22mClass-wise IoUs:\u001b[0m\n",
            "\u001b[37m\u001b[2mClass 0 (Background): IoU = 0.475\u001b[0m\n",
            "\u001b[37m\u001b[2mClass 1 (Building): IoU = 0.303\u001b[0m\n",
            "\u001b[37m\u001b[2mClass 2 (Road): IoU = 0.221\u001b[0m\n",
            "\u001b[37m\u001b[2mClass 3 (Water): IoU = 0.428\u001b[0m\n",
            "\u001b[37m\u001b[2mClass 4 (Barren): IoU = 0.077\u001b[0m\n",
            "\u001b[37m\u001b[2mClass 5 (Forest): IoU = 0.114\u001b[0m\n",
            "\u001b[37m\u001b[2mClass 6 (Agricultural): IoU = 0.284\u001b[0m\n",
            "\u001b[32m\u001b[22mTRAINING RESULTS (@epoch=14): mean Loss = 0.795 | mean-IoU = 0.451\u001b[0m\n",
            "\u001b[30m\u001b[43m\u001b[1mVALIDATION RESULTS (@epoch=14): mean Loss = 1.671 | mean-IoU = 0.245\u001b[0m\n",
            "\u001b[36m\u001b[22mClass-wise IoUs:\u001b[0m\n",
            "\u001b[37m\u001b[2mClass 0 (Background): IoU = 0.478\u001b[0m\n",
            "\u001b[37m\u001b[2mClass 1 (Building): IoU = 0.231\u001b[0m\n",
            "\u001b[37m\u001b[2mClass 2 (Road): IoU = 0.174\u001b[0m\n",
            "\u001b[37m\u001b[2mClass 3 (Water): IoU = 0.401\u001b[0m\n",
            "\u001b[37m\u001b[2mClass 4 (Barren): IoU = 0.056\u001b[0m\n",
            "\u001b[37m\u001b[2mClass 5 (Forest): IoU = 0.085\u001b[0m\n",
            "\u001b[37m\u001b[2mClass 6 (Agricultural): IoU = 0.288\u001b[0m\n",
            "\u001b[32m\u001b[22mTRAINING RESULTS (@epoch=15): mean Loss = 0.794 | mean-IoU = 0.448\u001b[0m\n",
            "\u001b[30m\u001b[43m\u001b[1mVALIDATION RESULTS (@epoch=15): mean Loss = 1.590 | mean-IoU = 0.279\u001b[0m\n",
            "\u001b[36m\u001b[22mClass-wise IoUs:\u001b[0m\n",
            "\u001b[37m\u001b[2mClass 0 (Background): IoU = 0.464\u001b[0m\n",
            "\u001b[37m\u001b[2mClass 1 (Building): IoU = 0.349\u001b[0m\n",
            "\u001b[37m\u001b[2mClass 2 (Road): IoU = 0.226\u001b[0m\n",
            "\u001b[37m\u001b[2mClass 3 (Water): IoU = 0.426\u001b[0m\n",
            "\u001b[37m\u001b[2mClass 4 (Barren): IoU = 0.061\u001b[0m\n",
            "\u001b[37m\u001b[2mClass 5 (Forest): IoU = 0.119\u001b[0m\n",
            "\u001b[37m\u001b[2mClass 6 (Agricultural): IoU = 0.305\u001b[0m\n",
            "\u001b[32m\u001b[22mTRAINING RESULTS (@epoch=16): mean Loss = 0.777 | mean-IoU = 0.458\u001b[0m\n",
            "\u001b[30m\u001b[43m\u001b[1mVALIDATION RESULTS (@epoch=16): mean Loss = 1.683 | mean-IoU = 0.272\u001b[0m\n",
            "\u001b[36m\u001b[22mClass-wise IoUs:\u001b[0m\n",
            "\u001b[37m\u001b[2mClass 0 (Background): IoU = 0.494\u001b[0m\n",
            "\u001b[37m\u001b[2mClass 1 (Building): IoU = 0.291\u001b[0m\n",
            "\u001b[37m\u001b[2mClass 2 (Road): IoU = 0.237\u001b[0m\n",
            "\u001b[37m\u001b[2mClass 3 (Water): IoU = 0.422\u001b[0m\n",
            "\u001b[37m\u001b[2mClass 4 (Barren): IoU = 0.072\u001b[0m\n",
            "\u001b[37m\u001b[2mClass 5 (Forest): IoU = 0.134\u001b[0m\n",
            "\u001b[37m\u001b[2mClass 6 (Agricultural): IoU = 0.256\u001b[0m\n",
            "\u001b[32m\u001b[22mTRAINING RESULTS (@epoch=17): mean Loss = 0.761 | mean-IoU = 0.472\u001b[0m\n",
            "\u001b[30m\u001b[43m\u001b[1mVALIDATION RESULTS (@epoch=17): mean Loss = 1.848 | mean-IoU = 0.269\u001b[0m\n",
            "\u001b[36m\u001b[22mClass-wise IoUs:\u001b[0m\n",
            "\u001b[37m\u001b[2mClass 0 (Background): IoU = 0.455\u001b[0m\n",
            "\u001b[37m\u001b[2mClass 1 (Building): IoU = 0.328\u001b[0m\n",
            "\u001b[37m\u001b[2mClass 2 (Road): IoU = 0.238\u001b[0m\n",
            "\u001b[37m\u001b[2mClass 3 (Water): IoU = 0.399\u001b[0m\n",
            "\u001b[37m\u001b[2mClass 4 (Barren): IoU = 0.082\u001b[0m\n",
            "\u001b[37m\u001b[2mClass 5 (Forest): IoU = 0.125\u001b[0m\n",
            "\u001b[37m\u001b[2mClass 6 (Agricultural): IoU = 0.252\u001b[0m\n",
            "\u001b[32m\u001b[22mTRAINING RESULTS (@epoch=18): mean Loss = 0.765 | mean-IoU = 0.464\u001b[0m\n",
            "\u001b[30m\u001b[43m\u001b[1mVALIDATION RESULTS (@epoch=18): mean Loss = 1.708 | mean-IoU = 0.246\u001b[0m\n",
            "\u001b[36m\u001b[22mClass-wise IoUs:\u001b[0m\n",
            "\u001b[37m\u001b[2mClass 0 (Background): IoU = 0.473\u001b[0m\n",
            "\u001b[37m\u001b[2mClass 1 (Building): IoU = 0.272\u001b[0m\n",
            "\u001b[37m\u001b[2mClass 2 (Road): IoU = 0.230\u001b[0m\n",
            "\u001b[37m\u001b[2mClass 3 (Water): IoU = 0.292\u001b[0m\n",
            "\u001b[37m\u001b[2mClass 4 (Barren): IoU = 0.065\u001b[0m\n",
            "\u001b[37m\u001b[2mClass 5 (Forest): IoU = 0.117\u001b[0m\n",
            "\u001b[37m\u001b[2mClass 6 (Agricultural): IoU = 0.271\u001b[0m\n",
            "\u001b[32m\u001b[22mTRAINING RESULTS (@epoch=19): mean Loss = 0.755 | mean-IoU = 0.468\u001b[0m\n",
            "\u001b[30m\u001b[43m\u001b[1mVALIDATION RESULTS (@epoch=19): mean Loss = 1.620 | mean-IoU = 0.274\u001b[0m\n",
            "\u001b[36m\u001b[22mClass-wise IoUs:\u001b[0m\n",
            "\u001b[37m\u001b[2mClass 0 (Background): IoU = 0.481\u001b[0m\n",
            "\u001b[37m\u001b[2mClass 1 (Building): IoU = 0.282\u001b[0m\n",
            "\u001b[37m\u001b[2mClass 2 (Road): IoU = 0.235\u001b[0m\n",
            "\u001b[37m\u001b[2mClass 3 (Water): IoU = 0.466\u001b[0m\n",
            "\u001b[37m\u001b[2mClass 4 (Barren): IoU = 0.054\u001b[0m\n",
            "\u001b[37m\u001b[2mClass 5 (Forest): IoU = 0.102\u001b[0m\n",
            "\u001b[37m\u001b[2mClass 6 (Agricultural): IoU = 0.300\u001b[0m\n",
            "\u001b[32m\u001b[22mTRAINING RESULTS (@epoch=20): mean Loss = 0.733 | mean-IoU = 0.483\u001b[0m\n",
            "\u001b[30m\u001b[43m\u001b[1mVALIDATION RESULTS (@epoch=20): mean Loss = 1.697 | mean-IoU = 0.266\u001b[0m\n",
            "\u001b[36m\u001b[22mClass-wise IoUs:\u001b[0m\n",
            "\u001b[37m\u001b[2mClass 0 (Background): IoU = 0.475\u001b[0m\n",
            "\u001b[37m\u001b[2mClass 1 (Building): IoU = 0.252\u001b[0m\n",
            "\u001b[37m\u001b[2mClass 2 (Road): IoU = 0.212\u001b[0m\n",
            "\u001b[37m\u001b[2mClass 3 (Water): IoU = 0.445\u001b[0m\n",
            "\u001b[37m\u001b[2mClass 4 (Barren): IoU = 0.073\u001b[0m\n",
            "\u001b[37m\u001b[2mClass 5 (Forest): IoU = 0.123\u001b[0m\n",
            "\u001b[37m\u001b[2mClass 6 (Agricultural): IoU = 0.281\u001b[0m\n",
            "\u001b[30m\u001b[46m\u001b[1mTesting PIDNet with LoveDA-URBAN with augmentation v72\u001b[0m\n",
            "\u001b[30m\u001b[42m\u001b[1mTEST RESULTS on VALIDATION SET: mean Loss = 1.445 | mean-IoU = 0.279\u001b[0m\n",
            "\u001b[36m\u001b[22mClass-wise IoUs:\u001b[0m\n",
            "\u001b[37m\u001b[2mClass 0 (Background): IoU = 0.471\u001b[0m\n",
            "\u001b[37m\u001b[2mClass 1 (Building): IoU = 0.347\u001b[0m\n",
            "\u001b[37m\u001b[2mClass 2 (Road): IoU = 0.216\u001b[0m\n",
            "\u001b[37m\u001b[2mClass 3 (Water): IoU = 0.432\u001b[0m\n",
            "\u001b[37m\u001b[2mClass 4 (Barren): IoU = 0.063\u001b[0m\n",
            "\u001b[37m\u001b[2mClass 5 (Forest): IoU = 0.112\u001b[0m\n",
            "\u001b[37m\u001b[2mClass 6 (Agricultural): IoU = 0.312\u001b[0m\n"
          ]
        }
      ]
    },
    {
      "cell_type": "markdown",
      "source": [
        "## Domain Adaptation techniques\n",
        "\n",
        "### DACS: Domain Adaptation via Cross-domain mixed Sampling\n",
        "Now we try to implement another **UDA** technique that is based on mixing samples from the two domains."
      ],
      "metadata": {
        "id": "_eqi77ree8oQ"
      }
    },
    {
      "cell_type": "code",
      "source": [
        "half_classes_num,m = divmod(NUM_CLASSES,2)\n",
        "half_classes_num += m*np.random.randint(0,2) # in case NUM_CLASSES IS ODD\n",
        "\n",
        "def DACS_mix_batch(source_batch,source_labels,target_batch,target_pseudo_labels):\n",
        "  # initialize the mixed items with a clone of the target\n",
        "  dacs_batch = target_batch.clone()\n",
        "  dacs_labels = target_pseudo_labels.clone()\n",
        "\n",
        "  # create a mask with half of the classes from source\n",
        "  mask_classes = np.random.choice(NUM_CLASSES, half_classes_num, replace=False) # select a subset of classes\n",
        "  mask = torch.isin(source_labels,mask_classes) # create a mask with them\n",
        "\n",
        "  # replaces in target parts of the mask with the source\n",
        "  dacs_batch[mask] = source_batch[mask]\n",
        "  dacs_labels[mask] = source_labels[mask]\n",
        "  return dacs_batch, dacs_labels"
      ],
      "metadata": {
        "id": "pcN6yUDwsS9l"
      },
      "execution_count": 35,
      "outputs": []
    },
    {
      "cell_type": "code",
      "source": [
        "BEST_TRF_INDEX = 0\n",
        "best_trf = train_transform_augmentations[BEST_TRF_INDEX]"
      ],
      "metadata": {
        "id": "gEJBNAafmJdt"
      },
      "execution_count": null,
      "outputs": []
    },
    {
      "cell_type": "code",
      "source": [
        "# Train Datasets (urban and DACS mix of urban and rural with pseudo-labels)\n",
        "urban_train_augmented = LoveDA(TRAIN_PATH, DataType.URBAN, transforms=best_trf) # best augmentation\n",
        "rural_train = LoveDA(TRAIN_PATH, DataType.RURAL,transforms=train_transform) # base transformation\n",
        "urban_train_dataloader_augmented = DataLoader(urban_train_augmented, batch_size=BATCH_SIZE, shuffle=True, num_workers=NUM_WORKERS, drop_last=True)\n",
        "\n",
        "# Train dataloaders (urban and DACS mix of urban and rural with pseudo-labels)\n",
        "\n",
        "rural_train_dataloader = DataLoader(rural_train, batch_size=BATCH_SIZE, shuffle=True, num_workers=NUM_WORKERS, drop_last=True)\n",
        "\n",
        "# Val dataset (only rural)\n",
        "rural_val = LoveDA(VAL_PATH, DataType.RURAL, transforms=test_transform)\n",
        "\n",
        "# Rural Dataloaders (train, val, test)\n",
        "NUM_WORKERS = 2 if DBG else 4\n",
        "rural_val_dataloader = DataLoader(rural_val, shuffle=False, num_workers=NUM_WORKERS, drop_last=False)\n",
        "weights_path = PIDNET_DACS_FINAL_WEIGHTS_PATH"
      ],
      "metadata": {
        "id": "UMhMMi0ee8V9"
      },
      "execution_count": null,
      "outputs": []
    },
    {
      "cell_type": "code",
      "source": [
        "import warnings\n",
        "from torch.backends import cudnn\n",
        "\n",
        "warnings.filterwarnings('ignore')\n",
        "cudnn.benchmark\n",
        "CUDA_LAUNCH_BLOCKING=1\n",
        "\n",
        "model = load_model_weights(model,PIDNET_PRETRAIN_WEIGHTS_PATH).to(DEVICE)\n",
        "\n",
        "iterPerEpoch = len(urban_train_dataloader_augmented)\n",
        "\n",
        "\n",
        "best_IoU = 0\n",
        "\n",
        "print(Fore.BLACK+Back.RED+Style.BRIGHT+f\"Training PIDNet with LoveDA-URBAN with augmentation v{i+1}\"+Style.RESET_ALL)\n",
        "\n",
        "for epoch in range(NUM_EPOCHS):\n",
        "    model.train()\n",
        "    epoch_loss = 0\n",
        "    iou_meter = IoUMeter()\n",
        "\n",
        "    for i, (urban_inputs, urban_targets) in enumerate(urban_train_dataloader_augmented):\n",
        "        optimizer_fn.zero_grad()\n",
        "\n",
        "        # send inputs to gpu\n",
        "        inputs = inputs.to(DEVICE)\n",
        "        labels = targets.long().to(device=DEVICE)\n",
        "\n",
        "        # feeds in the model\n",
        "        output_logits,_,_ = model(inputs)\n",
        "\n",
        "        h, w = labels.size(1), labels.size(2)\n",
        "        ph, pw = output_logits.size(2), output_logits.size(3)\n",
        "        if ph != h or pw != w:\n",
        "          output_logits = F.interpolate(output_logits, size=(h, w), mode='bilinear', align_corners=True)\n",
        "\n",
        "\n",
        "        # compute loss\n",
        "        loss = sem_criterion(output_logits, labels)\n",
        "        \"\"\"\n",
        "        filler = torch.ones_like(labels) * config.TRAIN.IGNORE_LABEL\n",
        "        bd_label = torch.where(F.sigmoid(outputs[-1][:,0,:,:])>0.8, labels, filler)\n",
        "        loss_sb = self.sem_loss(outputs[-2], bd_label)\n",
        "        loss += loss_sb\n",
        "        \"\"\"\n",
        "\n",
        "        # backward loss and optimizer step\n",
        "        loss.backward()\n",
        "        optimizer_fn.step()\n",
        "\n",
        "        #compute the training accuracy\n",
        "        _, predicted = torch.max(output_logits.data, 1)\n",
        "\n",
        "        iou_meter.addCouple(predicted,labels)\n",
        "\n",
        "        step_loss = loss.data.item()\n",
        "        epoch_loss += step_loss\n",
        "\n",
        "    # FINAL EPOCH-WISE COMPUTATIONS\n",
        "    avg_loss = epoch_loss/iterPerEpoch\n",
        "    stat_plot(avg_loss,iou_meter,mode=StatPlotMode.TRAINING,epoch=epoch)\n",
        "\n",
        "    if validate:\n",
        "        model.eval()\n",
        "        val_loss = 0\n",
        "        iterPerVal = len(rural_val_dataloader)\n",
        "        iou_meter = IoUMeter()\n",
        "        for j, (inputs, targets) in enumerate(rural_val_dataloader):\n",
        "\n",
        "            # feeds in model\n",
        "            inputs = inputs.to(DEVICE)\n",
        "            labels = targets.long().to(device=DEVICE)\n",
        "            output_logits,_,_ = model(inputs)\n",
        "            output_logits = F.interpolate(output_logits, size=labels.shape[1:], mode='bilinear', align_corners=True)\n",
        "\n",
        "            # compute loss\n",
        "            loss = sem_criterion(output_logits, labels)\n",
        "\n",
        "            # compute the training accuracy\n",
        "            _, predicted = torch.max(output_logits.data, 1)\n",
        "\n",
        "            iou_meter.addCouple(predicted,labels)\n",
        "\n",
        "            step_loss = loss.data.item()\n",
        "            val_loss += step_loss\n",
        "\n",
        "\n",
        "        # FINAL EPOCH-WISE COMPUTATIONS\n",
        "        avg_loss = val_loss/iterPerVal\n",
        "        mean_IoU = iou_meter.getTotal()\n",
        "        stat_plot(avg_loss,iou_meter,mode=StatPlotMode.VALIDATION,epoch=epoch)\n",
        "\n",
        "        if mean_IoU > best_IoU:\n",
        "            best_IoU = mean_IoU\n",
        "            save_model_weights(model,weights_path)\n",
        "        # END OF VALIDATION\n",
        "\n",
        "optim_scheduler.step()\n",
        "# END OF TRAINING\n"
      ],
      "metadata": {
        "id": "Awjnnt-zmviN"
      },
      "execution_count": null,
      "outputs": []
    },
    {
      "cell_type": "markdown",
      "source": [
        "testing"
      ],
      "metadata": {
        "id": "nNBxq7oKnGda"
      }
    },
    {
      "cell_type": "code",
      "source": [
        "# TESTING ON BEST WEIGHTS\n",
        "print(Fore.BLACK+Back.CYAN+Style.BRIGHT+f\"Testing PIDNet with LoveDA-URBAN with augmentation v{i+1}\"+Style.RESET_ALL)\n",
        "model = load_model_weights(model,weights_path).to(DEVICE)\n",
        "model.eval()\n",
        "val_loss = 0\n",
        "iterPerVal = len(rural_val_dataloader)\n",
        "iou_meter = IoUMeter()\n",
        "for j, (inputs, targets) in enumerate(rural_val_dataloader):\n",
        "\n",
        "    # feeds in model\n",
        "    inputs = inputs.to(DEVICE)\n",
        "    labels = targets.long().to(device=DEVICE)\n",
        "    output_logits,_,_ = model(inputs)\n",
        "    output_logits = F.interpolate(output_logits, size=labels.shape[1:], mode='bilinear', align_corners=True)\n",
        "\n",
        "    # compute loss\n",
        "    loss = sem_criterion(output_logits, labels)\n",
        "\n",
        "\n",
        "    # compute the training accuracy\n",
        "    _, predicted = torch.max(output_logits.data, 1)\n",
        "\n",
        "    iou_meter.addCouple(predicted,labels)\n",
        "\n",
        "    step_loss = loss.data.item()\n",
        "    val_loss += step_loss\n",
        "\n",
        "\n",
        "# FINAL EPOCH-WISE COMPUTATIONS\n",
        "avg_loss = val_loss/iterPerVal\n",
        "stat_plot(avg_loss,iou_meter,mode=StatPlotMode.TESTING)\n",
        "# END OF TESTING"
      ],
      "metadata": {
        "id": "S0z_fZyunFno"
      },
      "execution_count": null,
      "outputs": []
    },
    {
      "cell_type": "markdown",
      "source": [
        "## 5"
      ],
      "metadata": {
        "id": "Qy6TQtquoEcP"
      }
    },
    {
      "cell_type": "code",
      "source": [
        "\n",
        "import cv2\n",
        "def canny_with_cv2(images_tensors, low_threshold=0.1, high_threshold=0.2):\n",
        "    # Convert to NumPy\n",
        "    edges_tensors = images_tensors.clone().cpu()\n",
        "    for i,img in enumerate(edges_tensors):\n",
        "      # Convert to NumPy\n",
        "      image_np = img.numpy()\n",
        "      edges_np = cv2.Canny((image_np*255).astype('uint8'), low_threshold, high_threshold)\n",
        "\n",
        "      # Convert back to tensor\n",
        "      edges_tensors[i] = torch.from_numpy(edges_np).float() / 255.0\n",
        "    return edges_tensors"
      ],
      "metadata": {
        "id": "RUkTsoeqLOK5"
      },
      "execution_count": null,
      "outputs": []
    }
  ],
  "metadata": {
    "kernelspec": {
      "display_name": "Python 3",
      "name": "python3"
    },
    "language_info": {
      "codemirror_mode": {
        "name": "ipython",
        "version": 3
      },
      "file_extension": ".py",
      "mimetype": "text/x-python",
      "name": "python",
      "nbconvert_exporter": "python",
      "pygments_lexer": "ipython3",
      "version": "3.12.4"
    },
    "colab": {
      "provenance": [],
      "gpuType": "T4",
      "include_colab_link": true
    },
    "accelerator": "GPU",
    "widgets": {
      "application/vnd.jupyter.widget-state+json": {
        "18e5785e3139418680af20c6f301a39a": {
          "model_module": "@jupyter-widgets/controls",
          "model_name": "HBoxModel",
          "model_module_version": "1.5.0",
          "state": {
            "_dom_classes": [],
            "_model_module": "@jupyter-widgets/controls",
            "_model_module_version": "1.5.0",
            "_model_name": "HBoxModel",
            "_view_count": null,
            "_view_module": "@jupyter-widgets/controls",
            "_view_module_version": "1.5.0",
            "_view_name": "HBoxView",
            "box_style": "",
            "children": [
              "IPY_MODEL_8f63611dfb9b42e280ca9f967bf7b0ab",
              "IPY_MODEL_00e18c883cd94154bbbd0945cbe3bfb6",
              "IPY_MODEL_c6f32e844b4741098f74ea7dffd27efd"
            ],
            "layout": "IPY_MODEL_2bf166517f8745d4b5901c89b4b9f23c"
          }
        },
        "8f63611dfb9b42e280ca9f967bf7b0ab": {
          "model_module": "@jupyter-widgets/controls",
          "model_name": "HTMLModel",
          "model_module_version": "1.5.0",
          "state": {
            "_dom_classes": [],
            "_model_module": "@jupyter-widgets/controls",
            "_model_module_version": "1.5.0",
            "_model_name": "HTMLModel",
            "_view_count": null,
            "_view_module": "@jupyter-widgets/controls",
            "_view_module_version": "1.5.0",
            "_view_name": "HTMLView",
            "description": "",
            "description_tooltip": null,
            "layout": "IPY_MODEL_1ed891393004417a9515e9115a053aca",
            "placeholder": "​",
            "style": "IPY_MODEL_80dc44b0d1784aa58feda22fc8fa63d0",
            "value": "100%"
          }
        },
        "00e18c883cd94154bbbd0945cbe3bfb6": {
          "model_module": "@jupyter-widgets/controls",
          "model_name": "FloatProgressModel",
          "model_module_version": "1.5.0",
          "state": {
            "_dom_classes": [],
            "_model_module": "@jupyter-widgets/controls",
            "_model_module_version": "1.5.0",
            "_model_name": "FloatProgressModel",
            "_view_count": null,
            "_view_module": "@jupyter-widgets/controls",
            "_view_module_version": "1.5.0",
            "_view_name": "ProgressView",
            "bar_style": "success",
            "description": "",
            "description_tooltip": null,
            "layout": "IPY_MODEL_156482b01ab2480f9e9593cf3b26e1dd",
            "max": 1000,
            "min": 0,
            "orientation": "horizontal",
            "style": "IPY_MODEL_72b31bfa0cd147e5b25632d1d526d664",
            "value": 1000
          }
        },
        "c6f32e844b4741098f74ea7dffd27efd": {
          "model_module": "@jupyter-widgets/controls",
          "model_name": "HTMLModel",
          "model_module_version": "1.5.0",
          "state": {
            "_dom_classes": [],
            "_model_module": "@jupyter-widgets/controls",
            "_model_module_version": "1.5.0",
            "_model_name": "HTMLModel",
            "_view_count": null,
            "_view_module": "@jupyter-widgets/controls",
            "_view_module_version": "1.5.0",
            "_view_name": "HTMLView",
            "description": "",
            "description_tooltip": null,
            "layout": "IPY_MODEL_ffc6e66c100948b49453121e88b44bb6",
            "placeholder": "​",
            "style": "IPY_MODEL_dd9e7aa7f5a14753a4804a3ff37ce2eb",
            "value": " 1000/1000 [00:41&lt;00:00, 26.43it/s]"
          }
        },
        "2bf166517f8745d4b5901c89b4b9f23c": {
          "model_module": "@jupyter-widgets/base",
          "model_name": "LayoutModel",
          "model_module_version": "1.2.0",
          "state": {
            "_model_module": "@jupyter-widgets/base",
            "_model_module_version": "1.2.0",
            "_model_name": "LayoutModel",
            "_view_count": null,
            "_view_module": "@jupyter-widgets/base",
            "_view_module_version": "1.2.0",
            "_view_name": "LayoutView",
            "align_content": null,
            "align_items": null,
            "align_self": null,
            "border": null,
            "bottom": null,
            "display": null,
            "flex": null,
            "flex_flow": null,
            "grid_area": null,
            "grid_auto_columns": null,
            "grid_auto_flow": null,
            "grid_auto_rows": null,
            "grid_column": null,
            "grid_gap": null,
            "grid_row": null,
            "grid_template_areas": null,
            "grid_template_columns": null,
            "grid_template_rows": null,
            "height": null,
            "justify_content": null,
            "justify_items": null,
            "left": null,
            "margin": null,
            "max_height": null,
            "max_width": null,
            "min_height": null,
            "min_width": null,
            "object_fit": null,
            "object_position": null,
            "order": null,
            "overflow": null,
            "overflow_x": null,
            "overflow_y": null,
            "padding": null,
            "right": null,
            "top": null,
            "visibility": null,
            "width": null
          }
        },
        "1ed891393004417a9515e9115a053aca": {
          "model_module": "@jupyter-widgets/base",
          "model_name": "LayoutModel",
          "model_module_version": "1.2.0",
          "state": {
            "_model_module": "@jupyter-widgets/base",
            "_model_module_version": "1.2.0",
            "_model_name": "LayoutModel",
            "_view_count": null,
            "_view_module": "@jupyter-widgets/base",
            "_view_module_version": "1.2.0",
            "_view_name": "LayoutView",
            "align_content": null,
            "align_items": null,
            "align_self": null,
            "border": null,
            "bottom": null,
            "display": null,
            "flex": null,
            "flex_flow": null,
            "grid_area": null,
            "grid_auto_columns": null,
            "grid_auto_flow": null,
            "grid_auto_rows": null,
            "grid_column": null,
            "grid_gap": null,
            "grid_row": null,
            "grid_template_areas": null,
            "grid_template_columns": null,
            "grid_template_rows": null,
            "height": null,
            "justify_content": null,
            "justify_items": null,
            "left": null,
            "margin": null,
            "max_height": null,
            "max_width": null,
            "min_height": null,
            "min_width": null,
            "object_fit": null,
            "object_position": null,
            "order": null,
            "overflow": null,
            "overflow_x": null,
            "overflow_y": null,
            "padding": null,
            "right": null,
            "top": null,
            "visibility": null,
            "width": null
          }
        },
        "80dc44b0d1784aa58feda22fc8fa63d0": {
          "model_module": "@jupyter-widgets/controls",
          "model_name": "DescriptionStyleModel",
          "model_module_version": "1.5.0",
          "state": {
            "_model_module": "@jupyter-widgets/controls",
            "_model_module_version": "1.5.0",
            "_model_name": "DescriptionStyleModel",
            "_view_count": null,
            "_view_module": "@jupyter-widgets/base",
            "_view_module_version": "1.2.0",
            "_view_name": "StyleView",
            "description_width": ""
          }
        },
        "156482b01ab2480f9e9593cf3b26e1dd": {
          "model_module": "@jupyter-widgets/base",
          "model_name": "LayoutModel",
          "model_module_version": "1.2.0",
          "state": {
            "_model_module": "@jupyter-widgets/base",
            "_model_module_version": "1.2.0",
            "_model_name": "LayoutModel",
            "_view_count": null,
            "_view_module": "@jupyter-widgets/base",
            "_view_module_version": "1.2.0",
            "_view_name": "LayoutView",
            "align_content": null,
            "align_items": null,
            "align_self": null,
            "border": null,
            "bottom": null,
            "display": null,
            "flex": null,
            "flex_flow": null,
            "grid_area": null,
            "grid_auto_columns": null,
            "grid_auto_flow": null,
            "grid_auto_rows": null,
            "grid_column": null,
            "grid_gap": null,
            "grid_row": null,
            "grid_template_areas": null,
            "grid_template_columns": null,
            "grid_template_rows": null,
            "height": null,
            "justify_content": null,
            "justify_items": null,
            "left": null,
            "margin": null,
            "max_height": null,
            "max_width": null,
            "min_height": null,
            "min_width": null,
            "object_fit": null,
            "object_position": null,
            "order": null,
            "overflow": null,
            "overflow_x": null,
            "overflow_y": null,
            "padding": null,
            "right": null,
            "top": null,
            "visibility": null,
            "width": null
          }
        },
        "72b31bfa0cd147e5b25632d1d526d664": {
          "model_module": "@jupyter-widgets/controls",
          "model_name": "ProgressStyleModel",
          "model_module_version": "1.5.0",
          "state": {
            "_model_module": "@jupyter-widgets/controls",
            "_model_module_version": "1.5.0",
            "_model_name": "ProgressStyleModel",
            "_view_count": null,
            "_view_module": "@jupyter-widgets/base",
            "_view_module_version": "1.2.0",
            "_view_name": "StyleView",
            "bar_color": null,
            "description_width": ""
          }
        },
        "ffc6e66c100948b49453121e88b44bb6": {
          "model_module": "@jupyter-widgets/base",
          "model_name": "LayoutModel",
          "model_module_version": "1.2.0",
          "state": {
            "_model_module": "@jupyter-widgets/base",
            "_model_module_version": "1.2.0",
            "_model_name": "LayoutModel",
            "_view_count": null,
            "_view_module": "@jupyter-widgets/base",
            "_view_module_version": "1.2.0",
            "_view_name": "LayoutView",
            "align_content": null,
            "align_items": null,
            "align_self": null,
            "border": null,
            "bottom": null,
            "display": null,
            "flex": null,
            "flex_flow": null,
            "grid_area": null,
            "grid_auto_columns": null,
            "grid_auto_flow": null,
            "grid_auto_rows": null,
            "grid_column": null,
            "grid_gap": null,
            "grid_row": null,
            "grid_template_areas": null,
            "grid_template_columns": null,
            "grid_template_rows": null,
            "height": null,
            "justify_content": null,
            "justify_items": null,
            "left": null,
            "margin": null,
            "max_height": null,
            "max_width": null,
            "min_height": null,
            "min_width": null,
            "object_fit": null,
            "object_position": null,
            "order": null,
            "overflow": null,
            "overflow_x": null,
            "overflow_y": null,
            "padding": null,
            "right": null,
            "top": null,
            "visibility": null,
            "width": null
          }
        },
        "dd9e7aa7f5a14753a4804a3ff37ce2eb": {
          "model_module": "@jupyter-widgets/controls",
          "model_name": "DescriptionStyleModel",
          "model_module_version": "1.5.0",
          "state": {
            "_model_module": "@jupyter-widgets/controls",
            "_model_module_version": "1.5.0",
            "_model_name": "DescriptionStyleModel",
            "_view_count": null,
            "_view_module": "@jupyter-widgets/base",
            "_view_module_version": "1.2.0",
            "_view_name": "StyleView",
            "description_width": ""
          }
        },
        "cf860ff0811c4d8ca419faeefc26e4f6": {
          "model_module": "@jupyter-widgets/controls",
          "model_name": "HBoxModel",
          "model_module_version": "1.5.0",
          "state": {
            "_dom_classes": [],
            "_model_module": "@jupyter-widgets/controls",
            "_model_module_version": "1.5.0",
            "_model_name": "HBoxModel",
            "_view_count": null,
            "_view_module": "@jupyter-widgets/controls",
            "_view_module_version": "1.5.0",
            "_view_name": "HBoxView",
            "box_style": "",
            "children": [
              "IPY_MODEL_637417805a7f4b31b0315049be1d1c61",
              "IPY_MODEL_e2348c84019340e3aa2db63d7da3e43e",
              "IPY_MODEL_8f5758d549f549b78ef073cacd29789e"
            ],
            "layout": "IPY_MODEL_530dd68f41b946caba051a3e053dbbce"
          }
        },
        "637417805a7f4b31b0315049be1d1c61": {
          "model_module": "@jupyter-widgets/controls",
          "model_name": "HTMLModel",
          "model_module_version": "1.5.0",
          "state": {
            "_dom_classes": [],
            "_model_module": "@jupyter-widgets/controls",
            "_model_module_version": "1.5.0",
            "_model_name": "HTMLModel",
            "_view_count": null,
            "_view_module": "@jupyter-widgets/controls",
            "_view_module_version": "1.5.0",
            "_view_name": "HTMLView",
            "description": "",
            "description_tooltip": null,
            "layout": "IPY_MODEL_0307e332afff45609e19b1d19b97089b",
            "placeholder": "​",
            "style": "IPY_MODEL_1f16815b3cf14b8f94a672a6d9b9a123",
            "value": "100%"
          }
        },
        "e2348c84019340e3aa2db63d7da3e43e": {
          "model_module": "@jupyter-widgets/controls",
          "model_name": "FloatProgressModel",
          "model_module_version": "1.5.0",
          "state": {
            "_dom_classes": [],
            "_model_module": "@jupyter-widgets/controls",
            "_model_module_version": "1.5.0",
            "_model_name": "FloatProgressModel",
            "_view_count": null,
            "_view_module": "@jupyter-widgets/controls",
            "_view_module_version": "1.5.0",
            "_view_name": "ProgressView",
            "bar_style": "success",
            "description": "",
            "description_tooltip": null,
            "layout": "IPY_MODEL_a3b7f33c209b4fb2955391737c85a350",
            "max": 1000,
            "min": 0,
            "orientation": "horizontal",
            "style": "IPY_MODEL_4cbb06994d76478e90bcda2675454f4a",
            "value": 1000
          }
        },
        "8f5758d549f549b78ef073cacd29789e": {
          "model_module": "@jupyter-widgets/controls",
          "model_name": "HTMLModel",
          "model_module_version": "1.5.0",
          "state": {
            "_dom_classes": [],
            "_model_module": "@jupyter-widgets/controls",
            "_model_module_version": "1.5.0",
            "_model_name": "HTMLModel",
            "_view_count": null,
            "_view_module": "@jupyter-widgets/controls",
            "_view_module_version": "1.5.0",
            "_view_name": "HTMLView",
            "description": "",
            "description_tooltip": null,
            "layout": "IPY_MODEL_959583e49d3140eb84489463d55c5789",
            "placeholder": "​",
            "style": "IPY_MODEL_73277c54cc1a4226bf54a7ba1dd9b063",
            "value": " 1000/1000 [00:15&lt;00:00, 71.49it/s]"
          }
        },
        "530dd68f41b946caba051a3e053dbbce": {
          "model_module": "@jupyter-widgets/base",
          "model_name": "LayoutModel",
          "model_module_version": "1.2.0",
          "state": {
            "_model_module": "@jupyter-widgets/base",
            "_model_module_version": "1.2.0",
            "_model_name": "LayoutModel",
            "_view_count": null,
            "_view_module": "@jupyter-widgets/base",
            "_view_module_version": "1.2.0",
            "_view_name": "LayoutView",
            "align_content": null,
            "align_items": null,
            "align_self": null,
            "border": null,
            "bottom": null,
            "display": null,
            "flex": null,
            "flex_flow": null,
            "grid_area": null,
            "grid_auto_columns": null,
            "grid_auto_flow": null,
            "grid_auto_rows": null,
            "grid_column": null,
            "grid_gap": null,
            "grid_row": null,
            "grid_template_areas": null,
            "grid_template_columns": null,
            "grid_template_rows": null,
            "height": null,
            "justify_content": null,
            "justify_items": null,
            "left": null,
            "margin": null,
            "max_height": null,
            "max_width": null,
            "min_height": null,
            "min_width": null,
            "object_fit": null,
            "object_position": null,
            "order": null,
            "overflow": null,
            "overflow_x": null,
            "overflow_y": null,
            "padding": null,
            "right": null,
            "top": null,
            "visibility": null,
            "width": null
          }
        },
        "0307e332afff45609e19b1d19b97089b": {
          "model_module": "@jupyter-widgets/base",
          "model_name": "LayoutModel",
          "model_module_version": "1.2.0",
          "state": {
            "_model_module": "@jupyter-widgets/base",
            "_model_module_version": "1.2.0",
            "_model_name": "LayoutModel",
            "_view_count": null,
            "_view_module": "@jupyter-widgets/base",
            "_view_module_version": "1.2.0",
            "_view_name": "LayoutView",
            "align_content": null,
            "align_items": null,
            "align_self": null,
            "border": null,
            "bottom": null,
            "display": null,
            "flex": null,
            "flex_flow": null,
            "grid_area": null,
            "grid_auto_columns": null,
            "grid_auto_flow": null,
            "grid_auto_rows": null,
            "grid_column": null,
            "grid_gap": null,
            "grid_row": null,
            "grid_template_areas": null,
            "grid_template_columns": null,
            "grid_template_rows": null,
            "height": null,
            "justify_content": null,
            "justify_items": null,
            "left": null,
            "margin": null,
            "max_height": null,
            "max_width": null,
            "min_height": null,
            "min_width": null,
            "object_fit": null,
            "object_position": null,
            "order": null,
            "overflow": null,
            "overflow_x": null,
            "overflow_y": null,
            "padding": null,
            "right": null,
            "top": null,
            "visibility": null,
            "width": null
          }
        },
        "1f16815b3cf14b8f94a672a6d9b9a123": {
          "model_module": "@jupyter-widgets/controls",
          "model_name": "DescriptionStyleModel",
          "model_module_version": "1.5.0",
          "state": {
            "_model_module": "@jupyter-widgets/controls",
            "_model_module_version": "1.5.0",
            "_model_name": "DescriptionStyleModel",
            "_view_count": null,
            "_view_module": "@jupyter-widgets/base",
            "_view_module_version": "1.2.0",
            "_view_name": "StyleView",
            "description_width": ""
          }
        },
        "a3b7f33c209b4fb2955391737c85a350": {
          "model_module": "@jupyter-widgets/base",
          "model_name": "LayoutModel",
          "model_module_version": "1.2.0",
          "state": {
            "_model_module": "@jupyter-widgets/base",
            "_model_module_version": "1.2.0",
            "_model_name": "LayoutModel",
            "_view_count": null,
            "_view_module": "@jupyter-widgets/base",
            "_view_module_version": "1.2.0",
            "_view_name": "LayoutView",
            "align_content": null,
            "align_items": null,
            "align_self": null,
            "border": null,
            "bottom": null,
            "display": null,
            "flex": null,
            "flex_flow": null,
            "grid_area": null,
            "grid_auto_columns": null,
            "grid_auto_flow": null,
            "grid_auto_rows": null,
            "grid_column": null,
            "grid_gap": null,
            "grid_row": null,
            "grid_template_areas": null,
            "grid_template_columns": null,
            "grid_template_rows": null,
            "height": null,
            "justify_content": null,
            "justify_items": null,
            "left": null,
            "margin": null,
            "max_height": null,
            "max_width": null,
            "min_height": null,
            "min_width": null,
            "object_fit": null,
            "object_position": null,
            "order": null,
            "overflow": null,
            "overflow_x": null,
            "overflow_y": null,
            "padding": null,
            "right": null,
            "top": null,
            "visibility": null,
            "width": null
          }
        },
        "4cbb06994d76478e90bcda2675454f4a": {
          "model_module": "@jupyter-widgets/controls",
          "model_name": "ProgressStyleModel",
          "model_module_version": "1.5.0",
          "state": {
            "_model_module": "@jupyter-widgets/controls",
            "_model_module_version": "1.5.0",
            "_model_name": "ProgressStyleModel",
            "_view_count": null,
            "_view_module": "@jupyter-widgets/base",
            "_view_module_version": "1.2.0",
            "_view_name": "StyleView",
            "bar_color": null,
            "description_width": ""
          }
        },
        "959583e49d3140eb84489463d55c5789": {
          "model_module": "@jupyter-widgets/base",
          "model_name": "LayoutModel",
          "model_module_version": "1.2.0",
          "state": {
            "_model_module": "@jupyter-widgets/base",
            "_model_module_version": "1.2.0",
            "_model_name": "LayoutModel",
            "_view_count": null,
            "_view_module": "@jupyter-widgets/base",
            "_view_module_version": "1.2.0",
            "_view_name": "LayoutView",
            "align_content": null,
            "align_items": null,
            "align_self": null,
            "border": null,
            "bottom": null,
            "display": null,
            "flex": null,
            "flex_flow": null,
            "grid_area": null,
            "grid_auto_columns": null,
            "grid_auto_flow": null,
            "grid_auto_rows": null,
            "grid_column": null,
            "grid_gap": null,
            "grid_row": null,
            "grid_template_areas": null,
            "grid_template_columns": null,
            "grid_template_rows": null,
            "height": null,
            "justify_content": null,
            "justify_items": null,
            "left": null,
            "margin": null,
            "max_height": null,
            "max_width": null,
            "min_height": null,
            "min_width": null,
            "object_fit": null,
            "object_position": null,
            "order": null,
            "overflow": null,
            "overflow_x": null,
            "overflow_y": null,
            "padding": null,
            "right": null,
            "top": null,
            "visibility": null,
            "width": null
          }
        },
        "73277c54cc1a4226bf54a7ba1dd9b063": {
          "model_module": "@jupyter-widgets/controls",
          "model_name": "DescriptionStyleModel",
          "model_module_version": "1.5.0",
          "state": {
            "_model_module": "@jupyter-widgets/controls",
            "_model_module_version": "1.5.0",
            "_model_name": "DescriptionStyleModel",
            "_view_count": null,
            "_view_module": "@jupyter-widgets/base",
            "_view_module_version": "1.2.0",
            "_view_name": "StyleView",
            "description_width": ""
          }
        }
      }
    }
  },
  "nbformat": 4,
  "nbformat_minor": 0
}