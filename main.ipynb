{
  "cells": [
    {
      "cell_type": "markdown",
      "metadata": {
        "id": "view-in-github",
        "colab_type": "text"
      },
      "source": [
        "<a href=\"https://colab.research.google.com/github/aledima00/Project4_SemSeg_AML2024/blob/main/main.ipynb\" target=\"_parent\"><img src=\"https://colab.research.google.com/assets/colab-badge.svg\" alt=\"Open In Colab\"/></a>"
      ]
    },
    {
      "cell_type": "markdown",
      "metadata": {
        "id": "bwGAibz4oZbs"
      },
      "source": [
        "# Project 4 - Semantic Segmentation"
      ]
    },
    {
      "cell_type": "markdown",
      "source": [
        "First let's download dataset, that is already split in \"Train\", \"Test\" and \"Val\" modules"
      ],
      "metadata": {
        "id": "GaksjqH-t7sC"
      }
    },
    {
      "cell_type": "code",
      "source": [
        "!pip install colorama\n",
        "!pip install icecream"
      ],
      "metadata": {
        "id": "NPe9UMf8DtRL",
        "outputId": "24990487-2c93-436c-ec87-8c628309657e",
        "colab": {
          "base_uri": "https://localhost:8080/"
        }
      },
      "execution_count": 1,
      "outputs": [
        {
          "output_type": "stream",
          "name": "stdout",
          "text": [
            "Requirement already satisfied: colorama in /usr/local/lib/python3.10/dist-packages (0.4.6)\n",
            "Requirement already satisfied: icecream in /usr/local/lib/python3.10/dist-packages (2.1.3)\n",
            "Requirement already satisfied: colorama>=0.3.9 in /usr/local/lib/python3.10/dist-packages (from icecream) (0.4.6)\n",
            "Requirement already satisfied: pygments>=2.2.0 in /usr/local/lib/python3.10/dist-packages (from icecream) (2.18.0)\n",
            "Requirement already satisfied: executing>=0.3.1 in /usr/local/lib/python3.10/dist-packages (from icecream) (2.1.0)\n",
            "Requirement already satisfied: asttokens>=2.0.1 in /usr/local/lib/python3.10/dist-packages (from icecream) (3.0.0)\n"
          ]
        }
      ]
    },
    {
      "cell_type": "code",
      "source": [
        "import os\n",
        "import glob\n",
        "from skimage.io import imread\n",
        "import logging\n",
        "from enum import Enum\n",
        "import gdown\n",
        "\n",
        "from icecream import ic\n",
        "\n",
        "import torch\n",
        "from torch.utils.data import DataLoader\n",
        "from torch.utils.data import Dataset\n",
        "import torch.nn as nn\n",
        "import torch.nn.functional as F\n",
        "import torch.optim as optim\n",
        "\n",
        "import torchvision\n",
        "from torchvision import transforms\n",
        "\n",
        "from PIL import Image\n",
        "\n",
        "import numpy as np"
      ],
      "metadata": {
        "id": "3s8kdM5oGGr1"
      },
      "execution_count": 2,
      "outputs": []
    },
    {
      "cell_type": "markdown",
      "source": [
        "General Configuration:"
      ],
      "metadata": {
        "id": "f3N9EoQoVgC-"
      }
    },
    {
      "cell_type": "code",
      "source": [
        "DBG = False                   # set to True for debug mode (lighter execution + dbg prints)\n",
        "CONFIG_DATASET = True         # set to True to download and config all dataset resources\n",
        "CONFIG_DEEPLABV2 = True       # set to True to download and config all DeepLabv2 resources\n",
        "CONFIG_PIDNET = True          # set to True to download and config all PIDNET resources\n",
        "\n",
        "DEVICE = \"cuda\" if torch.cuda.is_available() else \"cpu\"\n",
        "print(f\"Using device: {DEVICE}\")\n",
        "TRAIN_PATH = \"Train\"          # path of the train folder\n",
        "VAL_PATH = \"Val\"              # path of the val folder\n",
        "TEST_PATH = \"Test\"            # path of the test folder\n",
        "\n",
        "DEEPLABV2_WEIGHTS_PATH = \"deeplabv2-pretrain-weights.pth\"  # path of the deeplabv2 folder\n",
        "PIDNET_WEIGHTS_PATH = \"PIDNet/pretrained_models/imagenet/imagenet.pth\""
      ],
      "metadata": {
        "id": "yacl9RktR8Fb",
        "outputId": "f5e11132-e234-4f4e-8c56-f182de37d3e5",
        "colab": {
          "base_uri": "https://localhost:8080/"
        }
      },
      "execution_count": 3,
      "outputs": [
        {
          "output_type": "stream",
          "name": "stdout",
          "text": [
            "Using device: cuda\n"
          ]
        }
      ]
    },
    {
      "cell_type": "markdown",
      "source": [
        "download datasets:"
      ],
      "metadata": {
        "id": "BPING-HIYj5V"
      }
    },
    {
      "cell_type": "code",
      "execution_count": 4,
      "metadata": {
        "id": "QlswjyfJoZbu"
      },
      "outputs": [],
      "source": [
        "def config_generic_dataset(DS_PATHNAME,URL):\n",
        "  !rm -rf {DS_PATHNAME}\n",
        "  ZIP_PATH = DS_PATHNAME + \".zip\"\n",
        "  !rm {ZIP_PATH}\n",
        "  !wget -O {ZIP_PATH} {URL}\n",
        "  !unzip {ZIP_PATH} | tail -n 3\n",
        "  !rm {ZIP_PATH}\n",
        "\n",
        "def config_train_dataset():\n",
        "  config_generic_dataset(TRAIN_PATH, \"https://zenodo.org/records/5706578/files/Train.zip?download=1\")\n",
        "def config_val_dataset():\n",
        "  config_generic_dataset(VAL_PATH, \"https://zenodo.org/records/5706578/files/Val.zip?download=1\")\n",
        "def config_test_dataset():\n",
        "  config_generic_dataset(TEST_PATH, \"https://zenodo.org/records/5706578/files/Test.zip?download=1\")\n",
        "\n",
        "def config_all_dataset(*,force=False):\n",
        "  print(\"Dowloading and Configuring Dataset\")\n",
        "  if force or (not os.path.exists(TRAIN_PATH)):\n",
        "    config_train_dataset()\n",
        "  if force or (not os.path.exists(VAL_PATH)):\n",
        "    config_val_dataset()\n",
        "  if force or (not os.path.exists(TEST_PATH)):\n",
        "    config_test_dataset()"
      ]
    },
    {
      "cell_type": "markdown",
      "source": [
        "download and configure deeplabv2 model library (_with R101 backbone_) and the pretrain weights:"
      ],
      "metadata": {
        "id": "OYvs6ukiaWXn"
      }
    },
    {
      "cell_type": "code",
      "source": [
        "def config_deeplabv2_model():\n",
        "  print(\"Dowloading and Configuring DeepLabv2 Model\")\n",
        "  import sys\n",
        "  import gdown\n",
        "  !rm -rf \"MLDL2024_project1\"\n",
        "  !git clone https://github.com/Gabrysse/MLDL2024_project1.git\n",
        "  sys.path.append(\"/content/MLDL2024_project1/\")\n",
        "  gdown.download(\"https://drive.google.com/uc?id=1ZX0UCXvJwqd2uBGCX7LI2n-DfMg3t74v\", DEEPLABV2_WEIGHTS_PATH, quiet=False)\n"
      ],
      "metadata": {
        "id": "ILWYQBnQZvj8"
      },
      "execution_count": 5,
      "outputs": []
    },
    {
      "cell_type": "markdown",
      "source": [
        "config pidnet..."
      ],
      "metadata": {
        "id": "sSV3px5dN3kb"
      }
    },
    {
      "cell_type": "code",
      "source": [
        "def config_pidnet():\n",
        "  import sys\n",
        "  import gdown\n",
        "  print(\"Dowloading and Configuring PIDNET Model\")\n",
        "  !rm -rf \"PIDNet\"\n",
        "  !git clone https://github.com/XuJiacong/PIDNet.git\n",
        "  sys.path.append(\"/content/PIDNet/\")\n",
        "  gdown.download(\"https://drive.google.com/uc?id=1hIBp_8maRr60-B3PF0NVtaA6TYBvO4y-\", PIDNET_WEIGHTS_PATH, quiet=False)\n"
      ],
      "metadata": {
        "id": "ltKuPIAaN5WC"
      },
      "execution_count": 6,
      "outputs": []
    },
    {
      "cell_type": "code",
      "source": [
        "if CONFIG_DATASET:\n",
        "  config_all_dataset()\n",
        "if CONFIG_DEEPLABV2:\n",
        "  config_deeplabv2_model()\n",
        "if CONFIG_PIDNET:\n",
        "  config_pidnet()"
      ],
      "metadata": {
        "id": "jklZ1NAorsGq",
        "outputId": "0396c4dd-0f51-4fbe-9463-f69e6496233a",
        "colab": {
          "base_uri": "https://localhost:8080/"
        }
      },
      "execution_count": 7,
      "outputs": [
        {
          "output_type": "stream",
          "name": "stdout",
          "text": [
            "Dowloading and Configuring Dataset\n",
            "Dowloading and Configuring DeepLabv2 Model\n",
            "Cloning into 'MLDL2024_project1'...\n",
            "remote: Enumerating objects: 34, done.\u001b[K\n",
            "remote: Counting objects: 100% (18/18), done.\u001b[K\n",
            "remote: Compressing objects: 100% (14/14), done.\u001b[K\n",
            "Receiving objects: 100% (34/34), 12.06 KiB | 2.41 MiB/s, done.\n",
            "Resolving deltas: 100% (8/8), done.\n",
            "remote: Total 34 (delta 8), reused 4 (delta 4), pack-reused 16 (from 1)\u001b[K\n"
          ]
        },
        {
          "output_type": "stream",
          "name": "stderr",
          "text": [
            "Downloading...\n",
            "From (original): https://drive.google.com/uc?id=1ZX0UCXvJwqd2uBGCX7LI2n-DfMg3t74v\n",
            "From (redirected): https://drive.google.com/uc?id=1ZX0UCXvJwqd2uBGCX7LI2n-DfMg3t74v&confirm=t&uuid=f1932ffc-7d1b-4a72-93d3-13a8ca9146ba\n",
            "To: /content/deeplabv2-pretrain-weights.pth\n",
            "100%|██████████| 177M/177M [00:01<00:00, 131MB/s]\n"
          ]
        },
        {
          "output_type": "stream",
          "name": "stdout",
          "text": [
            "Dowloading and Configuring PIDNET Model\n",
            "Cloning into 'PIDNet'...\n",
            "remote: Enumerating objects: 386, done.\u001b[K\n",
            "remote: Counting objects: 100% (193/193), done.\u001b[K\n",
            "remote: Compressing objects: 100% (68/68), done.\u001b[K\n",
            "remote: Total 386 (delta 131), reused 125 (delta 125), pack-reused 193 (from 1)\u001b[K\n",
            "Receiving objects: 100% (386/386), 212.80 MiB | 24.04 MiB/s, done.\n",
            "Resolving deltas: 100% (184/184), done.\n"
          ]
        },
        {
          "output_type": "stream",
          "name": "stderr",
          "text": [
            "Downloading...\n",
            "From: https://drive.google.com/uc?id=1hIBp_8maRr60-B3PF0NVtaA6TYBvO4y-\n",
            "To: /content/PIDNet/pretrained_models/imagenet/imagenet.pth\n",
            "100%|██████████| 38.1M/38.1M [00:00<00:00, 231MB/s]\n"
          ]
        }
      ]
    },
    {
      "cell_type": "code",
      "source": [
        "from colorama import Fore, Back, Style\n",
        "def dbgp(name,value):\n",
        "  \"\"\" Debug print function \"\"\"\n",
        "  if DBG:\n",
        "    print(f\"{Fore.BLACK}{Back.GREEN}{Style.BRIGHT}{name}:\\t{value}{Fore.RESET}{Back.RESET}{Style.RESET_ALL}\")"
      ],
      "metadata": {
        "id": "Lbd-G8xDYRu5"
      },
      "execution_count": 8,
      "outputs": []
    },
    {
      "cell_type": "markdown",
      "source": [
        "## Data Preparation"
      ],
      "metadata": {
        "id": "T30UDU6NBlLC"
      }
    },
    {
      "cell_type": "markdown",
      "source": [
        "Create Dataset class and filter urban pictures..."
      ],
      "metadata": {
        "id": "O79ygl6vuWZZ"
      }
    },
    {
      "cell_type": "code",
      "source": [
        "NUM_CLASSES = 7\n",
        "BATCH_SIZE = 2 if DBG else 64\n",
        "LR = 2e-4               # The initial Learning Rate\n",
        "MOMENTUM = 0.9          # Hyperparameter for SGD, keep this at 0.9 when using SGD\n",
        "WEIGHT_DECAY = 5e-4     # Regularization, you can keep this at the default\n",
        "NUM_EPOCHS = 20         # Total number of training epochs (iterations over dataset)\n",
        "STEP_SIZE = [10, 15]    # How many epochs before decreasing learning rate (if using a step-down policy)\n",
        "GAMMA = 0.1             # Multiplicative factor for learning rate step-down"
      ],
      "metadata": {
        "id": "rS-RMBUf9x10"
      },
      "execution_count": 9,
      "outputs": []
    },
    {
      "cell_type": "code",
      "source": [
        "# Define transforms for training phase\n",
        "train_image_transform = transforms.Compose([\n",
        "    transforms.Resize(256),       # Resizes short size of the PIL image to 256\n",
        "    transforms.CenterCrop(224),   # Crops a central square patch of the image\n",
        "                                  # 224 because torchvision's AlexNet needs a 224x224 input!\n",
        "                                  # Remember this when applying different transformations, otherwise you get an error\n",
        "    transforms.ToTensor(),        # Turn PIL Image to torch.Tensor\n",
        "    transforms.Normalize(mean=(0.485, 0.456, 0.406), std=(0.229, 0.224, 0.225))  # Normalize as per ImageNet stats\n",
        "])\n",
        "\n",
        "# Define transforms for the evaluation phase\n",
        "test_image_transform = transforms.Compose([\n",
        "    transforms.Resize(256),\n",
        "    transforms.CenterCrop(224),\n",
        "    transforms.ToTensor(),\n",
        "    transforms.Normalize(mean=(0.485, 0.456, 0.406), std=(0.229, 0.224, 0.225))  # Normalize as per ImageNet stats\n",
        "])\n",
        "\n",
        "# Masks should not be normalized or resized with interpolation\n",
        "target_transform = transforms.Compose([\n",
        "    transforms.Resize((256, 256), interpolation=Image.NEAREST),\n",
        "    transforms.CenterCrop(224),\n",
        "    transforms.Lambda(lambda mask: torch.tensor(np.array(mask), dtype=torch.int8)),\n",
        "])\n"
      ],
      "metadata": {
        "id": "IbuKjlvxKXiD"
      },
      "execution_count": 10,
      "outputs": []
    },
    {
      "cell_type": "code",
      "source": [
        "# taken from official repo of LoveDA\n",
        "IGNORE_INDEX = -1\n",
        "COLOR_MAP = {\n",
        "    IGNORE_INDEX:\"IGNORE\",\n",
        "    0:\"Background\",\n",
        "    1:\"Building\",\n",
        "    2:\"Road\",\n",
        "    3:\"Water\",\n",
        "    4:\"Barren\",\n",
        "    5:\"Forest\",\n",
        "    6:\"Agricultural\"\n",
        "}\n",
        "CLASSES = list(key for key in COLOR_MAP.keys() if COLOR_MAP[key] != \"IGNORE\")"
      ],
      "metadata": {
        "id": "ke4pX0Bvpohi"
      },
      "execution_count": 11,
      "outputs": []
    },
    {
      "cell_type": "code",
      "source": [
        "def pil_loader(path,*,format:str=\"RGB\"):\n",
        "    # open path as file to avoid ResourceWarning (https://github.com/python-pillow/Pillow/issues/835)\n",
        "    with open(path, 'rb') as f:\n",
        "        img = Image.open(f)\n",
        "        return img.convert(format)\n",
        "\n",
        "class DataType(Enum):\n",
        "  RURAL = 0\n",
        "  URBAN = 1\n",
        "\n",
        "class LoveDA(Dataset):\n",
        "  def __init__(self, basedir, data_type:DataType, transforms=None, target_transform=None):\n",
        "    #super(LoveDA, self).__init__(basedir, transforms, target_transform) # should we do this??\n",
        "    if data_type == DataType.RURAL:\n",
        "        self.base_path = os.path.join(basedir, \"Rural\")\n",
        "    else: #data_type == DataType.URBAN:\n",
        "        self.base_path = os.path.join(basedir, \"Urban\")\n",
        "\n",
        "\n",
        "    # list of integers that identifies paths relative to both images_png and masks_png\n",
        "    self.int_pathrefs = os.listdir(os.path.join(self.base_path, \"images_png\"))\n",
        "    self.int_pathrefs = list(int(st.split(\".\")[0]) for st in self.int_pathrefs)\n",
        "\n",
        "    # DEBUG PRINT\n",
        "    if DBG:\n",
        "      self.int_pathrefs = self.int_pathrefs[:15] # limit the dataset for debug\n",
        "\n",
        "    self.transforms = transforms\n",
        "    self.target_transform = target_transform\n",
        "\n",
        "  def __getitem__(self, idx):\n",
        "    assert idx < len(self), 'Index out of range'\n",
        "    image_path = os.path.join(self.base_path, \"images_png\", str(self.int_pathrefs[idx]) + \".png\")\n",
        "    mask_path = os.path.join(self.base_path, \"masks_png\", str(self.int_pathrefs[idx]) + \".png\")\n",
        "    image = pil_loader(image_path,format=\"RGB\")\n",
        "    mask = pil_loader(mask_path,format=\"L\")\n",
        "\n",
        "    if self.transforms is not None:\n",
        "      image = self.transforms(image)\n",
        "    if self.target_transform is not None:\n",
        "      mask = self.target_transform(mask)\n",
        "\n",
        "    mask -= 1\n",
        "\n",
        "    return image, mask\n",
        "\n",
        "  def __len__(self):\n",
        "    return len(self.int_pathrefs)\n"
      ],
      "metadata": {
        "id": "-pTgwB0k1wWA"
      },
      "execution_count": 12,
      "outputs": []
    },
    {
      "cell_type": "code",
      "source": [
        "# Urban Datasets (train, val, test)\n",
        "urban_train = LoveDA(TRAIN_PATH, DataType.URBAN, transforms=train_image_transform, target_transform=target_transform)\n",
        "urban_val = LoveDA(VAL_PATH, DataType.URBAN, transforms=test_image_transform, target_transform=target_transform)\n",
        "urban_test = LoveDA(TEST_PATH, DataType.URBAN, transforms=test_image_transform, target_transform=target_transform)\n",
        "\n",
        "# Urban Dataloaders (train, val, test)\n",
        "\n",
        "NUM_WORKERS = 2 if DBG else 4\n",
        "urban_train_dataloader = DataLoader(urban_train, batch_size=BATCH_SIZE, shuffle=True, num_workers=NUM_WORKERS, drop_last=True)\n",
        "urban_val_dataloader = DataLoader(urban_val, shuffle=False, num_workers=NUM_WORKERS, drop_last=False)\n",
        "urban_test_dataloader = DataLoader(urban_test, shuffle=False, num_workers=NUM_WORKERS, drop_last=False)"
      ],
      "metadata": {
        "id": "AeG5O3GoDj5b",
        "outputId": "2bd3f4ec-17b5-4682-a49d-a131f3ee01ce",
        "colab": {
          "base_uri": "https://localhost:8080/"
        }
      },
      "execution_count": 13,
      "outputs": [
        {
          "output_type": "stream",
          "name": "stderr",
          "text": [
            "/usr/local/lib/python3.10/dist-packages/torch/utils/data/dataloader.py:617: UserWarning: This DataLoader will create 4 worker processes in total. Our suggested max number of worker in current system is 2, which is smaller than what this DataLoader is going to create. Please be aware that excessive worker creation might get DataLoader running slow or even freeze, lower the worker number to avoid potential slowness/freeze if necessary.\n",
            "  warnings.warn(\n"
          ]
        }
      ]
    },
    {
      "cell_type": "markdown",
      "source": [
        "Get DeepLabv2 model with pretrain weights:"
      ],
      "metadata": {
        "id": "PklC_MDk1z31"
      }
    },
    {
      "cell_type": "code",
      "source": [
        "from MLDL2024_project1.models.deeplabv2 import deeplabv2\n",
        "\n",
        "model = deeplabv2.get_deeplab_v2(num_classes=NUM_CLASSES,pretrain=True,pretrain_model_path=DEEPLABV2_WEIGHTS_PATH)"
      ],
      "metadata": {
        "id": "CCfB1vwkWB7e",
        "outputId": "3cf379a2-c486-4036-f41d-70f829acc8c0",
        "colab": {
          "base_uri": "https://localhost:8080/"
        }
      },
      "execution_count": 14,
      "outputs": [
        {
          "output_type": "stream",
          "name": "stdout",
          "text": [
            "Deeplab pretraining loading...\n"
          ]
        },
        {
          "output_type": "stream",
          "name": "stderr",
          "text": [
            "/content/MLDL2024_project1/models/deeplabv2/deeplabv2.py:180: FutureWarning: You are using `torch.load` with `weights_only=False` (the current default value), which uses the default pickle module implicitly. It is possible to construct malicious pickle data which will execute arbitrary code during unpickling (See https://github.com/pytorch/pytorch/blob/main/SECURITY.md#untrusted-models for more details). In a future release, the default value for `weights_only` will be flipped to `True`. This limits the functions that could be executed during unpickling. Arbitrary objects will no longer be allowed to be loaded via this mode unless they are explicitly allowlisted by the user via `torch.serialization.add_safe_globals`. We recommend you start setting `weights_only=True` for any use case where you don't have full control of the loaded file. Please open an issue on GitHub for any issues related to this experimental feature.\n",
            "  saved_state_dict = torch.load(pretrain_model_path)\n"
          ]
        }
      ]
    },
    {
      "cell_type": "markdown",
      "source": [
        "## Optimizer, Loss, ecc."
      ],
      "metadata": {
        "id": "eR_jhjxTcxB0"
      }
    },
    {
      "cell_type": "code",
      "source": [
        "# enable validation during training\n",
        "validate = True\n",
        "\n",
        "model.train(True)\n",
        "model.multi_level = False # ask in class\n",
        "for params in model.get_1x_lr_params_no_scale():\n",
        "  params.requires_grad = False # no training in Backbone\n",
        "for params in model.get_10x_lr_params():\n",
        "  params.requires_grad = True # training in classifiers\n",
        "\n",
        "\n",
        "model = model.to(DEVICE) # switch to GPU\n",
        "\n",
        "#Loss (as said in DeepLabv2 docs)\n",
        "loss_fn = nn.CrossEntropyLoss(ignore_index=IGNORE_INDEX)\n",
        "#loss_fn = nn.CrossEntropyLoss()\n",
        "\n",
        "#Opt\n",
        "trainable_params = [p for p in model.parameters() if p.requires_grad]\n",
        "optimizer_fn = optim.Adam(trainable_params, lr=LR, weight_decay=WEIGHT_DECAY, eps=1e-4)\n",
        "\n",
        "#Scheduler\n",
        "optim_scheduler = optim.lr_scheduler.MultiStepLR(optimizer_fn, milestones=STEP_SIZE, gamma=GAMMA)\n"
      ],
      "metadata": {
        "id": "gfXbShPFcwrE"
      },
      "execution_count": 15,
      "outputs": []
    },
    {
      "cell_type": "markdown",
      "source": [
        "## Training Loop"
      ],
      "metadata": {
        "id": "zrh_HJ0xbfTB"
      }
    },
    {
      "cell_type": "code",
      "source": [
        "import warnings\n",
        "from torch.backends import cudnn\n",
        "warnings.filterwarnings('ignore')\n",
        "train_iter = 0\n",
        "val_iter = 0\n",
        "\n",
        "trainSamples = len(urban_train) - (len(urban_train) % BATCH_SIZE)\n",
        "val_samples = len(urban_val)\n",
        "iterPerEpoch = len(urban_train_dataloader)\n",
        "val_steps = len(urban_val_dataloader)\n",
        "\n",
        "cudnn.benchmark\n",
        "CUDA_LAUNCH_BLOCKING=1\n",
        "model_checkpoint = \"model\" #name\n",
        "\n",
        "EPSILON_IOU = 1e-7\n",
        "\n",
        "model.train(True)\n",
        "for epoch in range(NUM_EPOCHS):\n",
        "    epoch_loss = 0\n",
        "\n",
        "    total_intersection_per_class = {cls: 0 for cls in CLASSES}\n",
        "    total_union_per_class = {cls: 0 for cls in CLASSES}\n",
        "\n",
        "    for i, (inputs, targets) in enumerate(urban_train_dataloader):\n",
        "        #train_iter += 1\n",
        "        optimizer_fn.zero_grad()\n",
        "\n",
        "        # feeds in model\n",
        "        inputs = inputs.to(DEVICE)\n",
        "        labels = targets.long().to(device=DEVICE)\n",
        "\n",
        "        output_logits,_,_ = model(inputs)\n",
        "\n",
        "        # compute loss\n",
        "        loss = loss_fn(output_logits, labels)\n",
        "\n",
        "        # backward loss and optimizer step\n",
        "        loss.backward()\n",
        "        optimizer_fn.step()\n",
        "\n",
        "        #compute the training accuracy\n",
        "        _, predicted = torch.max(output_logits.data, 1)\n",
        "\n",
        "        for cls in CLASSES:\n",
        "          true_mask = (labels == cls)  # Crea una maschera booleana per la classe `cls` nel target\n",
        "          pred_mask = (predicted == cls)  # Crea una maschera booleana per la classe `cls` nelle predizioni\n",
        "\n",
        "          # Calcola l'intersezione e l'unione per quella classe\n",
        "          intersection = torch.logical_and(true_mask, pred_mask).sum().item()\n",
        "          union = torch.logical_or(true_mask, pred_mask).sum().item()\n",
        "\n",
        "          # Aggiungi i valori all'array totale di intersezione e unione per ogni classe\n",
        "          total_intersection_per_class[cls] += intersection\n",
        "          total_union_per_class[cls] += union\n",
        "\n",
        "        step_loss = loss.data.item()\n",
        "        epoch_loss += step_loss\n",
        "\n",
        "    class_IoUs = {\n",
        "      cls: total_intersection_per_class[cls] / (total_union_per_class[cls] + EPSILON_IOU)\n",
        "        for cls in CLASSES\n",
        "    }\n",
        "    mean_IoU = sum(class_IoUs.values()) / NUM_CLASSES\n",
        "\n",
        "    avg_loss = epoch_loss/iterPerEpoch\n",
        "\n",
        "    print(Fore.BLACK + Back.YELLOW + Style.BRIGHT + 'Train: Epoch = {} | mean Loss = {:.3f} | mean-IoU = {:.3f}'.format(epoch + 1, avg_loss, mean_IoU)+Style.RESET_ALL)\n",
        "\n",
        "    # Stampa l'IoU per ogni classe\n",
        "    print(Fore.CYAN + Style.NORMAL + \"Class-wise IoUs:\"+ Style.RESET_ALL)\n",
        "    for cls in CLASSES:\n",
        "      print(Fore.WHITE + Style.NORMAL + f\"Class {cls} ({COLOR_MAP[cls]}): IoU = {class_IoUs[cls]:.3f}\"+ Style.RESET_ALL)\n",
        "\n",
        "\n",
        "\n",
        "    \"\"\"\n",
        "    #train_logger.add_epoch_data(epoch+1, trainAccuracy, avg_loss)\n",
        "\n",
        "    if validate:\n",
        "        if (epoch+1) % 1 == 0:\n",
        "            model.train(False)\n",
        "            val_loss_epoch = 0\n",
        "            numCorr = 0\n",
        "            for j, (inputs, targets) in enumerate(val_loader):\n",
        "                val_iter += 1\n",
        "                inputVariable = inputs.permute(1, 0, 2, 3, 4).to(DEVICE)\n",
        "                labelVariable = targets.to(DEVICE)\n",
        "\n",
        "                output_label, _ = model(inputVariable)\n",
        "                val_loss = loss_fn(output_label, labelVariable)\n",
        "\n",
        "                val_loss_step = val_loss.data.item()\n",
        "                val_loss_epoch += val_loss_step\n",
        "                _, predicted = torch.max(output_label.data, 1)\n",
        "                numCorr += torch.sum(predicted == labelVariable.data).data.item()\n",
        "                #val_logger.add_step_data(val_iter, numCorr, val_loss_step)\n",
        "\n",
        "            val_accuracy = (numCorr / val_samples) * 100\n",
        "            avg_val_loss = val_loss_epoch / val_steps\n",
        "\n",
        "            print(Fore.GREEN + 'Val: Epoch = {} | Loss {:.3f} | Accuracy = {:.3f}'.format(epoch + 1, avg_val_loss, val_accuracy))\n",
        "            if val_accuracy > min_accuracy:\n",
        "                print(\"[||| NEW BEST on val||||]\")\n",
        "                save_path_model = os.path.join(model_folder, model_checkpoint)\n",
        "                torch.save(model.state_dict(), save_path_model)\n",
        "                min_accuracy = val_accuracy\n",
        "\"\"\"\n",
        "    optim_scheduler.step()\n"
      ],
      "metadata": {
        "id": "LclZQhQQVLt7",
        "outputId": "062cbdfb-78d6-4ccd-873f-17571d08d24c",
        "colab": {
          "base_uri": "https://localhost:8080/"
        }
      },
      "execution_count": 16,
      "outputs": [
        {
          "output_type": "stream",
          "name": "stdout",
          "text": [
            "\u001b[30m\u001b[43m\u001b[1mTrain: Epoch = 1 | mean Loss = 2.551 | mean-IoU = 0.133\u001b[0m\n",
            "\u001b[36m\u001b[22mClass-wise IoUs:\u001b[0m\n",
            "\u001b[37m\u001b[22mClass 0 (Background): IoU = 0.346\u001b[0m\n",
            "\u001b[37m\u001b[22mClass 1 (Building): IoU = 0.175\u001b[0m\n",
            "\u001b[37m\u001b[22mClass 2 (Road): IoU = 0.110\u001b[0m\n",
            "\u001b[37m\u001b[22mClass 3 (Water): IoU = 0.126\u001b[0m\n",
            "\u001b[37m\u001b[22mClass 4 (Barren): IoU = 0.076\u001b[0m\n",
            "\u001b[37m\u001b[22mClass 5 (Forest): IoU = 0.085\u001b[0m\n",
            "\u001b[37m\u001b[22mClass 6 (Agricultural): IoU = 0.008\u001b[0m\n",
            "\u001b[30m\u001b[43m\u001b[1mTrain: Epoch = 2 | mean Loss = 1.738 | mean-IoU = 0.236\u001b[0m\n",
            "\u001b[36m\u001b[22mClass-wise IoUs:\u001b[0m\n",
            "\u001b[37m\u001b[22mClass 0 (Background): IoU = 0.392\u001b[0m\n",
            "\u001b[37m\u001b[22mClass 1 (Building): IoU = 0.237\u001b[0m\n",
            "\u001b[37m\u001b[22mClass 2 (Road): IoU = 0.217\u001b[0m\n",
            "\u001b[37m\u001b[22mClass 3 (Water): IoU = 0.304\u001b[0m\n",
            "\u001b[37m\u001b[22mClass 4 (Barren): IoU = 0.219\u001b[0m\n",
            "\u001b[37m\u001b[22mClass 5 (Forest): IoU = 0.190\u001b[0m\n",
            "\u001b[37m\u001b[22mClass 6 (Agricultural): IoU = 0.093\u001b[0m\n",
            "\u001b[30m\u001b[43m\u001b[1mTrain: Epoch = 3 | mean Loss = 1.472 | mean-IoU = 0.298\u001b[0m\n",
            "\u001b[36m\u001b[22mClass-wise IoUs:\u001b[0m\n",
            "\u001b[37m\u001b[22mClass 0 (Background): IoU = 0.415\u001b[0m\n",
            "\u001b[37m\u001b[22mClass 1 (Building): IoU = 0.264\u001b[0m\n",
            "\u001b[37m\u001b[22mClass 2 (Road): IoU = 0.268\u001b[0m\n",
            "\u001b[37m\u001b[22mClass 3 (Water): IoU = 0.411\u001b[0m\n",
            "\u001b[37m\u001b[22mClass 4 (Barren): IoU = 0.281\u001b[0m\n",
            "\u001b[37m\u001b[22mClass 5 (Forest): IoU = 0.229\u001b[0m\n",
            "\u001b[37m\u001b[22mClass 6 (Agricultural): IoU = 0.221\u001b[0m\n",
            "\u001b[30m\u001b[43m\u001b[1mTrain: Epoch = 4 | mean Loss = 1.310 | mean-IoU = 0.344\u001b[0m\n",
            "\u001b[36m\u001b[22mClass-wise IoUs:\u001b[0m\n",
            "\u001b[37m\u001b[22mClass 0 (Background): IoU = 0.439\u001b[0m\n",
            "\u001b[37m\u001b[22mClass 1 (Building): IoU = 0.281\u001b[0m\n",
            "\u001b[37m\u001b[22mClass 2 (Road): IoU = 0.297\u001b[0m\n",
            "\u001b[37m\u001b[22mClass 3 (Water): IoU = 0.458\u001b[0m\n",
            "\u001b[37m\u001b[22mClass 4 (Barren): IoU = 0.338\u001b[0m\n",
            "\u001b[37m\u001b[22mClass 5 (Forest): IoU = 0.261\u001b[0m\n",
            "\u001b[37m\u001b[22mClass 6 (Agricultural): IoU = 0.331\u001b[0m\n",
            "\u001b[30m\u001b[43m\u001b[1mTrain: Epoch = 5 | mean Loss = 1.204 | mean-IoU = 0.372\u001b[0m\n",
            "\u001b[36m\u001b[22mClass-wise IoUs:\u001b[0m\n",
            "\u001b[37m\u001b[22mClass 0 (Background): IoU = 0.460\u001b[0m\n",
            "\u001b[37m\u001b[22mClass 1 (Building): IoU = 0.297\u001b[0m\n",
            "\u001b[37m\u001b[22mClass 2 (Road): IoU = 0.325\u001b[0m\n",
            "\u001b[37m\u001b[22mClass 3 (Water): IoU = 0.470\u001b[0m\n",
            "\u001b[37m\u001b[22mClass 4 (Barren): IoU = 0.380\u001b[0m\n",
            "\u001b[37m\u001b[22mClass 5 (Forest): IoU = 0.287\u001b[0m\n",
            "\u001b[37m\u001b[22mClass 6 (Agricultural): IoU = 0.381\u001b[0m\n",
            "\u001b[30m\u001b[43m\u001b[1mTrain: Epoch = 6 | mean Loss = 1.116 | mean-IoU = 0.402\u001b[0m\n",
            "\u001b[36m\u001b[22mClass-wise IoUs:\u001b[0m\n",
            "\u001b[37m\u001b[22mClass 0 (Background): IoU = 0.474\u001b[0m\n",
            "\u001b[37m\u001b[22mClass 1 (Building): IoU = 0.314\u001b[0m\n",
            "\u001b[37m\u001b[22mClass 2 (Road): IoU = 0.342\u001b[0m\n",
            "\u001b[37m\u001b[22mClass 3 (Water): IoU = 0.504\u001b[0m\n",
            "\u001b[37m\u001b[22mClass 4 (Barren): IoU = 0.420\u001b[0m\n",
            "\u001b[37m\u001b[22mClass 5 (Forest): IoU = 0.310\u001b[0m\n",
            "\u001b[37m\u001b[22mClass 6 (Agricultural): IoU = 0.451\u001b[0m\n",
            "\u001b[30m\u001b[43m\u001b[1mTrain: Epoch = 7 | mean Loss = 1.059 | mean-IoU = 0.421\u001b[0m\n",
            "\u001b[36m\u001b[22mClass-wise IoUs:\u001b[0m\n",
            "\u001b[37m\u001b[22mClass 0 (Background): IoU = 0.487\u001b[0m\n",
            "\u001b[37m\u001b[22mClass 1 (Building): IoU = 0.324\u001b[0m\n",
            "\u001b[37m\u001b[22mClass 2 (Road): IoU = 0.355\u001b[0m\n",
            "\u001b[37m\u001b[22mClass 3 (Water): IoU = 0.501\u001b[0m\n",
            "\u001b[37m\u001b[22mClass 4 (Barren): IoU = 0.449\u001b[0m\n",
            "\u001b[37m\u001b[22mClass 5 (Forest): IoU = 0.331\u001b[0m\n",
            "\u001b[37m\u001b[22mClass 6 (Agricultural): IoU = 0.498\u001b[0m\n",
            "\u001b[30m\u001b[43m\u001b[1mTrain: Epoch = 8 | mean Loss = 0.998 | mean-IoU = 0.446\u001b[0m\n",
            "\u001b[36m\u001b[22mClass-wise IoUs:\u001b[0m\n",
            "\u001b[37m\u001b[22mClass 0 (Background): IoU = 0.501\u001b[0m\n",
            "\u001b[37m\u001b[22mClass 1 (Building): IoU = 0.334\u001b[0m\n",
            "\u001b[37m\u001b[22mClass 2 (Road): IoU = 0.378\u001b[0m\n",
            "\u001b[37m\u001b[22mClass 3 (Water): IoU = 0.536\u001b[0m\n",
            "\u001b[37m\u001b[22mClass 4 (Barren): IoU = 0.485\u001b[0m\n",
            "\u001b[37m\u001b[22mClass 5 (Forest): IoU = 0.350\u001b[0m\n",
            "\u001b[37m\u001b[22mClass 6 (Agricultural): IoU = 0.536\u001b[0m\n",
            "\u001b[30m\u001b[43m\u001b[1mTrain: Epoch = 9 | mean Loss = 0.957 | mean-IoU = 0.464\u001b[0m\n",
            "\u001b[36m\u001b[22mClass-wise IoUs:\u001b[0m\n",
            "\u001b[37m\u001b[22mClass 0 (Background): IoU = 0.511\u001b[0m\n",
            "\u001b[37m\u001b[22mClass 1 (Building): IoU = 0.347\u001b[0m\n",
            "\u001b[37m\u001b[22mClass 2 (Road): IoU = 0.383\u001b[0m\n",
            "\u001b[37m\u001b[22mClass 3 (Water): IoU = 0.562\u001b[0m\n",
            "\u001b[37m\u001b[22mClass 4 (Barren): IoU = 0.513\u001b[0m\n",
            "\u001b[37m\u001b[22mClass 5 (Forest): IoU = 0.369\u001b[0m\n",
            "\u001b[37m\u001b[22mClass 6 (Agricultural): IoU = 0.566\u001b[0m\n",
            "\u001b[30m\u001b[43m\u001b[1mTrain: Epoch = 10 | mean Loss = 0.917 | mean-IoU = 0.479\u001b[0m\n",
            "\u001b[36m\u001b[22mClass-wise IoUs:\u001b[0m\n",
            "\u001b[37m\u001b[22mClass 0 (Background): IoU = 0.521\u001b[0m\n",
            "\u001b[37m\u001b[22mClass 1 (Building): IoU = 0.352\u001b[0m\n",
            "\u001b[37m\u001b[22mClass 2 (Road): IoU = 0.400\u001b[0m\n",
            "\u001b[37m\u001b[22mClass 3 (Water): IoU = 0.572\u001b[0m\n",
            "\u001b[37m\u001b[22mClass 4 (Barren): IoU = 0.535\u001b[0m\n",
            "\u001b[37m\u001b[22mClass 5 (Forest): IoU = 0.379\u001b[0m\n",
            "\u001b[37m\u001b[22mClass 6 (Agricultural): IoU = 0.590\u001b[0m\n",
            "\u001b[30m\u001b[43m\u001b[1mTrain: Epoch = 11 | mean Loss = 0.876 | mean-IoU = 0.494\u001b[0m\n",
            "\u001b[36m\u001b[22mClass-wise IoUs:\u001b[0m\n",
            "\u001b[37m\u001b[22mClass 0 (Background): IoU = 0.528\u001b[0m\n",
            "\u001b[37m\u001b[22mClass 1 (Building): IoU = 0.369\u001b[0m\n",
            "\u001b[37m\u001b[22mClass 2 (Road): IoU = 0.415\u001b[0m\n",
            "\u001b[37m\u001b[22mClass 3 (Water): IoU = 0.569\u001b[0m\n",
            "\u001b[37m\u001b[22mClass 4 (Barren): IoU = 0.561\u001b[0m\n",
            "\u001b[37m\u001b[22mClass 5 (Forest): IoU = 0.396\u001b[0m\n",
            "\u001b[37m\u001b[22mClass 6 (Agricultural): IoU = 0.621\u001b[0m\n",
            "\u001b[30m\u001b[43m\u001b[1mTrain: Epoch = 12 | mean Loss = 0.875 | mean-IoU = 0.495\u001b[0m\n",
            "\u001b[36m\u001b[22mClass-wise IoUs:\u001b[0m\n",
            "\u001b[37m\u001b[22mClass 0 (Background): IoU = 0.529\u001b[0m\n",
            "\u001b[37m\u001b[22mClass 1 (Building): IoU = 0.367\u001b[0m\n",
            "\u001b[37m\u001b[22mClass 2 (Road): IoU = 0.416\u001b[0m\n",
            "\u001b[37m\u001b[22mClass 3 (Water): IoU = 0.590\u001b[0m\n",
            "\u001b[37m\u001b[22mClass 4 (Barren): IoU = 0.558\u001b[0m\n",
            "\u001b[37m\u001b[22mClass 5 (Forest): IoU = 0.397\u001b[0m\n",
            "\u001b[37m\u001b[22mClass 6 (Agricultural): IoU = 0.604\u001b[0m\n",
            "\u001b[30m\u001b[43m\u001b[1mTrain: Epoch = 13 | mean Loss = 0.864 | mean-IoU = 0.499\u001b[0m\n",
            "\u001b[36m\u001b[22mClass-wise IoUs:\u001b[0m\n",
            "\u001b[37m\u001b[22mClass 0 (Background): IoU = 0.533\u001b[0m\n",
            "\u001b[37m\u001b[22mClass 1 (Building): IoU = 0.367\u001b[0m\n",
            "\u001b[37m\u001b[22mClass 2 (Road): IoU = 0.420\u001b[0m\n",
            "\u001b[37m\u001b[22mClass 3 (Water): IoU = 0.578\u001b[0m\n",
            "\u001b[37m\u001b[22mClass 4 (Barren): IoU = 0.571\u001b[0m\n",
            "\u001b[37m\u001b[22mClass 5 (Forest): IoU = 0.400\u001b[0m\n",
            "\u001b[37m\u001b[22mClass 6 (Agricultural): IoU = 0.626\u001b[0m\n",
            "\u001b[30m\u001b[43m\u001b[1mTrain: Epoch = 14 | mean Loss = 0.863 | mean-IoU = 0.500\u001b[0m\n",
            "\u001b[36m\u001b[22mClass-wise IoUs:\u001b[0m\n",
            "\u001b[37m\u001b[22mClass 0 (Background): IoU = 0.534\u001b[0m\n",
            "\u001b[37m\u001b[22mClass 1 (Building): IoU = 0.370\u001b[0m\n",
            "\u001b[37m\u001b[22mClass 2 (Road): IoU = 0.421\u001b[0m\n",
            "\u001b[37m\u001b[22mClass 3 (Water): IoU = 0.586\u001b[0m\n",
            "\u001b[37m\u001b[22mClass 4 (Barren): IoU = 0.569\u001b[0m\n",
            "\u001b[37m\u001b[22mClass 5 (Forest): IoU = 0.395\u001b[0m\n",
            "\u001b[37m\u001b[22mClass 6 (Agricultural): IoU = 0.627\u001b[0m\n",
            "\u001b[30m\u001b[43m\u001b[1mTrain: Epoch = 15 | mean Loss = 0.863 | mean-IoU = 0.500\u001b[0m\n",
            "\u001b[36m\u001b[22mClass-wise IoUs:\u001b[0m\n",
            "\u001b[37m\u001b[22mClass 0 (Background): IoU = 0.532\u001b[0m\n",
            "\u001b[37m\u001b[22mClass 1 (Building): IoU = 0.370\u001b[0m\n",
            "\u001b[37m\u001b[22mClass 2 (Road): IoU = 0.420\u001b[0m\n",
            "\u001b[37m\u001b[22mClass 3 (Water): IoU = 0.584\u001b[0m\n",
            "\u001b[37m\u001b[22mClass 4 (Barren): IoU = 0.566\u001b[0m\n",
            "\u001b[37m\u001b[22mClass 5 (Forest): IoU = 0.402\u001b[0m\n",
            "\u001b[37m\u001b[22mClass 6 (Agricultural): IoU = 0.624\u001b[0m\n",
            "\u001b[30m\u001b[43m\u001b[1mTrain: Epoch = 16 | mean Loss = 0.856 | mean-IoU = 0.502\u001b[0m\n",
            "\u001b[36m\u001b[22mClass-wise IoUs:\u001b[0m\n",
            "\u001b[37m\u001b[22mClass 0 (Background): IoU = 0.532\u001b[0m\n",
            "\u001b[37m\u001b[22mClass 1 (Building): IoU = 0.371\u001b[0m\n",
            "\u001b[37m\u001b[22mClass 2 (Road): IoU = 0.424\u001b[0m\n",
            "\u001b[37m\u001b[22mClass 3 (Water): IoU = 0.577\u001b[0m\n",
            "\u001b[37m\u001b[22mClass 4 (Barren): IoU = 0.576\u001b[0m\n",
            "\u001b[37m\u001b[22mClass 5 (Forest): IoU = 0.406\u001b[0m\n",
            "\u001b[37m\u001b[22mClass 6 (Agricultural): IoU = 0.627\u001b[0m\n",
            "\u001b[30m\u001b[43m\u001b[1mTrain: Epoch = 17 | mean Loss = 0.857 | mean-IoU = 0.502\u001b[0m\n",
            "\u001b[36m\u001b[22mClass-wise IoUs:\u001b[0m\n",
            "\u001b[37m\u001b[22mClass 0 (Background): IoU = 0.535\u001b[0m\n",
            "\u001b[37m\u001b[22mClass 1 (Building): IoU = 0.371\u001b[0m\n",
            "\u001b[37m\u001b[22mClass 2 (Road): IoU = 0.424\u001b[0m\n",
            "\u001b[37m\u001b[22mClass 3 (Water): IoU = 0.581\u001b[0m\n",
            "\u001b[37m\u001b[22mClass 4 (Barren): IoU = 0.569\u001b[0m\n",
            "\u001b[37m\u001b[22mClass 5 (Forest): IoU = 0.404\u001b[0m\n",
            "\u001b[37m\u001b[22mClass 6 (Agricultural): IoU = 0.631\u001b[0m\n",
            "\u001b[30m\u001b[43m\u001b[1mTrain: Epoch = 18 | mean Loss = 0.855 | mean-IoU = 0.503\u001b[0m\n",
            "\u001b[36m\u001b[22mClass-wise IoUs:\u001b[0m\n",
            "\u001b[37m\u001b[22mClass 0 (Background): IoU = 0.536\u001b[0m\n",
            "\u001b[37m\u001b[22mClass 1 (Building): IoU = 0.371\u001b[0m\n",
            "\u001b[37m\u001b[22mClass 2 (Road): IoU = 0.420\u001b[0m\n",
            "\u001b[37m\u001b[22mClass 3 (Water): IoU = 0.585\u001b[0m\n",
            "\u001b[37m\u001b[22mClass 4 (Barren): IoU = 0.572\u001b[0m\n",
            "\u001b[37m\u001b[22mClass 5 (Forest): IoU = 0.405\u001b[0m\n",
            "\u001b[37m\u001b[22mClass 6 (Agricultural): IoU = 0.628\u001b[0m\n",
            "\u001b[30m\u001b[43m\u001b[1mTrain: Epoch = 19 | mean Loss = 0.857 | mean-IoU = 0.502\u001b[0m\n",
            "\u001b[36m\u001b[22mClass-wise IoUs:\u001b[0m\n",
            "\u001b[37m\u001b[22mClass 0 (Background): IoU = 0.536\u001b[0m\n",
            "\u001b[37m\u001b[22mClass 1 (Building): IoU = 0.370\u001b[0m\n",
            "\u001b[37m\u001b[22mClass 2 (Road): IoU = 0.421\u001b[0m\n",
            "\u001b[37m\u001b[22mClass 3 (Water): IoU = 0.583\u001b[0m\n",
            "\u001b[37m\u001b[22mClass 4 (Barren): IoU = 0.569\u001b[0m\n",
            "\u001b[37m\u001b[22mClass 5 (Forest): IoU = 0.403\u001b[0m\n",
            "\u001b[37m\u001b[22mClass 6 (Agricultural): IoU = 0.633\u001b[0m\n",
            "\u001b[30m\u001b[43m\u001b[1mTrain: Epoch = 20 | mean Loss = 0.855 | mean-IoU = 0.503\u001b[0m\n",
            "\u001b[36m\u001b[22mClass-wise IoUs:\u001b[0m\n",
            "\u001b[37m\u001b[22mClass 0 (Background): IoU = 0.534\u001b[0m\n",
            "\u001b[37m\u001b[22mClass 1 (Building): IoU = 0.371\u001b[0m\n",
            "\u001b[37m\u001b[22mClass 2 (Road): IoU = 0.423\u001b[0m\n",
            "\u001b[37m\u001b[22mClass 3 (Water): IoU = 0.586\u001b[0m\n",
            "\u001b[37m\u001b[22mClass 4 (Barren): IoU = 0.576\u001b[0m\n",
            "\u001b[37m\u001b[22mClass 5 (Forest): IoU = 0.400\u001b[0m\n",
            "\u001b[37m\u001b[22mClass 6 (Agricultural): IoU = 0.634\u001b[0m\n"
          ]
        }
      ]
    },
    {
      "cell_type": "markdown",
      "source": [
        "## PIDNet & LoveDA"
      ],
      "metadata": {
        "id": "H39hIKUEQtV1"
      }
    },
    {
      "cell_type": "code",
      "source": [
        "from PIDNet.models.pidnet import PIDNet\n",
        "pidnet_model = PIDNet(m=2, n=3, num_classes=NUM_CLASSES, planes=32, ppm_planes=96, head_planes=128, augment=True)"
      ],
      "metadata": {
        "id": "-jN8CpnfQwEb"
      },
      "execution_count": 17,
      "outputs": []
    },
    {
      "cell_type": "code",
      "source": [],
      "metadata": {
        "id": "6jftNKn4VtYB"
      },
      "execution_count": 17,
      "outputs": []
    }
  ],
  "metadata": {
    "kernelspec": {
      "display_name": "Python 3",
      "name": "python3"
    },
    "language_info": {
      "codemirror_mode": {
        "name": "ipython",
        "version": 3
      },
      "file_extension": ".py",
      "mimetype": "text/x-python",
      "name": "python",
      "nbconvert_exporter": "python",
      "pygments_lexer": "ipython3",
      "version": "3.12.4"
    },
    "colab": {
      "provenance": [],
      "gpuType": "T4",
      "include_colab_link": true
    },
    "accelerator": "GPU"
  },
  "nbformat": 4,
  "nbformat_minor": 0
}