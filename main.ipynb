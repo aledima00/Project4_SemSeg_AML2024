{
  "cells": [
    {
      "cell_type": "markdown",
      "metadata": {
        "id": "view-in-github",
        "colab_type": "text"
      },
      "source": [
        "<a href=\"https://colab.research.google.com/github/aledima00/Project4_SemSeg_AML2024/blob/main/main.ipynb\" target=\"_parent\"><img src=\"https://colab.research.google.com/assets/colab-badge.svg\" alt=\"Open In Colab\"/></a>"
      ]
    },
    {
      "cell_type": "markdown",
      "metadata": {
        "id": "bwGAibz4oZbs"
      },
      "source": [
        "# Project 4 - Semantic Segmentation"
      ]
    },
    {
      "cell_type": "markdown",
      "source": [
        "First let's download dataset, that is already split in \"Train\", \"Test\" and \"Val\" modules"
      ],
      "metadata": {
        "id": "GaksjqH-t7sC"
      }
    },
    {
      "cell_type": "code",
      "source": [
        "import os\n",
        "import glob\n",
        "from skimage.io import imread\n",
        "import logging\n",
        "from enum import Enum\n",
        "import gdown\n",
        "\n",
        "import torch\n",
        "from torch.utils.data import DataLoader\n",
        "from torch.utils.data import Dataset\n",
        "import torch.nn as nn\n",
        "import torch.nn.functional as F\n",
        "import torch.optim as optim\n",
        "\n",
        "import torchvision\n",
        "from torchvision import transforms\n",
        "\n",
        "from PIL import Image\n",
        "\n",
        "import numpy as np"
      ],
      "metadata": {
        "id": "3s8kdM5oGGr1"
      },
      "execution_count": 124,
      "outputs": []
    },
    {
      "cell_type": "markdown",
      "source": [
        "General Configuration:"
      ],
      "metadata": {
        "id": "f3N9EoQoVgC-"
      }
    },
    {
      "cell_type": "code",
      "source": [
        "DBG = False                    # set to True for debug mode (lighter execution + dbg prints)\n",
        "CONFIG_DATASET = True         # set to True to download and config all dataset resources\n",
        "CONFIG_DEEPLABV2 = True       # set to True to download and config all DeepLabv2 resources\n",
        "\n",
        "DEVICE = \"cuda\" if torch.cuda.is_available() else \"cpu\"\n",
        "print(f\"Using device: {DEVICE}\")\n",
        "TRAIN_PATH = \"Train\"          # path of the train folder\n",
        "VAL_PATH = \"Val\"              # path of the val folder\n",
        "TEST_PATH = \"Test\"            # path of the test folder\n",
        "DEEPLABV2_WEIGHTS_PATH = \"deeplabv2-pretrain-weights.pth\"  # path of the deeplabv2 folder"
      ],
      "metadata": {
        "id": "yacl9RktR8Fb",
        "outputId": "cb6094e9-41a7-48bb-9c41-d08aec1d9885",
        "colab": {
          "base_uri": "https://localhost:8080/"
        }
      },
      "execution_count": 125,
      "outputs": [
        {
          "output_type": "stream",
          "name": "stdout",
          "text": [
            "Using device: cuda\n"
          ]
        }
      ]
    },
    {
      "cell_type": "markdown",
      "source": [
        "download datasets:"
      ],
      "metadata": {
        "id": "BPING-HIYj5V"
      }
    },
    {
      "cell_type": "code",
      "execution_count": 126,
      "metadata": {
        "id": "QlswjyfJoZbu"
      },
      "outputs": [],
      "source": [
        "def config_generic_dataset(DS_PATHNAME,URL):\n",
        "  !rm -rf {DS_PATHNAME}\n",
        "  ZIP_PATH = DS_PATHNAME + \".zip\"\n",
        "  !rm {ZIP_PATH}\n",
        "  !wget -O {ZIP_PATH} {URL}\n",
        "  !unzip {ZIP_PATH} | tail -n 3\n",
        "  !rm {ZIP_PATH}\n",
        "\n",
        "def config_train_dataset():\n",
        "  config_generic_dataset(TRAIN_PATH, \"https://zenodo.org/records/5706578/files/Train.zip?download=1\")\n",
        "def config_val_dataset():\n",
        "  config_generic_dataset(VAL_PATH, \"https://zenodo.org/records/5706578/files/Val.zip?download=1\")\n",
        "def config_test_dataset():\n",
        "  config_generic_dataset(TEST_PATH, \"https://zenodo.org/records/5706578/files/Test.zip?download=1\")\n",
        "\n",
        "def config_all_dataset(*,force=False):\n",
        "  print(\"Dowloading and Configuring Dataset\")\n",
        "  if force or (not os.path.exists(TRAIN_PATH)):\n",
        "    config_train_dataset()\n",
        "  if force or (not os.path.exists(VAL_PATH)):\n",
        "    config_val_dataset()\n",
        "  if force or (not os.path.exists(TEST_PATH)):\n",
        "    config_test_dataset()"
      ]
    },
    {
      "cell_type": "markdown",
      "source": [
        "download and configure deeplabv2 model library (_with R101 backbone_) and the pretrain weights:"
      ],
      "metadata": {
        "id": "OYvs6ukiaWXn"
      }
    },
    {
      "cell_type": "code",
      "source": [
        "def config_deeplabv2_model():\n",
        "  print(\"Dowloading and Configuring DeepLabv2 Model\")\n",
        "  import sys\n",
        "  import gdown\n",
        "  !rm -rf \"MLDL2024_project1\"\n",
        "  !git clone https://github.com/Gabrysse/MLDL2024_project1.git\n",
        "  sys.path.append(\"/content/MLDL2024_project1/\")\n",
        "  gdown.download(\"https://drive.google.com/uc?id=1ZX0UCXvJwqd2uBGCX7LI2n-DfMg3t74v\", DEEPLABV2_WEIGHTS_PATH, quiet=False)\n"
      ],
      "metadata": {
        "id": "ILWYQBnQZvj8"
      },
      "execution_count": 127,
      "outputs": []
    },
    {
      "cell_type": "code",
      "source": [
        "if CONFIG_DATASET:\n",
        "  config_all_dataset()\n",
        "if CONFIG_DEEPLABV2:\n",
        "  config_deeplabv2_model()"
      ],
      "metadata": {
        "id": "jklZ1NAorsGq",
        "outputId": "814f7877-e312-42ff-c566-5936bfb49fa0",
        "colab": {
          "base_uri": "https://localhost:8080/"
        }
      },
      "execution_count": 128,
      "outputs": [
        {
          "output_type": "stream",
          "name": "stdout",
          "text": [
            "Dowloading and Configuring Dataset\n",
            "Dowloading and Configuring DeepLabv2 Model\n",
            "Cloning into 'MLDL2024_project1'...\n",
            "remote: Enumerating objects: 34, done.\n",
            "remote: Counting objects: 100% (18/18), done.\n",
            "remote: Compressing objects: 100% (14/14), done.\n",
            "remote: Total 34 (delta 8), reused 4 (delta 4), pack-reused 16 (from 1)\n",
            "Receiving objects: 100% (34/34), 12.06 KiB | 2.41 MiB/s, done.\n",
            "Resolving deltas: 100% (8/8), done.\n"
          ]
        },
        {
          "output_type": "stream",
          "name": "stderr",
          "text": [
            "Downloading...\n",
            "From (original): https://drive.google.com/uc?id=1ZX0UCXvJwqd2uBGCX7LI2n-DfMg3t74v\n",
            "From (redirected): https://drive.google.com/uc?id=1ZX0UCXvJwqd2uBGCX7LI2n-DfMg3t74v&confirm=t&uuid=e6a1978d-7609-4759-89a2-ba441fb922e4\n",
            "To: /content/deeplabv2-pretrain-weights.pth\n",
            "100%|██████████| 177M/177M [00:04<00:00, 36.3MB/s]\n"
          ]
        }
      ]
    },
    {
      "cell_type": "code",
      "source": [
        "from colorama import Fore, Back, Style\n",
        "def dbgp(name,value):\n",
        "  \"\"\" Debug print function \"\"\"\n",
        "  if DBG:\n",
        "    print(f\"{Fore.BLACK}{Back.GREEN}{Style.BRIGHT}{name}:\\t{value}{Fore.RESET}{Back.RESET}{Style.RESET_ALL}\")"
      ],
      "metadata": {
        "id": "Lbd-G8xDYRu5"
      },
      "execution_count": 129,
      "outputs": []
    },
    {
      "cell_type": "markdown",
      "source": [
        "## Data Preparation"
      ],
      "metadata": {
        "id": "T30UDU6NBlLC"
      }
    },
    {
      "cell_type": "markdown",
      "source": [
        "Create Dataset class and filter urban pictures..."
      ],
      "metadata": {
        "id": "O79ygl6vuWZZ"
      }
    },
    {
      "cell_type": "code",
      "source": [
        "NUM_CLASSES = 8\n",
        "BATCH_SIZE = 2 if DBG else 64\n",
        "LR = 0.001           # The initial Learning Rate\n",
        "MOMENTUM = 0.9       # Hyperparameter for SGD, keep this at 0.9 when using SGD\n",
        "WEIGHT_DECAY = 4e-5  # Regularization, you can keep this at the default\n",
        "NUM_EPOCHS = 20      # Total number of training epochs (iterations over dataset)\n",
        "STEP_SIZE = [25, 75, 150] # How many epochs before decreasing learning rate (if using a step-down policy)\n",
        "GAMMA = 0.1          # Multiplicative factor for learning rate step-down"
      ],
      "metadata": {
        "id": "rS-RMBUf9x10"
      },
      "execution_count": 146,
      "outputs": []
    },
    {
      "cell_type": "code",
      "source": [
        "# Define transforms for training phase\n",
        "train_image_transform = transforms.Compose([\n",
        "    transforms.Resize(256),       # Resizes short size of the PIL image to 256\n",
        "    transforms.CenterCrop(224),   # Crops a central square patch of the image\n",
        "                                  # 224 because torchvision's AlexNet needs a 224x224 input!\n",
        "                                  # Remember this when applying different transformations, otherwise you get an error\n",
        "    transforms.ToTensor(),        # Turn PIL Image to torch.Tensor\n",
        "    transforms.Normalize(mean=(0.485, 0.456, 0.406), std=(0.229, 0.224, 0.225))  # Normalize as per ImageNet stats\n",
        "])\n",
        "\n",
        "# Define transforms for the evaluation phase\n",
        "test_image_transform = transforms.Compose([\n",
        "    transforms.Resize(256),\n",
        "    transforms.CenterCrop(224),\n",
        "    transforms.ToTensor(),\n",
        "    transforms.Normalize(mean=(0.485, 0.456, 0.406), std=(0.229, 0.224, 0.225))  # Normalize as per ImageNet stats\n",
        "])\n",
        "\n",
        "# Masks should not be normalized or resized with interpolation\n",
        "target_transform = transforms.Compose([\n",
        "    transforms.Resize((256, 256), interpolation=Image.NEAREST),\n",
        "    transforms.CenterCrop(224),\n",
        "    transforms.Lambda(lambda mask: torch.tensor(np.array(mask), dtype=torch.uint8)),\n",
        "])\n"
      ],
      "metadata": {
        "id": "IbuKjlvxKXiD"
      },
      "execution_count": 147,
      "outputs": []
    },
    {
      "cell_type": "code",
      "source": [
        "# taken from official repo of LoveDA\n",
        "COLOR_MAP = {\n",
        "    0:\"IGNORE\",\n",
        "    1:\"Background\",\n",
        "    2:\"Building\",\n",
        "    3:\"Road\",\n",
        "    4:\"Water\",\n",
        "    5:\"Barren\",\n",
        "    6:\"Forest\",\n",
        "    7:\"Agricultural\"\n",
        "}"
      ],
      "metadata": {
        "id": "ke4pX0Bvpohi"
      },
      "execution_count": 148,
      "outputs": []
    },
    {
      "cell_type": "code",
      "source": [
        "def pil_loader(path,*,format:str=\"RGB\"):\n",
        "    # open path as file to avoid ResourceWarning (https://github.com/python-pillow/Pillow/issues/835)\n",
        "    with open(path, 'rb') as f:\n",
        "        img = Image.open(f)\n",
        "        return img.convert(format)\n",
        "\n",
        "class DataType(Enum):\n",
        "  RURAL = 0\n",
        "  URBAN = 1\n",
        "\n",
        "class LoveDA(Dataset):\n",
        "  def __init__(self, basedir, data_type:DataType, transforms=None, target_transform=None):\n",
        "    #super(LoveDA, self).__init__(basedir, transforms, target_transform) # should we do this??\n",
        "    if data_type == DataType.RURAL:\n",
        "        self.base_path = os.path.join(basedir, \"Rural\")\n",
        "    else: #data_type == DataType.URBAN:\n",
        "        self.base_path = os.path.join(basedir, \"Urban\")\n",
        "\n",
        "\n",
        "    # list of integers that identifies paths relative to both images_png and masks_png\n",
        "    self.int_pathrefs = os.listdir(os.path.join(self.base_path, \"images_png\"))\n",
        "    self.int_pathrefs = list(int(st.split(\".\")[0]) for st in self.int_pathrefs)\n",
        "\n",
        "    # DEBUG PRINT\n",
        "    if DBG:\n",
        "      self.int_pathrefs = self.int_pathrefs[:15] # limit the dataset for debug\n",
        "    dbgp(\"int_pathrefs\", self.int_pathrefs)\n",
        "\n",
        "    self.transforms = transforms\n",
        "    self.target_transform = target_transform\n",
        "\n",
        "  def __getitem__(self, idx):\n",
        "    assert idx < len(self), 'Index out of range'\n",
        "    image_path = os.path.join(self.base_path, \"images_png\", str(self.int_pathrefs[idx]) + \".png\")\n",
        "    mask_path = os.path.join(self.base_path, \"masks_png\", str(self.int_pathrefs[idx]) + \".png\")\n",
        "    image = pil_loader(image_path,format=\"RGB\")\n",
        "    mask = pil_loader(mask_path,format=\"L\")\n",
        "\n",
        "    if self.transforms is not None:\n",
        "      image = self.transforms(image)\n",
        "    if self.target_transform is not None:\n",
        "      mask = self.target_transform(mask) # should we apply transformation on mask ??\n",
        "\n",
        "    # DEBUG PRINT\n",
        "    dbgp(\"post-transform image\", image)\n",
        "    dbgp(\"post-transform mask\", mask)\n",
        "\n",
        "    return image, mask\n",
        "\n",
        "  def __len__(self):\n",
        "    return len(self.int_pathrefs)\n"
      ],
      "metadata": {
        "id": "-pTgwB0k1wWA"
      },
      "execution_count": 149,
      "outputs": []
    },
    {
      "cell_type": "code",
      "source": [
        "# Urban Datasets (train, val, test)\n",
        "urban_train = LoveDA(TRAIN_PATH, DataType.URBAN, transforms=train_image_transform, target_transform=target_transform)\n",
        "urban_val = LoveDA(VAL_PATH, DataType.URBAN, transforms=test_image_transform, target_transform=target_transform)\n",
        "urban_test = LoveDA(TEST_PATH, DataType.URBAN, transforms=test_image_transform, target_transform=target_transform)\n",
        "\n",
        "# Urban Dataloaders (train, val, test)\n",
        "\n",
        "NUM_WORKERS = 2 if DBG else 4\n",
        "urban_train_dataloader = DataLoader(urban_train, batch_size=BATCH_SIZE, shuffle=True, num_workers=NUM_WORKERS, drop_last=True)\n",
        "urban_val_dataloader = DataLoader(urban_val, shuffle=False, num_workers=NUM_WORKERS, drop_last=False)\n",
        "urban_test_dataloader = DataLoader(urban_test, shuffle=False, num_workers=NUM_WORKERS, drop_last=False)"
      ],
      "metadata": {
        "id": "AeG5O3GoDj5b"
      },
      "execution_count": 150,
      "outputs": []
    },
    {
      "cell_type": "markdown",
      "source": [
        "Get DeepLabv2 model with pretrain weights:"
      ],
      "metadata": {
        "id": "PklC_MDk1z31"
      }
    },
    {
      "cell_type": "code",
      "source": [
        "from MLDL2024_project1.models.deeplabv2 import deeplabv2\n",
        "\n",
        "model = deeplabv2.get_deeplab_v2(num_classes=NUM_CLASSES,pretrain=True,pretrain_model_path=DEEPLABV2_WEIGHTS_PATH)"
      ],
      "metadata": {
        "id": "CCfB1vwkWB7e",
        "outputId": "e812f3df-90dd-4e04-de70-35902a7fc504",
        "colab": {
          "base_uri": "https://localhost:8080/"
        }
      },
      "execution_count": 151,
      "outputs": [
        {
          "output_type": "stream",
          "name": "stdout",
          "text": [
            "Deeplab pretraining loading...\n"
          ]
        }
      ]
    },
    {
      "cell_type": "markdown",
      "source": [
        "## Optimizer, Loss, ecc."
      ],
      "metadata": {
        "id": "eR_jhjxTcxB0"
      }
    },
    {
      "cell_type": "code",
      "source": [
        "# enable validation during training\n",
        "validate = True\n",
        "\n",
        "model.train(True)\n",
        "model.multi_level = False # ask in class\n",
        "for params in model.get_1x_lr_params_no_scale():\n",
        "  params.requires_grad = False # no training in Backbone\n",
        "for params in model.get_10x_lr_params():\n",
        "  params.requires_grad = True # training in classifiers\n",
        "\n",
        "\n",
        "model = model.to(DEVICE) # switch to GPU\n",
        "\n",
        "#Loss (as said in DeepLabv2 docs)\n",
        "loss_fn = nn.CrossEntropyLoss()\n",
        "\n",
        "#Opt\n",
        "trainable_params = [p for p in model.parameters() if p.requires_grad]\n",
        "optimizer_fn = optim.Adam(trainable_params, lr=LR, weight_decay=WEIGHT_DECAY, eps=1e-4)\n",
        "\n",
        "#Scheduler\n",
        "optim_scheduler = optim.lr_scheduler.MultiStepLR(optimizer_fn, milestones=STEP_SIZE, gamma=GAMMA)\n"
      ],
      "metadata": {
        "id": "gfXbShPFcwrE"
      },
      "execution_count": 152,
      "outputs": []
    },
    {
      "cell_type": "markdown",
      "source": [
        "## Training Loop"
      ],
      "metadata": {
        "id": "zrh_HJ0xbfTB"
      }
    },
    {
      "cell_type": "code",
      "source": [
        "import warnings\n",
        "from torch.backends import cudnn\n",
        "from icecream import ic\n",
        "from colorama import Fore,Back,Style\n",
        "warnings.filterwarnings('ignore')\n",
        "\n",
        "train_iter = 0\n",
        "val_iter = 0\n",
        "\n",
        "trainSamples = len(urban_train) - (len(urban_train) % BATCH_SIZE)\n",
        "val_samples = len(urban_val)\n",
        "iterPerEpoch = len(urban_train_dataloader)\n",
        "val_steps = len(urban_val_dataloader)\n",
        "\n",
        "cudnn.benchmark\n",
        "CUDA_LAUNCH_BLOCKING=1\n",
        "model_checkpoint = \"model\" #name\n",
        "model.train(True)\n",
        "\n",
        "for epoch in range(NUM_EPOCHS):\n",
        "    epoch_loss = 0\n",
        "    IoU = 0\n",
        "\n",
        "    for i, (inputs, targets) in enumerate(urban_train_dataloader):\n",
        "        train_iter += 1\n",
        "        optimizer_fn.zero_grad()\n",
        "\n",
        "        # feeds in model\n",
        "        inputs = inputs.to(DEVICE)\n",
        "        labels = targets.long().to(device=DEVICE)\n",
        "\n",
        "        output_logits,_,_ = model(inputs)\n",
        "\n",
        "        # compute loss\n",
        "        loss = loss_fn(output_logits, labels)\n",
        "\n",
        "        # backward loss and optimizer step\n",
        "        loss.backward()\n",
        "        optimizer_fn.step()\n",
        "\n",
        "        #compute the training accuracy\n",
        "        _, predicted = torch.max(output_logits.data, 1)\n",
        "\n",
        "        dbgp(\"predicted\", predicted)\n",
        "        dbgp(\"labels\", labels)\n",
        "\n",
        "        intersection = torch.logical_and(labels, predicted)\n",
        "        union = torch.logical_or(labels, predicted)\n",
        "\n",
        "        dbgp(\"intersection\", intersection)\n",
        "        dbgp(\"union\", union)\n",
        "\n",
        "        IoU += torch.sum(intersection).item() / torch.sum(union).item()\n",
        "\n",
        "        step_loss = loss.data.item()\n",
        "        epoch_loss += step_loss\n",
        "        if train_iter % 5 == 0:\n",
        "          print(Fore.WHITE + Style.DIM + 'Train: Epoch = {} | Step = {} | Step Loss = {:.3f}'.format(epoch + 1, train_iter, step_loss))\n",
        "    avg_loss = epoch_loss/iterPerEpoch\n",
        "    avg_IoU = (IoU / trainSamples)\n",
        "    print(Fore.GREEN + Style.BRIGHT + 'Train: Epoch = {} | mean Loss = {:.3f} | mean-IoU = {:.3f}'.format(epoch + 1, avg_loss, avg_IoU))\n",
        "    \"\"\"\n",
        "    #train_logger.add_epoch_data(epoch+1, trainAccuracy, avg_loss)\n",
        "\n",
        "    if validate:\n",
        "        if (epoch+1) % 1 == 0:\n",
        "            model.train(False)\n",
        "            val_loss_epoch = 0\n",
        "            numCorr = 0\n",
        "            for j, (inputs, targets) in enumerate(val_loader):\n",
        "                val_iter += 1\n",
        "                inputVariable = inputs.permute(1, 0, 2, 3, 4).to(DEVICE)\n",
        "                labelVariable = targets.to(DEVICE)\n",
        "\n",
        "                output_label, _ = model(inputVariable)\n",
        "                val_loss = loss_fn(output_label, labelVariable)\n",
        "\n",
        "                val_loss_step = val_loss.data.item()\n",
        "                val_loss_epoch += val_loss_step\n",
        "                _, predicted = torch.max(output_label.data, 1)\n",
        "                numCorr += torch.sum(predicted == labelVariable.data).data.item()\n",
        "                #val_logger.add_step_data(val_iter, numCorr, val_loss_step)\n",
        "\n",
        "            val_accuracy = (numCorr / val_samples) * 100\n",
        "            avg_val_loss = val_loss_epoch / val_steps\n",
        "\n",
        "            print(Fore.GREEN + 'Val: Epoch = {} | Loss {:.3f} | Accuracy = {:.3f}'.format(epoch + 1, avg_val_loss, val_accuracy))\n",
        "            if val_accuracy > min_accuracy:\n",
        "                print(\"[||| NEW BEST on val||||]\")\n",
        "                save_path_model = os.path.join(model_folder, model_checkpoint)\n",
        "                torch.save(model.state_dict(), save_path_model)\n",
        "                min_accuracy = val_accuracy\n",
        "\"\"\"\n",
        "    optim_scheduler.step()\n"
      ],
      "metadata": {
        "id": "LclZQhQQVLt7",
        "outputId": "5feeee2a-0b25-4249-a67a-6995c4030a67",
        "colab": {
          "base_uri": "https://localhost:8080/"
        }
      },
      "execution_count": 153,
      "outputs": [
        {
          "output_type": "stream",
          "name": "stdout",
          "text": [
            "Train: Epoch = 1 | Step = 5 | Step Loss = 4.961\n",
            "Train: Epoch = 1 | Step = 10 | Step Loss = 4.614\n",
            "Train: Epoch = 1 | Step = 15 | Step Loss = 2.841\n",
            "Train: Epoch = 1 | mean Loss = 4.386 | mean-IoU = 0.015\n",
            "Train: Epoch = 2 | Step = 20 | Step Loss = 2.098\n",
            "Train: Epoch = 2 | Step = 25 | Step Loss = 2.093\n",
            "Train: Epoch = 2 | Step = 30 | Step Loss = 1.674\n",
            "Train: Epoch = 2 | Step = 35 | Step Loss = 1.541\n",
            "Train: Epoch = 2 | mean Loss = 1.898 | mean-IoU = 0.015\n",
            "Train: Epoch = 3 | Step = 40 | Step Loss = 1.443\n",
            "Train: Epoch = 3 | Step = 45 | Step Loss = 1.258\n",
            "Train: Epoch = 3 | Step = 50 | Step Loss = 1.288\n",
            "Train: Epoch = 3 | mean Loss = 1.318 | mean-IoU = 0.016\n",
            "Train: Epoch = 4 | Step = 55 | Step Loss = 1.080\n",
            "Train: Epoch = 4 | Step = 60 | Step Loss = 1.049\n",
            "Train: Epoch = 4 | Step = 65 | Step Loss = 1.100\n",
            "Train: Epoch = 4 | Step = 70 | Step Loss = 1.210\n",
            "Train: Epoch = 4 | mean Loss = 1.119 | mean-IoU = 0.016\n",
            "Train: Epoch = 5 | Step = 75 | Step Loss = 0.957\n",
            "Train: Epoch = 5 | Step = 80 | Step Loss = 0.900\n",
            "Train: Epoch = 5 | Step = 85 | Step Loss = 0.986\n",
            "Train: Epoch = 5 | Step = 90 | Step Loss = 0.886\n",
            "Train: Epoch = 5 | mean Loss = 0.933 | mean-IoU = 0.016\n",
            "Train: Epoch = 6 | Step = 95 | Step Loss = 0.836\n",
            "Train: Epoch = 6 | Step = 100 | Step Loss = 0.873\n",
            "Train: Epoch = 6 | Step = 105 | Step Loss = 0.859\n",
            "Train: Epoch = 6 | mean Loss = 0.855 | mean-IoU = 0.016\n",
            "Train: Epoch = 7 | Step = 110 | Step Loss = 0.756\n",
            "Train: Epoch = 7 | Step = 115 | Step Loss = 0.761\n",
            "Train: Epoch = 7 | Step = 120 | Step Loss = 0.817\n",
            "Train: Epoch = 7 | Step = 125 | Step Loss = 0.865\n",
            "Train: Epoch = 7 | mean Loss = 0.797 | mean-IoU = 0.016\n",
            "Train: Epoch = 8 | Step = 130 | Step Loss = 0.735\n",
            "Train: Epoch = 8 | Step = 135 | Step Loss = 0.773\n",
            "Train: Epoch = 8 | Step = 140 | Step Loss = 0.783\n",
            "Train: Epoch = 8 | mean Loss = 0.756 | mean-IoU = 0.016\n",
            "Train: Epoch = 9 | Step = 145 | Step Loss = 0.745\n",
            "Train: Epoch = 9 | Step = 150 | Step Loss = 0.746\n",
            "Train: Epoch = 9 | Step = 155 | Step Loss = 0.646\n",
            "Train: Epoch = 9 | Step = 160 | Step Loss = 0.690\n",
            "Train: Epoch = 9 | mean Loss = 0.735 | mean-IoU = 0.016\n",
            "Train: Epoch = 10 | Step = 165 | Step Loss = 0.678\n",
            "Train: Epoch = 10 | Step = 170 | Step Loss = 0.651\n",
            "Train: Epoch = 10 | Step = 175 | Step Loss = 0.730\n",
            "Train: Epoch = 10 | Step = 180 | Step Loss = 0.698\n",
            "Train: Epoch = 10 | mean Loss = 0.710 | mean-IoU = 0.016\n",
            "Train: Epoch = 11 | Step = 185 | Step Loss = 0.670\n",
            "Train: Epoch = 11 | Step = 190 | Step Loss = 0.621\n",
            "Train: Epoch = 11 | Step = 195 | Step Loss = 0.678\n",
            "Train: Epoch = 11 | mean Loss = 0.673 | mean-IoU = 0.016\n",
            "Train: Epoch = 12 | Step = 200 | Step Loss = 0.602\n",
            "Train: Epoch = 12 | Step = 205 | Step Loss = 0.670\n",
            "Train: Epoch = 12 | Step = 210 | Step Loss = 0.789\n",
            "Train: Epoch = 12 | Step = 215 | Step Loss = 0.719\n",
            "Train: Epoch = 12 | mean Loss = 0.681 | mean-IoU = 0.016\n",
            "Train: Epoch = 13 | Step = 220 | Step Loss = 0.621\n",
            "Train: Epoch = 13 | Step = 225 | Step Loss = 0.641\n",
            "Train: Epoch = 13 | Step = 230 | Step Loss = 0.591\n",
            "Train: Epoch = 13 | mean Loss = 0.652 | mean-IoU = 0.016\n",
            "Train: Epoch = 14 | Step = 235 | Step Loss = 0.638\n",
            "Train: Epoch = 14 | Step = 240 | Step Loss = 0.645\n",
            "Train: Epoch = 14 | Step = 245 | Step Loss = 0.645\n",
            "Train: Epoch = 14 | Step = 250 | Step Loss = 0.627\n",
            "Train: Epoch = 14 | mean Loss = 0.646 | mean-IoU = 0.016\n",
            "Train: Epoch = 15 | Step = 255 | Step Loss = 0.641\n",
            "Train: Epoch = 15 | Step = 260 | Step Loss = 0.717\n",
            "Train: Epoch = 15 | Step = 265 | Step Loss = 0.747\n",
            "Train: Epoch = 15 | Step = 270 | Step Loss = 0.670\n",
            "Train: Epoch = 15 | mean Loss = 0.675 | mean-IoU = 0.016\n",
            "Train: Epoch = 16 | Step = 275 | Step Loss = 0.644\n",
            "Train: Epoch = 16 | Step = 280 | Step Loss = 0.673\n",
            "Train: Epoch = 16 | Step = 285 | Step Loss = 0.748\n",
            "Train: Epoch = 16 | mean Loss = 0.659 | mean-IoU = 0.016\n",
            "Train: Epoch = 17 | Step = 290 | Step Loss = 0.611\n",
            "Train: Epoch = 17 | Step = 295 | Step Loss = 0.610\n",
            "Train: Epoch = 17 | Step = 300 | Step Loss = 0.652\n",
            "Train: Epoch = 17 | Step = 305 | Step Loss = 0.631\n",
            "Train: Epoch = 17 | mean Loss = 0.618 | mean-IoU = 0.016\n",
            "Train: Epoch = 18 | Step = 310 | Step Loss = 0.598\n",
            "Train: Epoch = 18 | Step = 315 | Step Loss = 0.605\n",
            "Train: Epoch = 18 | Step = 320 | Step Loss = 0.659\n",
            "Train: Epoch = 18 | mean Loss = 0.633 | mean-IoU = 0.016\n",
            "Train: Epoch = 19 | Step = 325 | Step Loss = 0.660\n",
            "Train: Epoch = 19 | Step = 330 | Step Loss = 0.647\n",
            "Train: Epoch = 19 | Step = 335 | Step Loss = 0.659\n",
            "Train: Epoch = 19 | Step = 340 | Step Loss = 0.701\n",
            "Train: Epoch = 19 | mean Loss = 0.689 | mean-IoU = 0.016\n",
            "Train: Epoch = 20 | Step = 345 | Step Loss = 0.633\n",
            "Train: Epoch = 20 | Step = 350 | Step Loss = 0.614\n",
            "Train: Epoch = 20 | Step = 355 | Step Loss = 0.684\n",
            "Train: Epoch = 20 | Step = 360 | Step Loss = 0.701\n",
            "Train: Epoch = 20 | mean Loss = 0.611 | mean-IoU = 0.016\n"
          ]
        }
      ]
    }
  ],
  "metadata": {
    "kernelspec": {
      "display_name": "Python 3",
      "name": "python3"
    },
    "language_info": {
      "codemirror_mode": {
        "name": "ipython",
        "version": 3
      },
      "file_extension": ".py",
      "mimetype": "text/x-python",
      "name": "python",
      "nbconvert_exporter": "python",
      "pygments_lexer": "ipython3",
      "version": "3.12.4"
    },
    "colab": {
      "provenance": [],
      "gpuType": "T4",
      "include_colab_link": true
    },
    "accelerator": "GPU"
  },
  "nbformat": 4,
  "nbformat_minor": 0
}