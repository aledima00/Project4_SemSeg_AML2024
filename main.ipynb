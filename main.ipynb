{
  "cells": [
    {
      "cell_type": "markdown",
      "metadata": {
        "id": "view-in-github",
        "colab_type": "text"
      },
      "source": [
        "<a href=\"https://colab.research.google.com/github/aledima00/Project4_SemSeg_AML2024/blob/main/main.ipynb\" target=\"_parent\"><img src=\"https://colab.research.google.com/assets/colab-badge.svg\" alt=\"Open In Colab\"/></a>"
      ]
    },
    {
      "cell_type": "markdown",
      "metadata": {
        "id": "bwGAibz4oZbs"
      },
      "source": [
        "# Project 4 - Semantic Segmentation"
      ]
    },
    {
      "cell_type": "markdown",
      "source": [
        "First let's download dataset, that is already split in \"Train\", \"Test\" and \"Val\" modules"
      ],
      "metadata": {
        "id": "GaksjqH-t7sC"
      }
    },
    {
      "cell_type": "code",
      "source": [
        "!pip install colorama | tail -n 1\n",
        "!pip install albumentations | tail -n 1\n",
        "!pip install yacs | tail -n 1\n",
        "!pip install fvcore | tail -n 1\n",
        "!pip install tqdm | tail -n 1"
      ],
      "metadata": {
        "id": "NPe9UMf8DtRL",
        "outputId": "5a03d502-0125-4974-f892-cacbc9c12f0d",
        "colab": {
          "base_uri": "https://localhost:8080/"
        }
      },
      "execution_count": 1,
      "outputs": [
        {
          "output_type": "stream",
          "name": "stdout",
          "text": [
            "Successfully installed colorama-0.4.6\n",
            "Requirement already satisfied: typing-extensions>=4.12.2 in /usr/local/lib/python3.10/dist-packages (from pydantic>=2.7.0->albumentations) (4.12.2)\n",
            "Successfully installed yacs-0.1.8\n",
            "Successfully installed fvcore-0.1.5.post20221221 iopath-0.1.10 portalocker-3.1.1\n",
            "Requirement already satisfied: tqdm in /usr/local/lib/python3.10/dist-packages (4.67.1)\n"
          ]
        }
      ]
    },
    {
      "cell_type": "markdown",
      "source": [
        "Generic Imports: here we import all generic libraries required from now on; more specific libraries will be imported later."
      ],
      "metadata": {
        "id": "0vVQKlhgkbOB"
      }
    },
    {
      "cell_type": "code",
      "source": [
        "# miscellaneous\n",
        "import os\n",
        "import glob\n",
        "from enum import Enum\n",
        "import gdown\n",
        "import numpy as np\n",
        "\n",
        "# torch basics\n",
        "import torch\n",
        "from torch.utils.data import DataLoader\n",
        "from torch.utils.data import Dataset\n",
        "import torch.nn as nn\n",
        "import torch.nn.functional as F\n",
        "import torch.optim as optim\n",
        "\n",
        "# image management\n",
        "import torchvision\n",
        "from torchvision import transforms\n",
        "import albumentations\n",
        "from PIL import Image\n",
        "\n",
        "# logging and printing\n",
        "import logging\n",
        "from colorama import Fore, Back, Style\n",
        "from tqdm.auto import tqdm\n",
        "\n",
        "None # suppress output"
      ],
      "metadata": {
        "id": "3s8kdM5oGGr1",
        "outputId": "b3d2c041-84f7-4aca-994e-ccf566188281",
        "colab": {
          "base_uri": "https://localhost:8080/"
        }
      },
      "execution_count": 2,
      "outputs": [
        {
          "output_type": "stream",
          "name": "stderr",
          "text": [
            "/usr/local/lib/python3.10/dist-packages/albumentations/__init__.py:24: UserWarning: A new version of Albumentations is available: 1.4.24 (you have 1.4.20). Upgrade using: pip install -U albumentations. To disable automatic update checks, set the environment variable NO_ALBUMENTATIONS_UPDATE to 1.\n",
            "  check_for_updates()\n"
          ]
        }
      ]
    },
    {
      "cell_type": "markdown",
      "source": [
        "General Configuration:"
      ],
      "metadata": {
        "id": "f3N9EoQoVgC-"
      }
    },
    {
      "cell_type": "code",
      "source": [
        "DBG = False                   # set to True for debug mode (lighter execution + dbg prints)\n",
        "CONFIG_DATASET = True         # set to True to download and config all dataset resources\n",
        "CONFIG_DEEPLABV2 = True       # set to True to download and config all DeepLabv2 resources\n",
        "CONFIG_PIDNET = True          # set to True to download and config all PIDNET resources\n",
        "\n",
        "DEVICE = \"cuda\" if torch.cuda.is_available() else \"cpu\"\n",
        "print(f\"Using device: {DEVICE}\")\n",
        "TRAIN_PATH = \"Train\"          # path of the train folder\n",
        "VAL_PATH = \"Val\"              # path of the val folder\n",
        "TEST_PATH = \"Test\"            # path of the test folder\n",
        "\n",
        "DEEPLABV2_PRETRAIN_WEIGHTS_PATH = \"deeplabv2-pretrain-weights.pth\"  # path of the deeplabv2 pretrain weights\n",
        "PIDNET_PRETRAIN_WEIGHTS_PATH = \"PIDNet/pretrained_models/imagenet/imagenet.pth.tar\" # path of the PIDNet pretrain weights\n",
        "\n",
        "MODELS_FOLDER = \"saved_models\"\n",
        "DEEPLABV2_FINAL_WEIGHTS_PATH = MODELS_FOLDER + \"/deeplab_v2.pth\"\n",
        "PIDNET_FINAL_WEIGHTS_PATH = MODELS_FOLDER + \"/pidnet.pth\"\n",
        "PIDNET_DACS_FINAL_WEIGHTS_PATH = MODELS_FOLDER + \"/pidnet_DACS.pth\"\n",
        "if not os.path.isdir(MODELS_FOLDER):\n",
        "    os.makedirs(MODELS_FOLDER)\n"
      ],
      "metadata": {
        "id": "yacl9RktR8Fb",
        "outputId": "240297d9-2396-4cc0-aea4-e82f154a8e8d",
        "colab": {
          "base_uri": "https://localhost:8080/"
        }
      },
      "execution_count": 3,
      "outputs": [
        {
          "output_type": "stream",
          "name": "stdout",
          "text": [
            "Using device: cuda\n"
          ]
        }
      ]
    },
    {
      "cell_type": "markdown",
      "source": [
        "function to download datasets:"
      ],
      "metadata": {
        "id": "BPING-HIYj5V"
      }
    },
    {
      "cell_type": "code",
      "execution_count": 4,
      "metadata": {
        "id": "QlswjyfJoZbu"
      },
      "outputs": [],
      "source": [
        "def config_generic_dataset(DS_PATHNAME,URL):\n",
        "  !rm -rf {DS_PATHNAME}\n",
        "  ZIP_PATH = DS_PATHNAME + \".zip\"\n",
        "  !rm {ZIP_PATH}\n",
        "  !wget -O {ZIP_PATH} {URL}\n",
        "  !unzip {ZIP_PATH} | tail -n 3\n",
        "  !rm {ZIP_PATH}\n",
        "\n",
        "def config_train_dataset():\n",
        "  config_generic_dataset(TRAIN_PATH, \"https://zenodo.org/records/5706578/files/Train.zip?download=1\")\n",
        "def config_val_dataset():\n",
        "  config_generic_dataset(VAL_PATH, \"https://zenodo.org/records/5706578/files/Val.zip?download=1\")\n",
        "def config_test_dataset():\n",
        "  config_generic_dataset(TEST_PATH, \"https://zenodo.org/records/5706578/files/Test.zip?download=1\")\n",
        "\n",
        "def config_all_dataset(*,force=False):\n",
        "  print(\"Dowloading and Configuring Dataset\")\n",
        "  if force or (not os.path.exists(TRAIN_PATH)):\n",
        "    config_train_dataset()\n",
        "  if force or (not os.path.exists(VAL_PATH)):\n",
        "    config_val_dataset()\n",
        "  if force or (not os.path.exists(TEST_PATH)):\n",
        "    config_test_dataset()"
      ]
    },
    {
      "cell_type": "markdown",
      "source": [
        "function to download and configure deeplabv2 model library (_with R101 backbone_) and the pretrain weights:"
      ],
      "metadata": {
        "id": "OYvs6ukiaWXn"
      }
    },
    {
      "cell_type": "code",
      "source": [
        "def config_deeplabv2_model():\n",
        "  print(\"Dowloading and Configuring DeepLabv2 Model\")\n",
        "  import sys\n",
        "  import gdown\n",
        "  !rm -rf \"MLDL2024_project1\"\n",
        "  !git clone https://github.com/Gabrysse/MLDL2024_project1.git\n",
        "  sys.path.append(\"/content/MLDL2024_project1/\")\n",
        "  gdown.download(\"https://drive.google.com/uc?id=1ZX0UCXvJwqd2uBGCX7LI2n-DfMg3t74v\", DEEPLABV2_PRETRAIN_WEIGHTS_PATH, quiet=False)\n",
        "  gdown.download(\"https://drive.google.com/uc?id=15eXpt8tqLK_mgReNP58Q37wFwnA4RF_n\", DEEPLABV2_FINAL_WEIGHTS_PATH, quiet=False)\n"
      ],
      "metadata": {
        "id": "ILWYQBnQZvj8"
      },
      "execution_count": 5,
      "outputs": []
    },
    {
      "cell_type": "markdown",
      "source": [
        "function to download and configure pidnet model library and the pretrain weights:"
      ],
      "metadata": {
        "id": "sSV3px5dN3kb"
      }
    },
    {
      "cell_type": "code",
      "source": [
        "def config_pidnet():\n",
        "  import sys\n",
        "  import gdown\n",
        "  print(\"Dowloading and Configuring PIDNET Model\")\n",
        "  !rm -rf \"PIDNet\"\n",
        "  !git clone https://github.com/XuJiacong/PIDNet.git\n",
        "  sys.path.append(\"/content/PIDNet/\")\n",
        "  gdown.download(\"https://drive.google.com/uc?id=1hIBp_8maRr60-B3PF0NVtaA6TYBvO4y-\", PIDNET_PRETRAIN_WEIGHTS_PATH, quiet=False)\n",
        "  gdown.download(\"https://drive.google.com/uc?id=1kwpTYYbqs4BNYsw12j9Zth81sOKbMzFU\", PIDNET_FINAL_WEIGHTS_PATH, quiet=False)\n"
      ],
      "metadata": {
        "id": "ltKuPIAaN5WC"
      },
      "execution_count": 6,
      "outputs": []
    },
    {
      "cell_type": "code",
      "source": [
        "if CONFIG_DATASET:\n",
        "  config_all_dataset()\n",
        "if CONFIG_DEEPLABV2:\n",
        "  config_deeplabv2_model()\n",
        "if CONFIG_PIDNET:\n",
        "  config_pidnet()"
      ],
      "metadata": {
        "id": "jklZ1NAorsGq",
        "outputId": "5cdac894-93a4-43d2-fc8e-62f8ace48283",
        "colab": {
          "base_uri": "https://localhost:8080/"
        }
      },
      "execution_count": 7,
      "outputs": [
        {
          "output_type": "stream",
          "name": "stdout",
          "text": [
            "Dowloading and Configuring Dataset\n",
            "rm: cannot remove 'Train.zip': No such file or directory\n",
            "--2025-01-08 00:32:11--  https://zenodo.org/records/5706578/files/Train.zip?download=1\n",
            "Resolving zenodo.org (zenodo.org)... 188.185.45.92, 188.185.48.194, 188.185.43.25, ...\n",
            "Connecting to zenodo.org (zenodo.org)|188.185.45.92|:443... connected.\n",
            "HTTP request sent, awaiting response... 200 OK\n",
            "Length: 4021669263 (3.7G) [application/octet-stream]\n",
            "Saving to: ‘Train.zip’\n",
            "\n",
            "Train.zip           100%[===================>]   3.75G  12.1MB/s    in 5m 21s  \n",
            "\n",
            "2025-01-08 00:37:33 (11.9 MB/s) - ‘Train.zip’ saved [4021669263/4021669263]\n",
            "\n",
            "  inflating: Train/Urban/masks_png/2519.png  \n",
            "  inflating: Train/Urban/masks_png/2520.png  \n",
            "  inflating: Train/Urban/masks_png/2521.png  \n",
            "rm: cannot remove 'Val.zip': No such file or directory\n",
            "--2025-01-08 00:38:30--  https://zenodo.org/records/5706578/files/Val.zip?download=1\n",
            "Resolving zenodo.org (zenodo.org)... 188.185.43.25, 188.185.48.194, 188.185.45.92, ...\n",
            "Connecting to zenodo.org (zenodo.org)|188.185.43.25|:443... connected.\n",
            "HTTP request sent, awaiting response... 200 OK\n",
            "Length: 2425958254 (2.3G) [application/octet-stream]\n",
            "Saving to: ‘Val.zip’\n",
            "\n",
            "Val.zip             100%[===================>]   2.26G  12.4MB/s    in 3m 11s  \n",
            "\n",
            "2025-01-08 00:41:42 (12.1 MB/s) - ‘Val.zip’ saved [2425958254/2425958254]\n",
            "\n",
            "  inflating: Val/Urban/masks_png/4188.png  \n",
            "  inflating: Val/Urban/masks_png/4189.png  \n",
            "  inflating: Val/Urban/masks_png/4190.png  \n",
            "rm: cannot remove 'Test.zip': No such file or directory\n",
            "--2025-01-08 00:42:03--  https://zenodo.org/records/5706578/files/Test.zip?download=1\n",
            "Resolving zenodo.org (zenodo.org)... 188.185.45.92, 188.185.43.25, 188.185.48.194, ...\n",
            "Connecting to zenodo.org (zenodo.org)|188.185.45.92|:443... connected.\n",
            "HTTP request sent, awaiting response... 200 OK\n",
            "Length: 3126023212 (2.9G) [application/octet-stream]\n",
            "Saving to: ‘Test.zip’\n",
            "\n",
            "Test.zip            100%[===================>]   2.91G  12.4MB/s    in 4m 17s  \n",
            "\n",
            "2025-01-08 00:46:21 (11.6 MB/s) - ‘Test.zip’ saved [3126023212/3126023212]\n",
            "\n",
            " extracting: Test/Urban/images_png/5984.png  \n",
            " extracting: Test/Urban/images_png/5985.png  \n",
            " extracting: Test/Urban/images_png/5986.png  \n",
            "Dowloading and Configuring DeepLabv2 Model\n",
            "Cloning into 'MLDL2024_project1'...\n",
            "remote: Enumerating objects: 34, done.\u001b[K\n",
            "remote: Counting objects: 100% (18/18), done.\u001b[K\n",
            "remote: Compressing objects: 100% (14/14), done.\u001b[K\n",
            "remote: Total 34 (delta 8), reused 4 (delta 4), pack-reused 16 (from 1)\u001b[K\n",
            "Receiving objects: 100% (34/34), 12.06 KiB | 588.00 KiB/s, done.\n",
            "Resolving deltas: 100% (8/8), done.\n"
          ]
        },
        {
          "output_type": "stream",
          "name": "stderr",
          "text": [
            "Downloading...\n",
            "From (original): https://drive.google.com/uc?id=1ZX0UCXvJwqd2uBGCX7LI2n-DfMg3t74v\n",
            "From (redirected): https://drive.google.com/uc?id=1ZX0UCXvJwqd2uBGCX7LI2n-DfMg3t74v&confirm=t&uuid=a481d363-98be-4e69-9b27-74aa1446fff6\n",
            "To: /content/deeplabv2-pretrain-weights.pth\n",
            "100%|██████████| 177M/177M [00:05<00:00, 33.3MB/s]\n",
            "Downloading...\n",
            "From (original): https://drive.google.com/uc?id=15eXpt8tqLK_mgReNP58Q37wFwnA4RF_n\n",
            "From (redirected): https://drive.google.com/uc?id=15eXpt8tqLK_mgReNP58Q37wFwnA4RF_n&confirm=t&uuid=dae58744-ad10-4893-a45b-b553bbd4fd02\n",
            "To: /content/saved_models/deeplab_v2.pth\n",
            "100%|██████████| 173M/173M [00:04<00:00, 41.7MB/s]\n"
          ]
        },
        {
          "output_type": "stream",
          "name": "stdout",
          "text": [
            "Dowloading and Configuring PIDNET Model\n",
            "Cloning into 'PIDNet'...\n",
            "remote: Enumerating objects: 386, done.\u001b[K\n",
            "remote: Counting objects: 100% (193/193), done.\u001b[K\n",
            "remote: Compressing objects: 100% (68/68), done.\u001b[K\n",
            "remote: Total 386 (delta 131), reused 125 (delta 125), pack-reused 193 (from 1)\u001b[K\n",
            "Receiving objects: 100% (386/386), 212.80 MiB | 35.80 MiB/s, done.\n",
            "Resolving deltas: 100% (184/184), done.\n"
          ]
        },
        {
          "output_type": "stream",
          "name": "stderr",
          "text": [
            "Downloading...\n",
            "From: https://drive.google.com/uc?id=1hIBp_8maRr60-B3PF0NVtaA6TYBvO4y-\n",
            "To: /content/PIDNet/pretrained_models/imagenet/imagenet.pth.tar\n",
            "100%|██████████| 38.1M/38.1M [00:00<00:00, 79.3MB/s]\n",
            "Downloading...\n",
            "From (original): https://drive.google.com/uc?id=1kwpTYYbqs4BNYsw12j9Zth81sOKbMzFU\n",
            "From (redirected): https://drive.google.com/uc?id=1kwpTYYbqs4BNYsw12j9Zth81sOKbMzFU&confirm=t&uuid=9acc45e6-8185-4138-882d-0af9f2b18383\n",
            "To: /content/saved_models/pidnet.pth\n",
            "100%|██████████| 31.1M/31.1M [00:00<00:00, 38.7MB/s]\n"
          ]
        }
      ]
    },
    {
      "cell_type": "code",
      "source": [
        "def dbgp(name,value):\n",
        "  \"\"\" Debug print function \"\"\"\n",
        "  if DBG:\n",
        "    print(f\"{Fore.BLACK}{Back.GREEN}{Style.BRIGHT}{name}:\\t{value}{Fore.RESET}{Back.RESET}{Style.RESET_ALL}\")"
      ],
      "metadata": {
        "id": "Lbd-G8xDYRu5"
      },
      "execution_count": 8,
      "outputs": []
    },
    {
      "cell_type": "markdown",
      "source": [
        "## Data Preparation\n",
        "\n",
        "Here we want to create the DataSet class and define the interfaces to use it."
      ],
      "metadata": {
        "id": "T30UDU6NBlLC"
      }
    },
    {
      "cell_type": "markdown",
      "source": [
        "First let's define some parameters about data:"
      ],
      "metadata": {
        "id": "O79ygl6vuWZZ"
      }
    },
    {
      "cell_type": "code",
      "source": [
        "NUM_CLASSES = 7\n",
        "BATCH_SIZE = 2 if DBG else 16\n",
        "IMAGENET_MEAN = (0.485, 0.456, 0.406)\n",
        "IMAGENET_STDDEV = (0.229, 0.224, 0.225)"
      ],
      "metadata": {
        "id": "eHgaJ5Z_3tvs"
      },
      "execution_count": 9,
      "outputs": []
    },
    {
      "cell_type": "markdown",
      "source": [
        "we define the transformation to apply on the dataset using albumentations in order to automatically distinguish which transformation must be applied on both images and masks and which others must be applied only on images:"
      ],
      "metadata": {
        "id": "fxKyU0_WpAFS"
      }
    },
    {
      "cell_type": "code",
      "source": [
        "import albumentations as ALB\n",
        "from albumentations.pytorch import ToTensorV2\n",
        "\n",
        "train_transform = ALB.Compose([\n",
        "      ALB.Resize(256,256),\n",
        "      ALB.Normalize(mean=IMAGENET_MEAN, std=IMAGENET_STDDEV),\n",
        "      ToTensorV2()\n",
        "  ])\n",
        "\n",
        "test_transform = ALB.Compose([\n",
        "    ALB.Resize(256,256),\n",
        "    ALB.Normalize(mean=IMAGENET_MEAN, std=IMAGENET_STDDEV),\n",
        "    ToTensorV2()\n",
        "])\n"
      ],
      "metadata": {
        "id": "IbuKjlvxKXiD"
      },
      "execution_count": 10,
      "outputs": []
    },
    {
      "cell_type": "markdown",
      "source": [
        "then we define the `COLOR_MAP` used to interpretate the mask representation:"
      ],
      "metadata": {
        "id": "mEo-3gWjpNgE"
      }
    },
    {
      "cell_type": "code",
      "source": [
        "# taken from official repo of LoveDA\n",
        "IGNORE_INDEX = -1\n",
        "COLOR_MAP = {\n",
        "    IGNORE_INDEX:\"IGNORE\",\n",
        "    0:\"Background\",\n",
        "    1:\"Building\",\n",
        "    2:\"Road\",\n",
        "    3:\"Water\",\n",
        "    4:\"Barren\",\n",
        "    5:\"Forest\",\n",
        "    6:\"Agricultural\"\n",
        "}\n",
        "CLASSES = list(key for key in COLOR_MAP.keys() if COLOR_MAP[key] != \"IGNORE\")"
      ],
      "metadata": {
        "id": "ke4pX0Bvpohi"
      },
      "execution_count": 11,
      "outputs": []
    },
    {
      "cell_type": "markdown",
      "source": [
        "finally, we can define the `LoveDA` class, used to create dataset instances; in addition, we define:\n",
        "- `DataType` *enum* class, used to choose what dataset to instantiate;\n",
        "- `pil_loader` function, to load images and masks"
      ],
      "metadata": {
        "id": "KdSSJ3pwpV9_"
      }
    },
    {
      "cell_type": "code",
      "source": [
        "def pil_loader(path,*,format:str=\"RGB\"):\n",
        "    # open path as file to avoid ResourceWarning (https://github.com/python-pillow/Pillow/issues/835)\n",
        "    with open(path, 'rb') as f:\n",
        "        img = Image.open(f)\n",
        "        return img.convert(format)\n",
        "\n",
        "class DataType(Enum):\n",
        "  RURAL = 0\n",
        "  URBAN = 1\n",
        "\n",
        "class LoveDA(Dataset):\n",
        "  def __init__(self, basedir, data_type:DataType, transforms=None):\n",
        "    #super(LoveDA, self).__init__(basedir, transforms, target_transform) # should we do this??\n",
        "    if data_type == DataType.RURAL:\n",
        "        self.base_path = os.path.join(basedir, \"Rural\")\n",
        "    else: #data_type == DataType.URBAN:\n",
        "        self.base_path = os.path.join(basedir, \"Urban\")\n",
        "\n",
        "\n",
        "    # list of integers that identifies paths relative to both images_png and masks_png\n",
        "    self.int_pathrefs = os.listdir(os.path.join(self.base_path, \"images_png\"))\n",
        "    self.int_pathrefs = list(int(st.split(\".\")[0]) for st in self.int_pathrefs)\n",
        "\n",
        "    # DEBUG PRINT\n",
        "    if DBG:\n",
        "      self.int_pathrefs = self.int_pathrefs[:15] # limit the dataset for debug\n",
        "\n",
        "    self.transforms = transforms\n",
        "\n",
        "  def __getitem__(self, idx):\n",
        "    assert idx < len(self), 'Index out of range'\n",
        "    image_path = os.path.join(self.base_path, \"images_png\", str(self.int_pathrefs[idx]) + \".png\")\n",
        "    mask_path = os.path.join(self.base_path, \"masks_png\", str(self.int_pathrefs[idx]) + \".png\")\n",
        "    image = pil_loader(image_path,format=\"RGB\")\n",
        "    mask = pil_loader(mask_path,format=\"L\")\n",
        "\n",
        "    # Convert PIL images to numpy arrays\n",
        "    image = np.array(image)\n",
        "    mask = np.array(mask, dtype=np.int8)\n",
        "\n",
        "    if self.transforms is not None:\n",
        "      augmented = self.transforms(image=image, mask=mask)\n",
        "      image = augmented[\"image\"]\n",
        "      mask = augmented[\"mask\"]\n",
        "\n",
        "    mask -= 1\n",
        "\n",
        "    return image, mask\n",
        "\n",
        "  def __len__(self):\n",
        "    return len(self.int_pathrefs)\n"
      ],
      "metadata": {
        "id": "-pTgwB0k1wWA"
      },
      "execution_count": 12,
      "outputs": []
    },
    {
      "cell_type": "markdown",
      "source": [
        "we can therefore use the former classes to instantiate the dataset and dataloader objects that we're going to use later:"
      ],
      "metadata": {
        "id": "IM4YgB0UpzD8"
      }
    },
    {
      "cell_type": "code",
      "source": [
        "# Urban Datasets (train, val, test)\n",
        "urban_train = LoveDA(TRAIN_PATH, DataType.URBAN, transforms=train_transform)\n",
        "urban_val = LoveDA(VAL_PATH, DataType.URBAN, transforms=test_transform)\n",
        "\n",
        "# Urban Dataloaders (train, val, test)\n",
        "\n",
        "NUM_WORKERS = 2 if DBG else 4\n",
        "urban_train_dataloader = DataLoader(urban_train, batch_size=BATCH_SIZE, shuffle=True, num_workers=NUM_WORKERS, drop_last=True)\n",
        "urban_val_dataloader = DataLoader(urban_val, shuffle=False, num_workers=NUM_WORKERS, drop_last=False)"
      ],
      "metadata": {
        "id": "AeG5O3GoDj5b",
        "outputId": "f444d2bb-0bf4-4f86-e5c1-4cdae282c93b",
        "colab": {
          "base_uri": "https://localhost:8080/"
        }
      },
      "execution_count": 13,
      "outputs": [
        {
          "output_type": "stream",
          "name": "stderr",
          "text": [
            "/usr/local/lib/python3.10/dist-packages/torch/utils/data/dataloader.py:617: UserWarning: This DataLoader will create 4 worker processes in total. Our suggested max number of worker in current system is 2, which is smaller than what this DataLoader is going to create. Please be aware that excessive worker creation might get DataLoader running slow or even freeze, lower the worker number to avoid potential slowness/freeze if necessary.\n",
            "  warnings.warn(\n"
          ]
        }
      ]
    },
    {
      "cell_type": "markdown",
      "source": [
        "## Utilities\n",
        "\n",
        "Now we define some utilities useful for different purposes."
      ],
      "metadata": {
        "id": "-gMadJ5mzm0w"
      }
    },
    {
      "cell_type": "markdown",
      "source": [
        "First we define the `IoUMeter` class, useful to compute IoU for classes and over the whole set:"
      ],
      "metadata": {
        "id": "iY0Z5CfNsq7e"
      }
    },
    {
      "cell_type": "code",
      "source": [
        "EPSILON_IOU = 1e-7\n",
        "\n",
        "class IoUMeter:\n",
        "  total_intersection_per_class:dict\n",
        "  total_union_per_class:dict\n",
        "\n",
        "  def __init__(self):\n",
        "    self.total_intersection_per_class = {cls: 0 for cls in CLASSES}\n",
        "    self.total_union_per_class = {cls: 0 for cls in CLASSES}\n",
        "  def zero(self):\n",
        "    self.total_intersection_per_class = {cls: 0 for cls in CLASSES}\n",
        "    self.total_union_per_class = {cls: 0 for cls in CLASSES}\n",
        "  def addCouple(self,predicted,labels):\n",
        "    for cls in CLASSES:\n",
        "      true_mask = (labels == cls)  # Crea una maschera booleana per la classe `cls` nel target\n",
        "      pred_mask = (predicted == cls)  # Crea una maschera booleana per la classe `cls` nelle predizioni\n",
        "\n",
        "      # Calcola l'intersezione e l'unione per quella classe\n",
        "      intersection = torch.logical_and(true_mask, pred_mask).sum().item()\n",
        "      union = torch.logical_or(true_mask, pred_mask).sum().item()\n",
        "\n",
        "      # Aggiungi i valori all'array totale di intersezione e unione per ogni classe\n",
        "      self.total_intersection_per_class[cls] += intersection\n",
        "      self.total_union_per_class[cls] += union\n",
        "  def getPerClass(self):\n",
        "    return { cls: self.total_intersection_per_class[cls] / (self.total_union_per_class[cls] + EPSILON_IOU) for cls in CLASSES }\n",
        "  def getTotal(self):\n",
        "    class_IoUs = self.getPerClass()\n",
        "    return sum(class_IoUs.values()) / NUM_CLASSES\n",
        "\n"
      ],
      "metadata": {
        "id": "U0XFATjCrC-0"
      },
      "execution_count": 14,
      "outputs": []
    },
    {
      "cell_type": "markdown",
      "source": [
        "now we define a plotter to shrink lines of code in loops:"
      ],
      "metadata": {
        "id": "zHXYJmvZws4a"
      }
    },
    {
      "cell_type": "code",
      "source": [
        "class StatPlotMode(Enum):\n",
        "  TRAINING = 0\n",
        "  VALIDATION = 1\n",
        "  TESTING = 2\n",
        "\n",
        "  def __str__(self):\n",
        "    return self.name\n",
        "\n",
        "def stat_plot(avg_loss,iou_meter:IoUMeter,*,mode:StatPlotMode,epoch=None):\n",
        "  mean_IoU = iou_meter.getTotal()\n",
        "  if mode==StatPlotMode.TRAINING:\n",
        "    print(Fore.GREEN + Style.NORMAL + 'TRAINING RESULTS (@epoch={}): mean Loss = {:.3f} | mean-IoU = {:.3f}'.format(epoch + 1, avg_loss, mean_IoU)+Style.RESET_ALL)\n",
        "  elif mode==StatPlotMode.VALIDATION:\n",
        "    print(Fore.BLACK + Back.YELLOW + Style.BRIGHT + 'VALIDATION RESULTS (@epoch={}): mean Loss = {:.3f} | mean-IoU = {:.3f}'.format(epoch+1, avg_loss, mean_IoU)+Style.RESET_ALL)\n",
        "  else:\n",
        "    print(Fore.BLACK + Back.GREEN + Style.BRIGHT + 'TEST RESULTS on VALIDATION SET: mean Loss = {:.3f} | mean-IoU = {:.3f}'.format(avg_loss, mean_IoU)+Style.RESET_ALL)\n",
        "\n",
        "  if mode != StatPlotMode.TRAINING:\n",
        "    # print IoU for each\n",
        "    print(Fore.CYAN + Style.NORMAL + \"Class-wise IoUs:\"+ Style.RESET_ALL)\n",
        "    class_IoUs = iou_meter.getPerClass()\n",
        "    for cls in CLASSES:\n",
        "        print(Fore.WHITE + Style.DIM + f\"Class {cls} ({COLOR_MAP[cls]}): IoU = {class_IoUs[cls]:.3f}\"+ Style.RESET_ALL)\n"
      ],
      "metadata": {
        "id": "VHaryQWxwyDQ"
      },
      "execution_count": 15,
      "outputs": []
    },
    {
      "cell_type": "markdown",
      "source": [
        "flops, parameters and latency are computed for a model using the function `analyze_model`"
      ],
      "metadata": {
        "id": "GnvvgQgYkX6K"
      }
    },
    {
      "cell_type": "code",
      "source": [
        "from fvcore.nn import FlopCountAnalysis, parameter_count\n",
        "\n",
        "import warnings\n",
        "from torch.backends import cudnn\n",
        "\n",
        "def analyze_model(model,*,iterations=100,batch_size=1):\n",
        "\n",
        "  warnings.filterwarnings('ignore')\n",
        "  cudnn.benchmark\n",
        "  CUDA_LAUNCH_BLOCKING=1\n",
        "\n",
        "  # Set the model to evaluation mode to avoid issues with batch normalization\n",
        "  model.eval()\n",
        "  model.training=False\n",
        "\n",
        "  # test images batch (zeroes)\n",
        "  height = 256\n",
        "  width = 256\n",
        "  image = torch.zeros((batch_size,3, height, width)).to(DEVICE)\n",
        "\n",
        "  flops = FlopCountAnalysis(model, image)\n",
        "  params = parameter_count(model)['']\n",
        "  print(f\"Model FLOPs: {flops.total()}\")\n",
        "  print(f\"Model Parameters: {params}\")\n",
        "\n",
        "  # latency compute\n",
        "  latency = list()\n",
        "  start_event = torch.cuda.Event(enable_timing=True)\n",
        "  end_event = torch.cuda.Event(enable_timing=True)\n",
        "  for _ in tqdm(range(iterations)):\n",
        "    start_event.record()  # Record start time on GPU\n",
        "    _ = model(image)      # Run inference\n",
        "    end_event.record()    # Record end time on GPU\n",
        "\n",
        "    # Wait for GPU synchronization to ensure accurate timing\n",
        "    torch.cuda.synchronize()\n",
        "\n",
        "    # Calculate time elapsed in milliseconds\n",
        "    latency.append(start_event.elapsed_time(end_event))\n",
        "  avg_latency = sum(latency) / len(latency)\n",
        "  print(f\"Average latency: {avg_latency:.2f} ms\")"
      ],
      "metadata": {
        "id": "Ii2UIGX2zlsi"
      },
      "execution_count": 16,
      "outputs": []
    },
    {
      "cell_type": "markdown",
      "source": [
        "the model weights can be saved and reloaded using the following functions:"
      ],
      "metadata": {
        "id": "yoaCT5cTkgLa"
      }
    },
    {
      "cell_type": "code",
      "source": [
        "def save_model_weights(model,save_path):\n",
        "  print(f\"Saving Model to {save_path}...\")\n",
        "  torch.save(model.state_dict(), save_path)\n",
        "  print(\"Done!\")\n",
        "\n",
        "def load_model_weights(model, weights_path):\n",
        "    if weights_path is None:\n",
        "        return model\n",
        "    weights_dict = torch.load(weights_path, map_location=torch.device(DEVICE))\n",
        "    if 'state_dict' in weights_dict:\n",
        "        weights_dict = weights_dict['state_dict']\n",
        "    model.load_state_dict(weights_dict, strict = False)\n",
        "    msg = 'Loaded {} parameters!'.format(len(weights_dict))\n",
        "    return model\n"
      ],
      "metadata": {
        "id": "YiUKhz3_klr5"
      },
      "execution_count": 17,
      "outputs": []
    },
    {
      "cell_type": "markdown",
      "source": [
        "## DeepLabv2 on LoveDA (Urban)"
      ],
      "metadata": {
        "id": "WtPDArP74Vie"
      }
    },
    {
      "cell_type": "code",
      "source": [
        "LR = 2e-4               # The initial Learning Rate\n",
        "MOMENTUM = 0.9          # Hyperparameter for SGD, keep this at 0.9 when using SGD\n",
        "WEIGHT_DECAY = 5e-4     # Regularization, you can keep this at the default\n",
        "NUM_EPOCHS = 20         # Total number of training epochs (iterations over dataset)\n",
        "STEP_SIZE = [10, 15]    # How many epochs before decreasing learning rate (if using a step-down policy)\n",
        "GAMMA = 0.1             # Multiplicative factor for learning rate step-down"
      ],
      "metadata": {
        "id": "MmsIRKlQ3x8C"
      },
      "execution_count": 18,
      "outputs": []
    },
    {
      "cell_type": "markdown",
      "source": [
        "Get DeepLabv2 model with pretrain weights:"
      ],
      "metadata": {
        "id": "PklC_MDk1z31"
      }
    },
    {
      "cell_type": "code",
      "source": [
        "from MLDL2024_project1.models.deeplabv2 import deeplabv2\n",
        "\n",
        "model = deeplabv2.get_deeplab_v2(num_classes=NUM_CLASSES,pretrain=True,pretrain_model_path=DEEPLABV2_PRETRAIN_WEIGHTS_PATH)\n",
        "model_name = \"deeplab_v2\"\n",
        "weights_path = DEEPLABV2_FINAL_WEIGHTS_PATH"
      ],
      "metadata": {
        "id": "CCfB1vwkWB7e",
        "outputId": "1fab3598-9232-4be8-c82c-a46a93047cea",
        "colab": {
          "base_uri": "https://localhost:8080/"
        }
      },
      "execution_count": 19,
      "outputs": [
        {
          "output_type": "stream",
          "name": "stdout",
          "text": [
            "Deeplab pretraining loading...\n"
          ]
        },
        {
          "output_type": "stream",
          "name": "stderr",
          "text": [
            "/content/MLDL2024_project1/models/deeplabv2/deeplabv2.py:180: FutureWarning: You are using `torch.load` with `weights_only=False` (the current default value), which uses the default pickle module implicitly. It is possible to construct malicious pickle data which will execute arbitrary code during unpickling (See https://github.com/pytorch/pytorch/blob/main/SECURITY.md#untrusted-models for more details). In a future release, the default value for `weights_only` will be flipped to `True`. This limits the functions that could be executed during unpickling. Arbitrary objects will no longer be allowed to be loaded via this mode unless they are explicitly allowlisted by the user via `torch.serialization.add_safe_globals`. We recommend you start setting `weights_only=True` for any use case where you don't have full control of the loaded file. Please open an issue on GitHub for any issues related to this experimental feature.\n",
            "  saved_state_dict = torch.load(pretrain_model_path)\n"
          ]
        }
      ]
    },
    {
      "cell_type": "markdown",
      "source": [
        "### Optimizer, Loss, ecc."
      ],
      "metadata": {
        "id": "eR_jhjxTcxB0"
      }
    },
    {
      "cell_type": "code",
      "source": [
        "# enable validation during training\n",
        "validate = True\n",
        "\n",
        "model = model.to(DEVICE) # switch to GPU\n",
        "\n",
        "# Loss (as said in DeepLabv2 docs)\n",
        "loss_fn = nn.CrossEntropyLoss(ignore_index=IGNORE_INDEX)\n",
        "\n",
        "# Opt\n",
        "trainable_params = [p for p in model.parameters() if p.requires_grad]\n",
        "optimizer_fn = optim.Adam(trainable_params, lr=LR, weight_decay=WEIGHT_DECAY, eps=1e-4)\n",
        "\n",
        "#Scheduler\n",
        "optim_scheduler = optim.lr_scheduler.MultiStepLR(optimizer_fn, milestones=STEP_SIZE, gamma=GAMMA)"
      ],
      "metadata": {
        "id": "gfXbShPFcwrE"
      },
      "execution_count": 20,
      "outputs": []
    },
    {
      "cell_type": "code",
      "source": [
        "logging.getLogger(\"fvcore.nn.jit_analysis\").setLevel(logging.ERROR)\n",
        "analyze_model(model,iterations=1000,batch_size=1)"
      ],
      "metadata": {
        "id": "665ln9zcv8fw",
        "outputId": "da05cf29-1f14-43b3-9948-b43fd0ec8f0c",
        "colab": {
          "base_uri": "https://localhost:8080/",
          "height": 101,
          "referenced_widgets": [
            "26b031a09126482faafde6c8165198a8",
            "c8e59485380e416a99bd74bda3174c3d",
            "35fc13ddd5c547e4be58979d35f326e5",
            "8ba0ebc2164443f8ae6f8cec4fd82d67",
            "79759651d02247e6b37bff916c0f9c2e",
            "e7abf282e24a4645931cd2043681425a",
            "8382faf62edf45d7883f09a6cf3a7189",
            "d109db54f71f467490a4ad2787736d1c",
            "3425df1c882e4e5faf4630002c534d74",
            "2c30c25839c845c6a9a659f55c963b89",
            "968d5f2a5b114d74807bf4aaae07cb0c"
          ]
        }
      },
      "execution_count": 21,
      "outputs": [
        {
          "output_type": "stream",
          "name": "stdout",
          "text": [
            "Model FLOPs: 47669164800\n",
            "Model Parameters: 43016284\n"
          ]
        },
        {
          "output_type": "display_data",
          "data": {
            "text/plain": [
              "  0%|          | 0/1000 [00:00<?, ?it/s]"
            ],
            "application/vnd.jupyter.widget-view+json": {
              "version_major": 2,
              "version_minor": 0,
              "model_id": "26b031a09126482faafde6c8165198a8"
            }
          },
          "metadata": {}
        },
        {
          "output_type": "stream",
          "name": "stdout",
          "text": [
            "Average latency: 38.17 ms\n"
          ]
        }
      ]
    },
    {
      "cell_type": "markdown",
      "source": [
        "### Training Loop"
      ],
      "metadata": {
        "id": "zrh_HJ0xbfTB"
      }
    },
    {
      "cell_type": "code",
      "source": [
        "import warnings\n",
        "from torch.backends import cudnn\n",
        "warnings.filterwarnings('ignore')\n",
        "\n",
        "train_iter = 0\n",
        "iterPerEpoch = len(urban_train_dataloader)\n",
        "\n",
        "cudnn.benchmark\n",
        "CUDA_LAUNCH_BLOCKING=1\n",
        "\n",
        "best_IoU = 0\n",
        "\n",
        "for epoch in range(NUM_EPOCHS):\n",
        "    model.train(True)\n",
        "    epoch_loss = 0\n",
        "\n",
        "    iou_meter = IoUMeter()\n",
        "\n",
        "    for i, (inputs, targets) in enumerate(urban_train_dataloader):\n",
        "\n",
        "        optimizer_fn.zero_grad()\n",
        "\n",
        "        # feeds in model\n",
        "        inputs = inputs.to(DEVICE)\n",
        "        labels = targets.long().to(device=DEVICE)\n",
        "        output_logits,_,_ = model(inputs)\n",
        "\n",
        "        # compute loss\n",
        "        loss = loss_fn(output_logits, labels)\n",
        "\n",
        "        # backward loss and optimizer step\n",
        "        loss.backward()\n",
        "        optimizer_fn.step()\n",
        "\n",
        "        #compute the training accuracy\n",
        "        _, predicted = torch.max(output_logits.data, 1)\n",
        "\n",
        "        iou_meter.addCouple(predicted,labels)\n",
        "\n",
        "        step_loss = loss.data.item()\n",
        "        epoch_loss += step_loss\n",
        "\n",
        "    # FINAL EPOCH-WISE COMPUTATIONS\n",
        "    avg_loss = epoch_loss/iterPerEpoch\n",
        "    stat_plot(avg_loss,iou_meter,mode=StatPlotMode.TRAINING,epoch=epoch)\n",
        "\n",
        "    if validate:\n",
        "        iterPerVal = len(urban_val_dataloader)\n",
        "        model.eval()\n",
        "        val_loss = 0\n",
        "        iou_meter = IoUMeter()\n",
        "        for j, (inputs, targets) in enumerate(urban_val_dataloader):\n",
        "\n",
        "            # feeds in model\n",
        "            inputs = inputs.to(DEVICE)\n",
        "            labels = targets.long().to(device=DEVICE)\n",
        "            output_logits = model(inputs)\n",
        "\n",
        "            # compute loss\n",
        "            loss = loss_fn(output_logits, labels)\n",
        "\n",
        "            # compute the training accuracy\n",
        "            _, predicted = torch.max(output_logits.data, 1)\n",
        "\n",
        "            iou_meter.addCouple(predicted,labels)\n",
        "\n",
        "            step_loss = loss.data.item()\n",
        "            val_loss += step_loss\n",
        "\n",
        "\n",
        "        # FINAL EPOCH-WISE COMPUTATIONS\n",
        "        mean_IoU = iou_meter.getTotal()\n",
        "        avg_loss = val_loss/iterPerVal\n",
        "\n",
        "        stat_plot(avg_loss,iou_meter,mode=StatPlotMode.VALIDATION,epoch=epoch)\n",
        "\n",
        "        if mean_IoU > best_IoU:\n",
        "            best_IoU = mean_IoU\n",
        "            save_model_weights(model,weights_path)\n",
        "        # END OF VALIDATION\n",
        "\n",
        "    optim_scheduler.step()\n"
      ],
      "metadata": {
        "id": "LclZQhQQVLt7"
      },
      "execution_count": null,
      "outputs": []
    },
    {
      "cell_type": "markdown",
      "source": [
        "### Testing\n",
        "Now we test using the val dataset:"
      ],
      "metadata": {
        "id": "8-rKPnqx-eRE"
      }
    },
    {
      "cell_type": "code",
      "source": [
        "model = load_model_weights(model,weights_path).to(DEVICE)\n",
        "model.eval()\n",
        "iterPerVal = len(urban_val_dataloader)\n",
        "val_loss = 0\n",
        "iou_meter = IoUMeter()\n",
        "for j, (inputs, targets) in enumerate(urban_val_dataloader):\n",
        "\n",
        "    # feeds in model\n",
        "    inputs = inputs.to(DEVICE)\n",
        "    labels = targets.long().to(device=DEVICE)\n",
        "    output_logits = model(inputs)\n",
        "\n",
        "    # compute loss\n",
        "    loss = loss_fn(output_logits, labels)\n",
        "\n",
        "    # compute the training accuracy\n",
        "    _, predicted = torch.max(output_logits.data, 1)\n",
        "\n",
        "    iou_meter.addCouple(predicted,labels)\n",
        "\n",
        "    step_loss = loss.data.item()\n",
        "    val_loss += step_loss\n",
        "\n",
        "\n",
        "# FINAL EPOCH-WISE COMPUTATIONS\n",
        "\n",
        "avg_loss = val_loss/iterPerVal\n",
        "stat_plot(avg_loss,iou_meter,mode=StatPlotMode.TESTING)"
      ],
      "metadata": {
        "id": "ETSXoJau-daA",
        "outputId": "4f9268ba-a06d-4aab-b45f-771c0d13fbf5",
        "colab": {
          "base_uri": "https://localhost:8080/"
        }
      },
      "execution_count": 22,
      "outputs": [
        {
          "output_type": "stream",
          "name": "stdout",
          "text": [
            "\u001b[30m\u001b[42m\u001b[1mTEST RESULTS on VALIDATION SET: mean Loss = 1.608 | mean-IoU = 0.384\u001b[0m\n",
            "\u001b[36m\u001b[22mClass-wise IoUs:\u001b[0m\n",
            "\u001b[37m\u001b[2mClass 0 (Background): IoU = 0.304\u001b[0m\n",
            "\u001b[37m\u001b[2mClass 1 (Building): IoU = 0.435\u001b[0m\n",
            "\u001b[37m\u001b[2mClass 2 (Road): IoU = 0.472\u001b[0m\n",
            "\u001b[37m\u001b[2mClass 3 (Water): IoU = 0.611\u001b[0m\n",
            "\u001b[37m\u001b[2mClass 4 (Barren): IoU = 0.195\u001b[0m\n",
            "\u001b[37m\u001b[2mClass 5 (Forest): IoU = 0.356\u001b[0m\n",
            "\u001b[37m\u001b[2mClass 6 (Agricultural): IoU = 0.317\u001b[0m\n"
          ]
        }
      ]
    },
    {
      "cell_type": "markdown",
      "source": [
        "## PIDNet & LoveDA"
      ],
      "metadata": {
        "id": "H39hIKUEQtV1"
      }
    },
    {
      "cell_type": "code",
      "source": [
        "from PIDNet.models.pidnet import PIDNet\n",
        "model = PIDNet(m=2, n=3, num_classes=NUM_CLASSES, planes=32, ppm_planes=96, head_planes=128, augment=True)\n",
        "model = load_model_weights(model,PIDNET_PRETRAIN_WEIGHTS_PATH)\n",
        "weights_path = PIDNET_FINAL_WEIGHTS_PATH"
      ],
      "metadata": {
        "id": "-jN8CpnfQwEb"
      },
      "execution_count": 23,
      "outputs": []
    },
    {
      "cell_type": "markdown",
      "source": [
        "### Optimizer, Loss, ecc."
      ],
      "metadata": {
        "id": "I3e3LLqV2Dpg"
      }
    },
    {
      "cell_type": "code",
      "source": [
        "LR = 2e-4               # The initial Learning Rate\n",
        "MOMENTUM = 0.9          # Hyperparameter for SGD, keep this at 0.9 when using SGD\n",
        "WEIGHT_DECAY = 5e-4     # Regularization, you can keep this at the default\n",
        "NUM_EPOCHS = 20         # Total number of training epochs (iterations over dataset)\n",
        "STEP_SIZE = [10, 15]    # How many epochs before decreasing learning rate (if using a step-down policy)\n",
        "GAMMA = 0.1             # Multiplicative factor for learning rate step-down"
      ],
      "metadata": {
        "id": "bIgMPvc7y1C5"
      },
      "execution_count": 24,
      "outputs": []
    },
    {
      "cell_type": "code",
      "source": [
        "# enable validation during training\n",
        "validate = True\n",
        "\n",
        "model.train()\n",
        "model = model.to(DEVICE) # switch to GPU\n",
        "\n",
        "# loss functions\n",
        "sem_criterion = nn.CrossEntropyLoss(ignore_index=IGNORE_INDEX)\n",
        "\n",
        "#Opt\n",
        "trainable_params = [p for p in model.parameters() if p.requires_grad]\n",
        "optimizer_fn = optim.Adam(trainable_params, lr=LR, weight_decay=WEIGHT_DECAY, eps=1e-4)\n",
        "\n",
        "#Scheduler\n",
        "optim_scheduler = optim.lr_scheduler.MultiStepLR(optimizer_fn, milestones=STEP_SIZE, gamma=GAMMA)\n"
      ],
      "metadata": {
        "id": "6jftNKn4VtYB"
      },
      "execution_count": 25,
      "outputs": []
    },
    {
      "cell_type": "code",
      "source": [
        "analyze_model(model,iterations=1000,batch_size=1)"
      ],
      "metadata": {
        "id": "0a-vTypE5cEY",
        "outputId": "10537a62-a667-4bde-b1a5-583f8109823d",
        "colab": {
          "base_uri": "https://localhost:8080/",
          "height": 101,
          "referenced_widgets": [
            "7232e3a9a9a84879b10d98f43052fbcb",
            "b0fa0f997c68426fbb1f3ee999cdd30a",
            "7d205ccd861244a1b817346deec1f688",
            "7bf36d952e284f788d69e2da7718dfd9",
            "bbc2789398514ce992a1eaf9cfaa0404",
            "be6d0843644c41bd89550d92bb702b72",
            "590c1e90494c40efbaf665e88320d1b4",
            "4e907c2971564a32a3f4fae9ee4bfcb3",
            "6c4656607c8540f4bab71e61e783451d",
            "dabe642976214dea9a4d75d159e711b6",
            "07c5b6c4924b47318559e32f97cac4f4"
          ]
        }
      },
      "execution_count": 26,
      "outputs": [
        {
          "output_type": "stream",
          "name": "stdout",
          "text": [
            "Model FLOPs: 1579333632\n",
            "Model Parameters: 7717839\n"
          ]
        },
        {
          "output_type": "display_data",
          "data": {
            "text/plain": [
              "  0%|          | 0/1000 [00:00<?, ?it/s]"
            ],
            "application/vnd.jupyter.widget-view+json": {
              "version_major": 2,
              "version_minor": 0,
              "model_id": "7232e3a9a9a84879b10d98f43052fbcb"
            }
          },
          "metadata": {}
        },
        {
          "output_type": "stream",
          "name": "stdout",
          "text": [
            "Average latency: 27.48 ms\n"
          ]
        }
      ]
    },
    {
      "cell_type": "markdown",
      "source": [
        "### Training loop"
      ],
      "metadata": {
        "id": "SCxkIDal2MeM"
      }
    },
    {
      "cell_type": "code",
      "source": [
        "import warnings\n",
        "\n",
        "from torch.backends import cudnn\n",
        "warnings.filterwarnings('ignore')\n",
        "\n",
        "iterPerEpoch = len(urban_train_dataloader)\n",
        "\n",
        "cudnn.benchmark\n",
        "CUDA_LAUNCH_BLOCKING=1\n",
        "\n",
        "best_IoU = 0\n",
        "\n",
        "for epoch in range(NUM_EPOCHS):\n",
        "    model.train()\n",
        "    epoch_loss = 0\n",
        "    iou_meter = IoUMeter()\n",
        "\n",
        "    for i, (inputs, targets) in enumerate(urban_train_dataloader):\n",
        "        optimizer_fn.zero_grad()\n",
        "\n",
        "        # send inputs to gpu\n",
        "        inputs = inputs.to(DEVICE)\n",
        "        labels = targets.long().to(device=DEVICE)\n",
        "\n",
        "        # feeds in the model\n",
        "        output_logits,_,_ = model(inputs)\n",
        "\n",
        "        h, w = labels.size(1), labels.size(2)\n",
        "        ph, pw = output_logits.size(2), output_logits.size(3)\n",
        "        if ph != h or pw != w:\n",
        "          output_logits = F.interpolate(output_logits, size=(h, w), mode='bilinear', align_corners=True)\n",
        "\n",
        "\n",
        "        # compute loss\n",
        "        loss = sem_criterion(output_logits, labels)\n",
        "        \"\"\"\n",
        "        filler = torch.ones_like(labels) * config.TRAIN.IGNORE_LABEL\n",
        "        bd_label = torch.where(F.sigmoid(outputs[-1][:,0,:,:])>0.8, labels, filler)\n",
        "        loss_sb = self.sem_loss(outputs[-2], bd_label)\n",
        "        loss += loss_sb\n",
        "        \"\"\"\n",
        "\n",
        "        # backward loss and optimizer step\n",
        "        loss.backward()\n",
        "        optimizer_fn.step()\n",
        "\n",
        "        #compute the training accuracy\n",
        "        _, predicted = torch.max(output_logits.data, 1)\n",
        "\n",
        "        iou_meter.addCouple(predicted,labels)\n",
        "\n",
        "        step_loss = loss.data.item()\n",
        "        epoch_loss += step_loss\n",
        "\n",
        "    # FINAL EPOCH-WISE COMPUTATIONS\n",
        "    avg_loss = epoch_loss/iterPerEpoch\n",
        "    stat_plot(avg_loss,iou_meter,mode=StatPlotMode.TRAINING,epoch=epoch)\n",
        "\n",
        "    if validate:\n",
        "        model.eval()\n",
        "        val_loss = 0\n",
        "        iterPerVal = len(urban_val_dataloader)\n",
        "        iou_meter = IoUMeter()\n",
        "        for j, (inputs, targets) in enumerate(urban_val_dataloader):\n",
        "\n",
        "            # feeds in model\n",
        "            inputs = inputs.to(DEVICE)\n",
        "            labels = targets.long().to(device=DEVICE)\n",
        "            output_logits,_,_ = model(inputs)\n",
        "            output_logits = F.interpolate(output_logits, size=labels.shape[1:], mode='bilinear', align_corners=True)\n",
        "\n",
        "            # compute loss\n",
        "            loss = sem_criterion(output_logits, labels)\n",
        "\n",
        "            # compute the training accuracy\n",
        "            _, predicted = torch.max(output_logits.data, 1)\n",
        "\n",
        "            iou_meter.addCouple(predicted,labels)\n",
        "\n",
        "            step_loss = loss.data.item()\n",
        "            val_loss += step_loss\n",
        "\n",
        "\n",
        "        # FINAL EPOCH-WISE COMPUTATIONS\n",
        "        avg_loss = val_loss/iterPerVal\n",
        "        mean_IoU = iou_meter.getTotal()\n",
        "\n",
        "        stat_plot(avg_loss,iou_meter,mode=StatPlotMode.VALIDATION,epoch=epoch)\n",
        "\n",
        "        if mean_IoU > best_IoU:\n",
        "            best_IoU = mean_IoU\n",
        "            save_model_weights(model,weights_path)\n",
        "        # END OF VALIDATION\n",
        "\n",
        "    optim_scheduler.step()"
      ],
      "metadata": {
        "id": "s1ajoePG2LVg"
      },
      "execution_count": null,
      "outputs": []
    },
    {
      "cell_type": "markdown",
      "source": [
        "### Testing\n",
        "\n",
        "Now we test using the val dataset:"
      ],
      "metadata": {
        "id": "B6NHXn1qwzSF"
      }
    },
    {
      "cell_type": "code",
      "source": [
        "model = load_model_weights(model,weights_path).to(DEVICE)\n",
        "model.eval()\n",
        "val_loss = 0\n",
        "iterPerVal = len(urban_val_dataloader)\n",
        "iou_meter = IoUMeter()\n",
        "\n",
        "for j, (inputs, targets) in enumerate(urban_val_dataloader):\n",
        "\n",
        "      # feeds in model\n",
        "      inputs = inputs.to(DEVICE)\n",
        "      labels = targets.long().to(device=DEVICE)\n",
        "      output_logits,_,_ = model(inputs)\n",
        "      output_logits = F.interpolate(output_logits, size=labels.shape[1:], mode='bilinear', align_corners=True)\n",
        "\n",
        "      # compute loss\n",
        "      loss = sem_criterion(output_logits, labels)\n",
        "\n",
        "      # compute the training accuracy\n",
        "      _, predicted = torch.max(output_logits.data, 1)\n",
        "\n",
        "      iou_meter.addCouple(predicted,labels)\n",
        "\n",
        "      step_loss = loss.data.item()\n",
        "      val_loss += step_loss\n",
        "\n",
        "\n",
        "# FINAL EPOCH-WISE COMPUTATIONS\n",
        "avg_loss = val_loss/iterPerVal\n",
        "stat_plot(avg_loss,iou_meter,mode=StatPlotMode.TESTING)\n"
      ],
      "metadata": {
        "id": "kSaVi7ZSLfr8",
        "outputId": "279d48fa-3582-4d35-d1d7-09b0899a425b",
        "colab": {
          "base_uri": "https://localhost:8080/"
        }
      },
      "execution_count": 27,
      "outputs": [
        {
          "output_type": "stream",
          "name": "stdout",
          "text": [
            "\u001b[30m\u001b[42m\u001b[1mTEST RESULTS on VALIDATION SET: mean Loss = 1.540 | mean-IoU = 0.343\u001b[0m\n",
            "\u001b[36m\u001b[22mClass-wise IoUs:\u001b[0m\n",
            "\u001b[37m\u001b[2mClass 0 (Background): IoU = 0.322\u001b[0m\n",
            "\u001b[37m\u001b[2mClass 1 (Building): IoU = 0.405\u001b[0m\n",
            "\u001b[37m\u001b[2mClass 2 (Road): IoU = 0.370\u001b[0m\n",
            "\u001b[37m\u001b[2mClass 3 (Water): IoU = 0.520\u001b[0m\n",
            "\u001b[37m\u001b[2mClass 4 (Barren): IoU = 0.206\u001b[0m\n",
            "\u001b[37m\u001b[2mClass 5 (Forest): IoU = 0.340\u001b[0m\n",
            "\u001b[37m\u001b[2mClass 6 (Agricultural): IoU = 0.239\u001b[0m\n"
          ]
        }
      ]
    },
    {
      "cell_type": "markdown",
      "source": [
        "## Domain Shift"
      ],
      "metadata": {
        "id": "A0Q-Qs-suayQ"
      }
    },
    {
      "cell_type": "markdown",
      "source": [
        "Add dataset and loaders for rural images:"
      ],
      "metadata": {
        "id": "MHvsRn238CvH"
      }
    },
    {
      "cell_type": "code",
      "source": [
        "# Rural Datasets (train, val, test)\n",
        "rural_val = LoveDA(VAL_PATH, DataType.RURAL, transforms=test_transform)\n",
        "\n",
        "# Rural Dataloaders (train, val, test)\n",
        "NUM_WORKERS = 2 if DBG else 4\n",
        "rural_val_dataloader = DataLoader(rural_val, shuffle=False, num_workers=NUM_WORKERS, drop_last=False)\n",
        "weights_path = PIDNET_FINAL_WEIGHTS_PATH"
      ],
      "metadata": {
        "id": "R9W0ouY48CUn"
      },
      "execution_count": 28,
      "outputs": []
    },
    {
      "cell_type": "markdown",
      "source": [
        "first let's test with domain shift:"
      ],
      "metadata": {
        "id": "ulpXoE9TL5NT"
      }
    },
    {
      "cell_type": "code",
      "source": [
        "model = load_model_weights(model,weights_path).to(DEVICE)\n",
        "model.eval()\n",
        "val_loss = 0\n",
        "iterPerVal = len(rural_val_dataloader)\n",
        "iou_meter = IoUMeter()\n",
        "for j, (inputs, targets) in enumerate(rural_val_dataloader):\n",
        "\n",
        "      # feeds in model\n",
        "      inputs = inputs.to(DEVICE)\n",
        "      labels = targets.long().to(device=DEVICE)\n",
        "      output_logits,_,_ = model(inputs)\n",
        "      output_logits = F.interpolate(output_logits, size=labels.shape[1:], mode='bilinear', align_corners=True)\n",
        "\n",
        "      # compute loss\n",
        "      loss = sem_criterion(output_logits, labels)\n",
        "\n",
        "      # compute the training accuracy\n",
        "      _, predicted = torch.max(output_logits.data, 1)\n",
        "\n",
        "      iou_meter.addCouple(predicted,labels)\n",
        "\n",
        "      step_loss = loss.data.item()\n",
        "      val_loss += step_loss\n",
        "\n",
        "# FINAL EPOCH-WISE COMPUTATIONS\n",
        "avg_loss = val_loss/iterPerVal\n",
        "stat_plot(avg_loss,iou_meter,mode=StatPlotMode.TESTING)"
      ],
      "metadata": {
        "id": "87-ZnmV2LreC",
        "colab": {
          "base_uri": "https://localhost:8080/"
        },
        "outputId": "79fb460f-660d-4cca-e259-62e12509e956"
      },
      "execution_count": 29,
      "outputs": [
        {
          "output_type": "stream",
          "name": "stdout",
          "text": [
            "\u001b[30m\u001b[42m\u001b[1mTEST RESULTS on VALIDATION SET: mean Loss = 1.806 | mean-IoU = 0.267\u001b[0m\n",
            "\u001b[36m\u001b[22mClass-wise IoUs:\u001b[0m\n",
            "\u001b[37m\u001b[2mClass 0 (Background): IoU = 0.468\u001b[0m\n",
            "\u001b[37m\u001b[2mClass 1 (Building): IoU = 0.283\u001b[0m\n",
            "\u001b[37m\u001b[2mClass 2 (Road): IoU = 0.209\u001b[0m\n",
            "\u001b[37m\u001b[2mClass 3 (Water): IoU = 0.352\u001b[0m\n",
            "\u001b[37m\u001b[2mClass 4 (Barren): IoU = 0.082\u001b[0m\n",
            "\u001b[37m\u001b[2mClass 5 (Forest): IoU = 0.139\u001b[0m\n",
            "\u001b[37m\u001b[2mClass 6 (Agricultural): IoU = 0.333\u001b[0m\n"
          ]
        }
      ]
    },
    {
      "cell_type": "markdown",
      "source": [
        "### Augment\n",
        "Now let's try adding some data augmentation techniques:"
      ],
      "metadata": {
        "id": "ZcVvXHJxxLhI"
      }
    },
    {
      "cell_type": "code",
      "source": [
        "rural_val = LoveDA(VAL_PATH, DataType.RURAL, transforms=test_transform)\n",
        "rural_val_dataloader = DataLoader(rural_val, shuffle=False, num_workers=NUM_WORKERS, drop_last=False)\n",
        "NUM_WORKERS = 2 if DBG else 4"
      ],
      "metadata": {
        "id": "GZNAMEjCQDj7"
      },
      "execution_count": 30,
      "outputs": []
    },
    {
      "cell_type": "code",
      "source": [
        "aug1 = ALB.Compose([\n",
        "          ALB.HorizontalFlip(),\n",
        "          ALB.RandomRotate90(),\n",
        "          ALB.ColorJitter()\n",
        "          ],p= 0.5)\n",
        "aug2 = ALB.Compose([\n",
        "          ALB.RandomBrightnessContrast(),\n",
        "          ALB.RandomGamma(),\n",
        "          ALB.GaussianBlur(),\n",
        "          ],p= 0.5)\n",
        "aug3 = ALB.Compose([\n",
        "          ALB.HorizontalFlip(),\n",
        "          ALB.RandomRotate90(),\n",
        "          ALB.ColorJitter(),\n",
        "          ALB.RandomBrightnessContrast(),\n",
        "          ALB.RandomGamma(),\n",
        "          ALB.GaussianBlur(),\n",
        "          ],p= 0.5)\n",
        "\n",
        "augmentations = [aug1,aug2,aug3]\n",
        "\n",
        "\n",
        "# WE DEFINE A LIST OF DIFFERENT AUGMENTATION CHAINS FOR DIFFERENT RUNS\n",
        "train_transform_augmentations = [\n",
        "  ALB.Compose([\n",
        "      ALB.Resize(256,256),\n",
        "      aug_i,\n",
        "      ALB.Normalize(mean=IMAGENET_MEAN, std=IMAGENET_STDDEV),\n",
        "      ToTensorV2()\n",
        "  ])\n",
        "  for aug_i in augmentations\n",
        "]\n",
        "\n",
        "NUM_AUGMENTATIONS = len(augmentations) # we are performing 3 augmentations"
      ],
      "metadata": {
        "id": "3nDPyzpqDbeY"
      },
      "execution_count": 31,
      "outputs": []
    },
    {
      "cell_type": "markdown",
      "source": [
        "Now we define which augmentation to appy in train/testing:"
      ],
      "metadata": {
        "id": "BPx8My2AQqRy"
      }
    },
    {
      "cell_type": "code",
      "source": [
        "TRAIN_INDEXES = {}\n",
        "gdown_links = [\"https://drive.google.com/uc?id=1FyNDjz0YvxnWvy63Aff4MpxEuanQaKP9\",\"https://drive.google.com/uc?id=1rTDn1dJm1_HzbwlVZL4bSwpxpCpGxzOb\",\"https://drive.google.com/uc?id=1zU7CIOfOj0mKFA-EqN6VGDCWtcK9GmAd\"]\n",
        "weights_paths = [MODELS_FOLDER + f\"/pidnet_augmented_v{i+1}.pth\" for i in range(NUM_AUGMENTATIONS)]\n",
        "\n",
        "for i in range(NUM_AUGMENTATIONS):\n",
        "  if i not in TRAIN_INDEXES:\n",
        "    gdown.download(gdown_links[i], weights_paths[i], quiet=False)\n"
      ],
      "metadata": {
        "id": "mJk2BXawQymu",
        "outputId": "e8272039-c765-4648-e93f-80e2f5988a8e",
        "colab": {
          "base_uri": "https://localhost:8080/"
        }
      },
      "execution_count": 32,
      "outputs": [
        {
          "output_type": "stream",
          "name": "stderr",
          "text": [
            "Downloading...\n",
            "From (original): https://drive.google.com/uc?id=1FyNDjz0YvxnWvy63Aff4MpxEuanQaKP9\n",
            "From (redirected): https://drive.google.com/uc?id=1FyNDjz0YvxnWvy63Aff4MpxEuanQaKP9&confirm=t&uuid=f51373aa-529a-4e43-a6d1-f55b120fc8a1\n",
            "To: /content/saved_models/pidnet_augmented_v1.pth\n",
            "100%|██████████| 31.1M/31.1M [00:00<00:00, 38.7MB/s]\n",
            "Downloading...\n",
            "From (original): https://drive.google.com/uc?id=1rTDn1dJm1_HzbwlVZL4bSwpxpCpGxzOb\n",
            "From (redirected): https://drive.google.com/uc?id=1rTDn1dJm1_HzbwlVZL4bSwpxpCpGxzOb&confirm=t&uuid=84653f8c-3c4f-4791-b7ac-1d54460c39e0\n",
            "To: /content/saved_models/pidnet_augmented_v2.pth\n",
            "100%|██████████| 31.1M/31.1M [00:01<00:00, 25.2MB/s]\n",
            "Downloading...\n",
            "From (original): https://drive.google.com/uc?id=1zU7CIOfOj0mKFA-EqN6VGDCWtcK9GmAd\n",
            "From (redirected): https://drive.google.com/uc?id=1zU7CIOfOj0mKFA-EqN6VGDCWtcK9GmAd&confirm=t&uuid=40b0aa2c-5171-4b71-95c3-b97a6dd1e227\n",
            "To: /content/saved_models/pidnet_augmented_v3.pth\n",
            "100%|██████████| 31.1M/31.1M [00:00<00:00, 42.8MB/s]\n"
          ]
        }
      ]
    },
    {
      "cell_type": "code",
      "source": [
        "import warnings\n",
        "from torch.backends import cudnn\n",
        "\n",
        "# enable validation during training\n",
        "validate = True\n",
        "\n",
        "for k, trf in enumerate(train_transform_augmentations):\n",
        "    weights_path = weights_paths[k]\n",
        "\n",
        "    if k in TRAIN_INDEXES:\n",
        "\n",
        "        model = load_model_weights(model,PIDNET_PRETRAIN_WEIGHTS_PATH).to(DEVICE)\n",
        "\n",
        "        urban_train_augmented = LoveDA(TRAIN_PATH, DataType.URBAN, transforms=trf) # change transformation in each run\n",
        "        urban_train_dataloader_augmented = DataLoader(urban_train_augmented, batch_size=BATCH_SIZE, shuffle=True, num_workers=NUM_WORKERS, drop_last=True)\n",
        "\n",
        "        model.train()\n",
        "        model = model.to(DEVICE) # switch to GPU\n",
        "\n",
        "        optimizer_fn = optim.Adam(trainable_params, lr=LR, weight_decay=WEIGHT_DECAY, eps=1e-4)\n",
        "        optim_scheduler = optim.lr_scheduler.MultiStepLR(optimizer_fn, milestones=STEP_SIZE, gamma=GAMMA)\n",
        "\n",
        "        iterPerEpoch = len(urban_train_dataloader_augmented)\n",
        "\n",
        "        warnings.filterwarnings('ignore')\n",
        "        cudnn.benchmark\n",
        "        CUDA_LAUNCH_BLOCKING=1\n",
        "\n",
        "        best_IoU = 0\n",
        "\n",
        "        print(Fore.BLACK+Back.RED+Style.BRIGHT+f\"Training PIDNet with LoveDA-URBAN with augmentation v{k+1}\"+Style.RESET_ALL)\n",
        "\n",
        "        for epoch in range(NUM_EPOCHS):\n",
        "            model.train()\n",
        "            epoch_loss = 0\n",
        "            iou_meter = IoUMeter()\n",
        "\n",
        "            for i, (inputs, targets) in enumerate(urban_train_dataloader_augmented):\n",
        "                optimizer_fn.zero_grad()\n",
        "\n",
        "                # send inputs to gpu\n",
        "                inputs = inputs.to(DEVICE)\n",
        "                labels = targets.long().to(device=DEVICE)\n",
        "\n",
        "                # feeds in the model\n",
        "                output_logits,_,_ = model(inputs)\n",
        "\n",
        "                h, w = labels.size(1), labels.size(2)\n",
        "                ph, pw = output_logits.size(2), output_logits.size(3)\n",
        "                if ph != h or pw != w:\n",
        "                  output_logits = F.interpolate(output_logits, size=(h, w), mode='bilinear', align_corners=True)\n",
        "\n",
        "\n",
        "                # compute loss\n",
        "                loss = sem_criterion(output_logits, labels)\n",
        "                \"\"\"\n",
        "                filler = torch.ones_like(labels) * config.TRAIN.IGNORE_LABEL\n",
        "                bd_label = torch.where(F.sigmoid(outputs[-1][:,0,:,:])>0.8, labels, filler)\n",
        "                loss_sb = self.sem_loss(outputs[-2], bd_label)\n",
        "                loss += loss_sb\n",
        "                \"\"\"\n",
        "\n",
        "                # backward loss and optimizer step\n",
        "                loss.backward()\n",
        "                optimizer_fn.step()\n",
        "\n",
        "                #compute the training accuracy\n",
        "                _, predicted = torch.max(output_logits.data, 1)\n",
        "\n",
        "                iou_meter.addCouple(predicted,labels)\n",
        "\n",
        "                step_loss = loss.data.item()\n",
        "                epoch_loss += step_loss\n",
        "\n",
        "            # FINAL EPOCH-WISE COMPUTATIONS\n",
        "            avg_loss = epoch_loss/iterPerEpoch\n",
        "            stat_plot(avg_loss,iou_meter,mode=StatPlotMode.TRAINING,epoch=epoch)\n",
        "\n",
        "            if validate:\n",
        "                model.eval()\n",
        "                val_loss = 0\n",
        "                iterPerVal = len(rural_val_dataloader)\n",
        "                iou_meter = IoUMeter()\n",
        "                for j, (inputs, targets) in enumerate(rural_val_dataloader):\n",
        "\n",
        "                    # feeds in model\n",
        "                    inputs = inputs.to(DEVICE)\n",
        "                    labels = targets.long().to(device=DEVICE)\n",
        "                    output_logits,_,_ = model(inputs)\n",
        "                    output_logits = F.interpolate(output_logits, size=labels.shape[1:], mode='bilinear', align_corners=True)\n",
        "\n",
        "                    # compute loss\n",
        "                    loss = sem_criterion(output_logits, labels)\n",
        "\n",
        "                    # compute the training accuracy\n",
        "                    _, predicted = torch.max(output_logits.data, 1)\n",
        "\n",
        "                    iou_meter.addCouple(predicted,labels)\n",
        "\n",
        "                    step_loss = loss.data.item()\n",
        "                    val_loss += step_loss\n",
        "\n",
        "                # FINAL EPOCH-WISE COMPUTATIONS\n",
        "                avg_loss = val_loss/iterPerVal\n",
        "                mean_IoU = iou_meter.getTotal()\n",
        "                stat_plot(avg_loss,iou_meter,mode=StatPlotMode.VALIDATION,epoch=epoch)\n",
        "\n",
        "                if mean_IoU > best_IoU:\n",
        "                    best_IoU = mean_IoU\n",
        "                    save_model_weights(model,weights_path)\n",
        "                # END OF VALIDATION\n",
        "\n",
        "        optim_scheduler.step()\n",
        "    # END OF TRAINING\n",
        "\n",
        "    # TESTING ON BEST WEIGHTS\n",
        "    print(Fore.BLACK+Back.CYAN+Style.BRIGHT+f\"Testing PIDNet with LoveDA-URBAN with augmentation v{k+1}\"+Style.RESET_ALL)\n",
        "    model = load_model_weights(model,weights_path).to(DEVICE)\n",
        "    model.eval()\n",
        "    val_loss = 0\n",
        "    iterPerVal = len(rural_val_dataloader)\n",
        "    iou_meter = IoUMeter()\n",
        "    for j, (inputs, targets) in enumerate(rural_val_dataloader):\n",
        "\n",
        "        # feeds in model\n",
        "        inputs = inputs.to(DEVICE)\n",
        "        labels = targets.long().to(device=DEVICE)\n",
        "        output_logits,_,_ = model(inputs)\n",
        "        output_logits = F.interpolate(output_logits, size=labels.shape[1:], mode='bilinear', align_corners=True)\n",
        "\n",
        "        # compute loss\n",
        "        loss = sem_criterion(output_logits, labels)\n",
        "\n",
        "        # compute the training accuracy\n",
        "        _, predicted = torch.max(output_logits.data, 1)\n",
        "\n",
        "        iou_meter.addCouple(predicted,labels)\n",
        "\n",
        "        step_loss = loss.data.item()\n",
        "        val_loss += step_loss\n",
        "\n",
        "\n",
        "    # FINAL EPOCH-WISE COMPUTATIONS\n",
        "    avg_loss = val_loss/iterPerVal\n",
        "    stat_plot(avg_loss,iou_meter,mode=StatPlotMode.TESTING)\n",
        "    # END OF TESTING\n",
        "\n"
      ],
      "metadata": {
        "id": "2R68XzmhDoQE",
        "outputId": "d8695540-526d-4ce3-f65e-5d935c3d4ab4",
        "colab": {
          "base_uri": "https://localhost:8080/"
        }
      },
      "execution_count": 33,
      "outputs": [
        {
          "output_type": "stream",
          "name": "stdout",
          "text": [
            "\u001b[30m\u001b[46m\u001b[1mTesting PIDNet with LoveDA-URBAN with augmentation v1\u001b[0m\n",
            "\u001b[30m\u001b[42m\u001b[1mTEST RESULTS on VALIDATION SET: mean Loss = 1.570 | mean-IoU = 0.301\u001b[0m\n",
            "\u001b[36m\u001b[22mClass-wise IoUs:\u001b[0m\n",
            "\u001b[37m\u001b[2mClass 0 (Background): IoU = 0.513\u001b[0m\n",
            "\u001b[37m\u001b[2mClass 1 (Building): IoU = 0.312\u001b[0m\n",
            "\u001b[37m\u001b[2mClass 2 (Road): IoU = 0.220\u001b[0m\n",
            "\u001b[37m\u001b[2mClass 3 (Water): IoU = 0.408\u001b[0m\n",
            "\u001b[37m\u001b[2mClass 4 (Barren): IoU = 0.106\u001b[0m\n",
            "\u001b[37m\u001b[2mClass 5 (Forest): IoU = 0.198\u001b[0m\n",
            "\u001b[37m\u001b[2mClass 6 (Agricultural): IoU = 0.346\u001b[0m\n",
            "\u001b[30m\u001b[46m\u001b[1mTesting PIDNet with LoveDA-URBAN with augmentation v2\u001b[0m\n",
            "\u001b[30m\u001b[42m\u001b[1mTEST RESULTS on VALIDATION SET: mean Loss = 1.922 | mean-IoU = 0.253\u001b[0m\n",
            "\u001b[36m\u001b[22mClass-wise IoUs:\u001b[0m\n",
            "\u001b[37m\u001b[2mClass 0 (Background): IoU = 0.460\u001b[0m\n",
            "\u001b[37m\u001b[2mClass 1 (Building): IoU = 0.319\u001b[0m\n",
            "\u001b[37m\u001b[2mClass 2 (Road): IoU = 0.233\u001b[0m\n",
            "\u001b[37m\u001b[2mClass 3 (Water): IoU = 0.312\u001b[0m\n",
            "\u001b[37m\u001b[2mClass 4 (Barren): IoU = 0.083\u001b[0m\n",
            "\u001b[37m\u001b[2mClass 5 (Forest): IoU = 0.085\u001b[0m\n",
            "\u001b[37m\u001b[2mClass 6 (Agricultural): IoU = 0.281\u001b[0m\n",
            "\u001b[30m\u001b[46m\u001b[1mTesting PIDNet with LoveDA-URBAN with augmentation v3\u001b[0m\n",
            "\u001b[30m\u001b[42m\u001b[1mTEST RESULTS on VALIDATION SET: mean Loss = 1.445 | mean-IoU = 0.279\u001b[0m\n",
            "\u001b[36m\u001b[22mClass-wise IoUs:\u001b[0m\n",
            "\u001b[37m\u001b[2mClass 0 (Background): IoU = 0.471\u001b[0m\n",
            "\u001b[37m\u001b[2mClass 1 (Building): IoU = 0.347\u001b[0m\n",
            "\u001b[37m\u001b[2mClass 2 (Road): IoU = 0.216\u001b[0m\n",
            "\u001b[37m\u001b[2mClass 3 (Water): IoU = 0.432\u001b[0m\n",
            "\u001b[37m\u001b[2mClass 4 (Barren): IoU = 0.063\u001b[0m\n",
            "\u001b[37m\u001b[2mClass 5 (Forest): IoU = 0.112\u001b[0m\n",
            "\u001b[37m\u001b[2mClass 6 (Agricultural): IoU = 0.312\u001b[0m\n"
          ]
        }
      ]
    },
    {
      "cell_type": "markdown",
      "source": [
        "## Domain Adaptation techniques\n",
        "....."
      ],
      "metadata": {
        "id": "9jPbEbr4XlZr"
      }
    },
    {
      "cell_type": "markdown",
      "source": [
        "\n",
        "\n",
        "\n",
        "### DACS: Domain Adaptation via Cross-domain mixed Sampling\n",
        "Now we try to implement another **UDA** technique that is based on mixing samples from the two domains."
      ],
      "metadata": {
        "id": "_eqi77ree8oQ"
      }
    },
    {
      "cell_type": "code",
      "source": [
        "half_classes_num,m = divmod(NUM_CLASSES,2)\n",
        "half_classes_num += m*np.random.randint(0,2) # in case NUM_CLASSES IS ODD\n",
        "\n",
        "def DACS_mix_batch(source_batch,source_labels,target_batch,target_pseudo_labels):\n",
        "  # initialize the mixed items with a clone of the target\n",
        "  dacs_batch = target_batch.clone()\n",
        "  dacs_labels = target_pseudo_labels.clone()\n",
        "\n",
        "  # create a mask with half of the classes from source\n",
        "  mask_classes = torch.from_numpy(np.random.choice(NUM_CLASSES, half_classes_num, replace=False)).to(DEVICE) # select a subset of classes\n",
        "  labels_mask = torch.isin(source_labels,mask_classes) # create a mask with them\n",
        "  batch_mask = labels_mask.unsqueeze(1).repeat(1,3,1,1) # same mask for all 3 rgb channels\n",
        "\n",
        "  # replaces in target parts of the mask with the source\n",
        "  dacs_batch[batch_mask] = source_batch[batch_mask]\n",
        "  dacs_labels[labels_mask] = source_labels[labels_mask]\n",
        "  return dacs_batch, dacs_labels"
      ],
      "metadata": {
        "id": "pcN6yUDwsS9l"
      },
      "execution_count": 73,
      "outputs": []
    },
    {
      "cell_type": "code",
      "source": [
        "BEST_TRF_INDEX = 0\n",
        "best_trf = train_transform_augmentations[BEST_TRF_INDEX]"
      ],
      "metadata": {
        "id": "gEJBNAafmJdt"
      },
      "execution_count": 74,
      "outputs": []
    },
    {
      "cell_type": "code",
      "source": [
        "NUM_WORKERS = 2 if DBG else 4\n",
        "\n",
        "# Train Datasets (urban and DACS mix of urban and rural with pseudo-labels)\n",
        "urban_train_augmented = LoveDA(TRAIN_PATH, DataType.URBAN, transforms=best_trf) # best augmentation\n",
        "rural_train = LoveDA(TRAIN_PATH, DataType.RURAL,transforms=train_transform) # base transformation\n",
        "# Val dataset (only rural)\n",
        "rural_val = LoveDA(VAL_PATH, DataType.RURAL, transforms=test_transform)\n",
        "\n",
        "# Train dataloaders (urban and DACS mix of urban and rural with pseudo-labels)\n",
        "urban_train_dataloader_augmented = DataLoader(urban_train_augmented, batch_size=BATCH_SIZE, shuffle=True, num_workers=NUM_WORKERS, drop_last=True)\n",
        "rural_train_dataloader = DataLoader(rural_train, batch_size=BATCH_SIZE, shuffle=True, num_workers=NUM_WORKERS, drop_last=True)\n",
        "# Val dataloader (only rural)\n",
        "rural_val_dataloader = DataLoader(rural_val, shuffle=False, num_workers=NUM_WORKERS, drop_last=False)\n",
        "\n",
        "# final weights path\n",
        "weights_path = PIDNET_DACS_FINAL_WEIGHTS_PATH\n",
        "\n"
      ],
      "metadata": {
        "id": "UMhMMi0ee8V9"
      },
      "execution_count": 75,
      "outputs": []
    },
    {
      "cell_type": "code",
      "source": [
        "LR = 2e-4               # The initial Learning Rate\n",
        "MOMENTUM = 0.9          # Hyperparameter for SGD, keep this at 0.9 when using SGD\n",
        "WEIGHT_DECAY = 5e-4     # Regularization, you can keep this at the default\n",
        "NUM_EPOCHS = 20         # Total number of training epochs (iterations over dataset)\n",
        "STEP_SIZE = [10, 15]    # How many epochs before decreasing learning rate (if using a step-down policy)\n",
        "GAMMA = 0.1             # Multiplicative factor for learning rate step-down"
      ],
      "metadata": {
        "id": "kKxlZh3EeYwR"
      },
      "execution_count": 76,
      "outputs": []
    },
    {
      "cell_type": "code",
      "source": [
        "# enable validation during training\n",
        "validate = True\n",
        "\n",
        "model.train()\n",
        "model = model.to(DEVICE) # switch to GPU\n",
        "\n",
        "# loss functions\n",
        "sloss_fn = nn.CrossEntropyLoss(ignore_index=IGNORE_INDEX)\n",
        "tloss_fn = nn.CrossEntropyLoss(ignore_index=IGNORE_INDEX)\n",
        "\n",
        "# Opt\n",
        "trainable_params = [p for p in model.parameters() if p.requires_grad]\n",
        "optimizer_fn = optim.Adam(trainable_params, lr=LR, weight_decay=WEIGHT_DECAY, eps=1e-4)\n",
        "\n",
        "# Scheduler\n",
        "optim_scheduler = optim.lr_scheduler.MultiStepLR(optimizer_fn, milestones=STEP_SIZE, gamma=GAMMA)\n",
        "\n",
        "# LAMBDA DYNAMIC COMPUTE\n",
        "PIXEL_CONFIDENCE_THRESHOLD = 0.9"
      ],
      "metadata": {
        "id": "VZpk9Gl1eLrN"
      },
      "execution_count": 77,
      "outputs": []
    },
    {
      "cell_type": "code",
      "source": [
        "import warnings\n",
        "from torch.backends import cudnn\n",
        "\n",
        "warnings.filterwarnings('ignore')\n",
        "cudnn.benchmark\n",
        "CUDA_LAUNCH_BLOCKING=1\n",
        "\n",
        "model = load_model_weights(model,PIDNET_PRETRAIN_WEIGHTS_PATH).to(DEVICE)\n",
        "\n",
        "iterPerEpoch = len(urban_train_dataloader_augmented)\n",
        "\n",
        "best_IoU = 0\n",
        "\n",
        "for epoch in range(NUM_EPOCHS):\n",
        "    model.train()\n",
        "    epoch_loss = 0\n",
        "    iou_meter = IoUMeter()\n",
        "\n",
        "    td_iter = iter(rural_train_dataloader) # target domain iter\n",
        "\n",
        "    for i, (source_inputs, source_labels) in enumerate(urban_train_dataloader_augmented):\n",
        "        optimizer_fn.zero_grad()\n",
        "\n",
        "        # ---- gets Xs,Ys\n",
        "        source_inputs = source_inputs.to(DEVICE)\n",
        "        source_labels = source_labels.long().to(DEVICE)\n",
        "\n",
        "        # ---- output size information\n",
        "        h, w = source_labels.size(1), source_labels.size(2)\n",
        "\n",
        "        # ---- gets Xt\n",
        "        try:\n",
        "            batch = next(td_iter)\n",
        "            if batch[0].shape[0] != BATCH_SIZE:\n",
        "                batch = next(td_iter)\n",
        "        except:\n",
        "            td_iter = iter(rural_train_dataloader) # restart\n",
        "            batch = next(td_iter)\n",
        "\n",
        "        target_inputs,_ = batch # discard target labels to perform as DA is UNSUPERVISED\n",
        "        target_inputs = target_inputs.to(DEVICE)\n",
        "        target_outputs,_,_ = model(target_inputs)\n",
        "        # check for interpolation\n",
        "        toh, tow = target_outputs.size(2), target_outputs.size(3)\n",
        "        if toh != h or tow != w:\n",
        "          target_outputs = F.interpolate(target_outputs, size=(h, w), mode='bilinear', align_corners=True)\n",
        "\n",
        "        # ---- Calculate confidence for pseudo-labeling\n",
        "        with torch.no_grad():\n",
        "            target_confidences = F.softmax(target_outputs, dim=1).max(dim=1)[0]  # Max confidence per pixel\n",
        "            confident_mask = (target_confidences > PIXEL_CONFIDENCE_THRESHOLD).float()\n",
        "            LAMBDA = confident_mask.mean().item()  # Proportion of confident pixels\n",
        "\n",
        "        #print(Fore.WHITE+Style.DIM+f\"LAMBDA={LAMBDA}\"+Style.RESET_ALL)\n",
        "\n",
        "        # ---- get Y't\n",
        "        _,target_pseudo_labels = torch.max(target_outputs.data, 1)\n",
        "\n",
        "        # ---- virtually creates (Xm,Ym) from (Xs,Ys) and (Xt,Y't)\n",
        "        mixed_inputs, mixed_labels = DACS_mix_batch(source_inputs,source_labels,target_inputs,target_pseudo_labels)\n",
        "\n",
        "\n",
        "        # feeds in the model with both Xs and Xm\n",
        "        source_outputs,_,_ = model(source_inputs)\n",
        "        mixed_outputs,_,_ = model(mixed_inputs)\n",
        "\n",
        "        # check for interpolation\n",
        "        soh, sow = source_outputs.size(2), source_outputs.size(3)\n",
        "        if soh != h or sow != w:\n",
        "          source_outputs = F.interpolate(source_outputs, size=(h, w), mode='bilinear', align_corners=True)\n",
        "        moh, mow = mixed_outputs.size(2), mixed_outputs.size(3)\n",
        "        if moh != h or mow != w:\n",
        "          mixed_outputs = F.interpolate(mixed_outputs, size=(h, w), mode='bilinear', align_corners=True)\n",
        "\n",
        "        # compute loss\n",
        "        source_loss = sloss_fn(source_outputs, source_labels)\n",
        "        mixed_loss = tloss_fn(mixed_outputs, mixed_labels)\n",
        "        loss = source_loss + LAMBDA*mixed_loss\n",
        "\n",
        "        # backward loss and optimizer step\n",
        "        loss.backward()\n",
        "        optimizer_fn.step()\n",
        "\n",
        "        # compute the training accuracy\n",
        "        _, source_predicted = torch.max(source_outputs.data, 1)\n",
        "        _, mixed_predicted = torch.max(mixed_outputs.data, 1)\n",
        "\n",
        "        iou_meter.addCouple(source_predicted,source_labels)\n",
        "        iou_meter.addCouple(mixed_predicted,mixed_labels)\n",
        "\n",
        "        step_loss = loss.data.item()\n",
        "        epoch_loss += step_loss\n",
        "\n",
        "    # FINAL EPOCH-WISE COMPUTATIONS\n",
        "    avg_loss = epoch_loss/iterPerEpoch\n",
        "    stat_plot(avg_loss,iou_meter,mode=StatPlotMode.TRAINING,epoch=epoch)\n",
        "\n",
        "    if validate:\n",
        "        model.eval()\n",
        "        val_loss = 0\n",
        "        iterPerVal = len(rural_val_dataloader)\n",
        "        iou_meter = IoUMeter()\n",
        "        for j, (inputs, targets) in enumerate(rural_val_dataloader):\n",
        "\n",
        "            # feeds in model\n",
        "            inputs = inputs.to(DEVICE)\n",
        "            labels = targets.long().to(device=DEVICE)\n",
        "            outputs,_,_ = model(inputs)\n",
        "            outputs = F.interpolate(outputs, size=labels.shape[1:], mode='bilinear', align_corners=True)\n",
        "\n",
        "            # compute loss\n",
        "            loss = sem_criterion(outputs, labels)\n",
        "\n",
        "            # compute the training accuracy\n",
        "            _, predicted = torch.max(outputs.data, 1)\n",
        "\n",
        "            iou_meter.addCouple(predicted,labels)\n",
        "\n",
        "            step_loss = loss.data.item()\n",
        "            val_loss += step_loss\n",
        "\n",
        "\n",
        "        # FINAL EPOCH-WISE COMPUTATIONS\n",
        "        avg_loss = val_loss/iterPerVal\n",
        "        mean_IoU = iou_meter.getTotal()\n",
        "        stat_plot(avg_loss,iou_meter,mode=StatPlotMode.VALIDATION,epoch=epoch)\n",
        "\n",
        "        if mean_IoU > best_IoU:\n",
        "            best_IoU = mean_IoU\n",
        "            save_model_weights(model,weights_path)\n",
        "        # END OF VALIDATION\n",
        "\n",
        "optim_scheduler.step()\n",
        "# END OF TRAINING\n"
      ],
      "metadata": {
        "id": "Awjnnt-zmviN",
        "outputId": "4c769011-745c-4fa2-a822-baca60d81fe2",
        "colab": {
          "base_uri": "https://localhost:8080/"
        }
      },
      "execution_count": null,
      "outputs": [
        {
          "output_type": "stream",
          "name": "stdout",
          "text": [
            "\u001b[32m\u001b[22mTRAINING RESULTS (@epoch=1): mean Loss = 1.110 | mean-IoU = 0.305\u001b[0m\n",
            "\u001b[30m\u001b[43m\u001b[1mVALIDATION RESULTS (@epoch=1): mean Loss = 2.094 | mean-IoU = 0.188\u001b[0m\n",
            "\u001b[36m\u001b[22mClass-wise IoUs:\u001b[0m\n",
            "\u001b[37m\u001b[2mClass 0 (Background): IoU = 0.444\u001b[0m\n",
            "\u001b[37m\u001b[2mClass 1 (Building): IoU = 0.151\u001b[0m\n",
            "\u001b[37m\u001b[2mClass 2 (Road): IoU = 0.140\u001b[0m\n",
            "\u001b[37m\u001b[2mClass 3 (Water): IoU = 0.385\u001b[0m\n",
            "\u001b[37m\u001b[2mClass 4 (Barren): IoU = 0.067\u001b[0m\n",
            "\u001b[37m\u001b[2mClass 5 (Forest): IoU = 0.082\u001b[0m\n",
            "\u001b[37m\u001b[2mClass 6 (Agricultural): IoU = 0.048\u001b[0m\n",
            "Saving Model to saved_models/pidnet_DACS.pth...\n",
            "Done!\n",
            "\u001b[32m\u001b[22mTRAINING RESULTS (@epoch=2): mean Loss = 0.965 | mean-IoU = 0.349\u001b[0m\n",
            "\u001b[30m\u001b[43m\u001b[1mVALIDATION RESULTS (@epoch=2): mean Loss = 2.075 | mean-IoU = 0.195\u001b[0m\n",
            "\u001b[36m\u001b[22mClass-wise IoUs:\u001b[0m\n",
            "\u001b[37m\u001b[2mClass 0 (Background): IoU = 0.471\u001b[0m\n",
            "\u001b[37m\u001b[2mClass 1 (Building): IoU = 0.177\u001b[0m\n",
            "\u001b[37m\u001b[2mClass 2 (Road): IoU = 0.145\u001b[0m\n",
            "\u001b[37m\u001b[2mClass 3 (Water): IoU = 0.389\u001b[0m\n",
            "\u001b[37m\u001b[2mClass 4 (Barren): IoU = 0.089\u001b[0m\n",
            "\u001b[37m\u001b[2mClass 5 (Forest): IoU = 0.051\u001b[0m\n",
            "\u001b[37m\u001b[2mClass 6 (Agricultural): IoU = 0.047\u001b[0m\n",
            "Saving Model to saved_models/pidnet_DACS.pth...\n",
            "Done!\n",
            "\u001b[32m\u001b[22mTRAINING RESULTS (@epoch=3): mean Loss = 0.940 | mean-IoU = 0.363\u001b[0m\n",
            "\u001b[30m\u001b[43m\u001b[1mVALIDATION RESULTS (@epoch=3): mean Loss = 2.135 | mean-IoU = 0.193\u001b[0m\n",
            "\u001b[36m\u001b[22mClass-wise IoUs:\u001b[0m\n",
            "\u001b[37m\u001b[2mClass 0 (Background): IoU = 0.473\u001b[0m\n",
            "\u001b[37m\u001b[2mClass 1 (Building): IoU = 0.202\u001b[0m\n",
            "\u001b[37m\u001b[2mClass 2 (Road): IoU = 0.158\u001b[0m\n",
            "\u001b[37m\u001b[2mClass 3 (Water): IoU = 0.323\u001b[0m\n",
            "\u001b[37m\u001b[2mClass 4 (Barren): IoU = 0.076\u001b[0m\n",
            "\u001b[37m\u001b[2mClass 5 (Forest): IoU = 0.056\u001b[0m\n",
            "\u001b[37m\u001b[2mClass 6 (Agricultural): IoU = 0.061\u001b[0m\n",
            "\u001b[32m\u001b[22mTRAINING RESULTS (@epoch=4): mean Loss = 0.912 | mean-IoU = 0.380\u001b[0m\n",
            "\u001b[30m\u001b[43m\u001b[1mVALIDATION RESULTS (@epoch=4): mean Loss = 1.929 | mean-IoU = 0.229\u001b[0m\n",
            "\u001b[36m\u001b[22mClass-wise IoUs:\u001b[0m\n",
            "\u001b[37m\u001b[2mClass 0 (Background): IoU = 0.479\u001b[0m\n",
            "\u001b[37m\u001b[2mClass 1 (Building): IoU = 0.222\u001b[0m\n",
            "\u001b[37m\u001b[2mClass 2 (Road): IoU = 0.149\u001b[0m\n",
            "\u001b[37m\u001b[2mClass 3 (Water): IoU = 0.459\u001b[0m\n",
            "\u001b[37m\u001b[2mClass 4 (Barren): IoU = 0.080\u001b[0m\n",
            "\u001b[37m\u001b[2mClass 5 (Forest): IoU = 0.086\u001b[0m\n",
            "\u001b[37m\u001b[2mClass 6 (Agricultural): IoU = 0.131\u001b[0m\n",
            "Saving Model to saved_models/pidnet_DACS.pth...\n",
            "Done!\n"
          ]
        },
        {
          "output_type": "stream",
          "name": "stderr",
          "text": [
            "Exception ignored in: <function _MultiProcessingDataLoaderIter.__del__ at 0x7f237d2cac20>\n",
            "Traceback (most recent call last):\n",
            "  File \"/usr/local/lib/python3.10/dist-packages/torch/utils/data/dataloader.py\", line 1604, in __del__\n",
            "    self._shutdown_workers()\n",
            "Exception ignored in:   File \"/usr/local/lib/python3.10/dist-packages/torch/utils/data/dataloader.py\", line 1587, in _shutdown_workers\n",
            "<function _MultiProcessingDataLoaderIter.__del__ at 0x7f237d2cac20>    \n",
            "Traceback (most recent call last):\n",
            "if w.is_alive():  File \"/usr/local/lib/python3.10/dist-packages/torch/utils/data/dataloader.py\", line 1604, in __del__\n",
            "\n",
            "      File \"/usr/lib/python3.10/multiprocessing/process.py\", line 160, in is_alive\n",
            "self._shutdown_workers()    assert self._parent_pid == os.getpid(), 'can only test a child process'\n",
            "  File \"/usr/local/lib/python3.10/dist-packages/torch/utils/data/dataloader.py\", line 1587, in _shutdown_workers\n",
            "\n",
            "    AssertionErrorif w.is_alive():\n",
            ":   File \"/usr/lib/python3.10/multiprocessing/process.py\", line 160, in is_alive\n",
            "can only test a child process\n",
            "    assert self._parent_pid == os.getpid(), 'can only test a child process'\n",
            "AssertionErrorException ignored in: : can only test a child process<function _MultiProcessingDataLoaderIter.__del__ at 0x7f237d2cac20>Exception ignored in: \n",
            "\n",
            "Traceback (most recent call last):\n",
            "  File \"/usr/local/lib/python3.10/dist-packages/torch/utils/data/dataloader.py\", line 1604, in __del__\n",
            "<function _MultiProcessingDataLoaderIter.__del__ at 0x7f237d2cac20>\n",
            "    Traceback (most recent call last):\n",
            "  File \"/usr/local/lib/python3.10/dist-packages/torch/utils/data/dataloader.py\", line 1604, in __del__\n",
            "self._shutdown_workers()    \n",
            "self._shutdown_workers()  File \"/usr/local/lib/python3.10/dist-packages/torch/utils/data/dataloader.py\", line 1587, in _shutdown_workers\n",
            "\n",
            "      File \"/usr/local/lib/python3.10/dist-packages/torch/utils/data/dataloader.py\", line 1587, in _shutdown_workers\n",
            "if w.is_alive():    \n",
            "if w.is_alive():  File \"/usr/lib/python3.10/multiprocessing/process.py\", line 160, in is_alive\n",
            "\n",
            "    assert self._parent_pid == os.getpid(), 'can only test a child process'  File \"/usr/lib/python3.10/multiprocessing/process.py\", line 160, in is_alive\n",
            "    \n",
            "assert self._parent_pid == os.getpid(), 'can only test a child process'\n",
            "AssertionErrorAssertionError: : can only test a child process\n",
            "can only test a child process\n",
            "Exception ignored in: <function _MultiProcessingDataLoaderIter.__del__ at 0x7f237d2cac20>\n",
            "Traceback (most recent call last):\n",
            "  File \"/usr/local/lib/python3.10/dist-packages/torch/utils/data/dataloader.py\", line 1604, in __del__\n",
            "    self._shutdown_workers()\n",
            "  File \"/usr/local/lib/python3.10/dist-packages/torch/utils/data/dataloader.py\", line 1587, in _shutdown_workers\n",
            "    if w.is_alive():\n",
            "  File \"/usr/lib/python3.10/multiprocessing/process.py\", line 160, in is_alive\n",
            "    assert self._parent_pid == os.getpid(), 'can only test a child process'\n",
            "AssertionError: can only test a child process\n",
            "Exception ignored in: <function _MultiProcessingDataLoaderIter.__del__ at 0x7f237d2cac20>\n",
            "Traceback (most recent call last):\n",
            "  File \"/usr/local/lib/python3.10/dist-packages/torch/utils/data/dataloader.py\", line 1604, in __del__\n",
            "    self._shutdown_workers()\n",
            "  File \"/usr/local/lib/python3.10/dist-packages/torch/utils/data/dataloader.py\", line 1587, in _shutdown_workers\n",
            "    if w.is_alive():\n",
            "  File \"/usr/lib/python3.10/multiprocessing/process.py\", line 160, in is_alive\n",
            "    assert self._parent_pid == os.getpid(), 'can only test a child process'\n",
            "AssertionError: can only test a child process\n",
            "Exception ignored in: <function _MultiProcessingDataLoaderIter.__del__ at 0x7f237d2cac20>\n",
            "Traceback (most recent call last):\n",
            "Exception ignored in:   File \"/usr/local/lib/python3.10/dist-packages/torch/utils/data/dataloader.py\", line 1604, in __del__\n",
            "<function _MultiProcessingDataLoaderIter.__del__ at 0x7f237d2cac20>    \n",
            "self._shutdown_workers()Traceback (most recent call last):\n",
            "\n",
            "  File \"/usr/local/lib/python3.10/dist-packages/torch/utils/data/dataloader.py\", line 1604, in __del__\n",
            "  File \"/usr/local/lib/python3.10/dist-packages/torch/utils/data/dataloader.py\", line 1587, in _shutdown_workers\n",
            "        self._shutdown_workers()\n",
            "  File \"/usr/local/lib/python3.10/dist-packages/torch/utils/data/dataloader.py\", line 1587, in _shutdown_workers\n",
            "if w.is_alive():    if w.is_alive():\n",
            "\n",
            "  File \"/usr/lib/python3.10/multiprocessing/process.py\", line 160, in is_alive\n",
            "  File \"/usr/lib/python3.10/multiprocessing/process.py\", line 160, in is_alive\n",
            "        assert self._parent_pid == os.getpid(), 'can only test a child process'\n",
            "assert self._parent_pid == os.getpid(), 'can only test a child process'AssertionError\n",
            ": AssertionErrorcan only test a child process: can only test a child process\n",
            "\n"
          ]
        },
        {
          "output_type": "stream",
          "name": "stdout",
          "text": [
            "\u001b[32m\u001b[22mTRAINING RESULTS (@epoch=5): mean Loss = 0.885 | mean-IoU = 0.389\u001b[0m\n",
            "\u001b[30m\u001b[43m\u001b[1mVALIDATION RESULTS (@epoch=5): mean Loss = 2.005 | mean-IoU = 0.212\u001b[0m\n",
            "\u001b[36m\u001b[22mClass-wise IoUs:\u001b[0m\n",
            "\u001b[37m\u001b[2mClass 0 (Background): IoU = 0.481\u001b[0m\n",
            "\u001b[37m\u001b[2mClass 1 (Building): IoU = 0.216\u001b[0m\n",
            "\u001b[37m\u001b[2mClass 2 (Road): IoU = 0.139\u001b[0m\n",
            "\u001b[37m\u001b[2mClass 3 (Water): IoU = 0.401\u001b[0m\n",
            "\u001b[37m\u001b[2mClass 4 (Barren): IoU = 0.080\u001b[0m\n",
            "\u001b[37m\u001b[2mClass 5 (Forest): IoU = 0.072\u001b[0m\n",
            "\u001b[37m\u001b[2mClass 6 (Agricultural): IoU = 0.094\u001b[0m\n",
            "\u001b[32m\u001b[22mTRAINING RESULTS (@epoch=6): mean Loss = 0.871 | mean-IoU = 0.402\u001b[0m\n",
            "\u001b[30m\u001b[43m\u001b[1mVALIDATION RESULTS (@epoch=6): mean Loss = 2.098 | mean-IoU = 0.198\u001b[0m\n",
            "\u001b[36m\u001b[22mClass-wise IoUs:\u001b[0m\n",
            "\u001b[37m\u001b[2mClass 0 (Background): IoU = 0.484\u001b[0m\n",
            "\u001b[37m\u001b[2mClass 1 (Building): IoU = 0.185\u001b[0m\n",
            "\u001b[37m\u001b[2mClass 2 (Road): IoU = 0.128\u001b[0m\n",
            "\u001b[37m\u001b[2mClass 3 (Water): IoU = 0.414\u001b[0m\n",
            "\u001b[37m\u001b[2mClass 4 (Barren): IoU = 0.064\u001b[0m\n",
            "\u001b[37m\u001b[2mClass 5 (Forest): IoU = 0.040\u001b[0m\n",
            "\u001b[37m\u001b[2mClass 6 (Agricultural): IoU = 0.072\u001b[0m\n",
            "\u001b[32m\u001b[22mTRAINING RESULTS (@epoch=7): mean Loss = 0.864 | mean-IoU = 0.401\u001b[0m\n",
            "\u001b[30m\u001b[43m\u001b[1mVALIDATION RESULTS (@epoch=7): mean Loss = 2.045 | mean-IoU = 0.216\u001b[0m\n",
            "\u001b[36m\u001b[22mClass-wise IoUs:\u001b[0m\n",
            "\u001b[37m\u001b[2mClass 0 (Background): IoU = 0.478\u001b[0m\n",
            "\u001b[37m\u001b[2mClass 1 (Building): IoU = 0.220\u001b[0m\n",
            "\u001b[37m\u001b[2mClass 2 (Road): IoU = 0.154\u001b[0m\n",
            "\u001b[37m\u001b[2mClass 3 (Water): IoU = 0.433\u001b[0m\n",
            "\u001b[37m\u001b[2mClass 4 (Barren): IoU = 0.079\u001b[0m\n",
            "\u001b[37m\u001b[2mClass 5 (Forest): IoU = 0.072\u001b[0m\n",
            "\u001b[37m\u001b[2mClass 6 (Agricultural): IoU = 0.077\u001b[0m\n",
            "\u001b[32m\u001b[22mTRAINING RESULTS (@epoch=8): mean Loss = 0.842 | mean-IoU = 0.417\u001b[0m\n",
            "\u001b[30m\u001b[43m\u001b[1mVALIDATION RESULTS (@epoch=8): mean Loss = 2.005 | mean-IoU = 0.219\u001b[0m\n",
            "\u001b[36m\u001b[22mClass-wise IoUs:\u001b[0m\n",
            "\u001b[37m\u001b[2mClass 0 (Background): IoU = 0.462\u001b[0m\n",
            "\u001b[37m\u001b[2mClass 1 (Building): IoU = 0.230\u001b[0m\n",
            "\u001b[37m\u001b[2mClass 2 (Road): IoU = 0.162\u001b[0m\n",
            "\u001b[37m\u001b[2mClass 3 (Water): IoU = 0.406\u001b[0m\n",
            "\u001b[37m\u001b[2mClass 4 (Barren): IoU = 0.066\u001b[0m\n",
            "\u001b[37m\u001b[2mClass 5 (Forest): IoU = 0.106\u001b[0m\n",
            "\u001b[37m\u001b[2mClass 6 (Agricultural): IoU = 0.102\u001b[0m\n",
            "\u001b[32m\u001b[22mTRAINING RESULTS (@epoch=9): mean Loss = 0.839 | mean-IoU = 0.416\u001b[0m\n"
          ]
        }
      ]
    },
    {
      "cell_type": "markdown",
      "source": [
        "testing"
      ],
      "metadata": {
        "id": "nNBxq7oKnGda"
      }
    },
    {
      "cell_type": "code",
      "source": [
        "# TESTING ON BEST WEIGHTS\n",
        "print(Fore.BLACK+Back.CYAN+Style.BRIGHT+f\"Testing PIDNet with LoveDA-URBAN with augmentation v{i+1}\"+Style.RESET_ALL)\n",
        "model = load_model_weights(model,weights_path).to(DEVICE)\n",
        "model.eval()\n",
        "val_loss = 0\n",
        "iterPerVal = len(rural_val_dataloader)\n",
        "iou_meter = IoUMeter()\n",
        "for j, (inputs, targets) in enumerate(rural_val_dataloader):\n",
        "\n",
        "    # feeds in model\n",
        "    inputs = inputs.to(DEVICE)\n",
        "    labels = targets.long().to(device=DEVICE)\n",
        "    outputs,_,_ = model(inputs)\n",
        "    outputs = F.interpolate(outputs, size=labels.shape[1:], mode='bilinear', align_corners=True)\n",
        "\n",
        "    # compute loss\n",
        "    loss = sem_criterion(outputs, labels)\n",
        "\n",
        "\n",
        "    # compute the training accuracy\n",
        "    _, predicted = torch.max(outputs.data, 1)\n",
        "\n",
        "    iou_meter.addCouple(predicted,labels)\n",
        "\n",
        "    step_loss = loss.data.item()\n",
        "    val_loss += step_loss\n",
        "\n",
        "\n",
        "# FINAL EPOCH-WISE COMPUTATIONS\n",
        "avg_loss = val_loss/iterPerVal\n",
        "stat_plot(avg_loss,iou_meter,mode=StatPlotMode.TESTING)\n",
        "# END OF TESTING"
      ],
      "metadata": {
        "id": "S0z_fZyunFno"
      },
      "execution_count": null,
      "outputs": []
    },
    {
      "cell_type": "markdown",
      "source": [
        "## 5"
      ],
      "metadata": {
        "id": "Qy6TQtquoEcP"
      }
    },
    {
      "cell_type": "code",
      "source": [
        "\n",
        "import cv2\n",
        "def canny_with_cv2(images_tensors, low_threshold=0.1, high_threshold=0.2):\n",
        "    # Convert to NumPy\n",
        "    edges_tensors = images_tensors.clone().cpu()\n",
        "    for i,img in enumerate(edges_tensors):\n",
        "      # Convert to NumPy\n",
        "      image_np = img.numpy()\n",
        "      edges_np = cv2.Canny((image_np*255).astype('uint8'), low_threshold, high_threshold)\n",
        "\n",
        "      # Convert back to tensor\n",
        "      edges_tensors[i] = torch.from_numpy(edges_np).float() / 255.0\n",
        "    return edges_tensors"
      ],
      "metadata": {
        "id": "RUkTsoeqLOK5"
      },
      "execution_count": null,
      "outputs": []
    }
  ],
  "metadata": {
    "kernelspec": {
      "display_name": "Python 3",
      "name": "python3"
    },
    "language_info": {
      "codemirror_mode": {
        "name": "ipython",
        "version": 3
      },
      "file_extension": ".py",
      "mimetype": "text/x-python",
      "name": "python",
      "nbconvert_exporter": "python",
      "pygments_lexer": "ipython3",
      "version": "3.12.4"
    },
    "colab": {
      "provenance": [],
      "gpuType": "T4",
      "include_colab_link": true
    },
    "accelerator": "GPU",
    "widgets": {
      "application/vnd.jupyter.widget-state+json": {
        "26b031a09126482faafde6c8165198a8": {
          "model_module": "@jupyter-widgets/controls",
          "model_name": "HBoxModel",
          "model_module_version": "1.5.0",
          "state": {
            "_dom_classes": [],
            "_model_module": "@jupyter-widgets/controls",
            "_model_module_version": "1.5.0",
            "_model_name": "HBoxModel",
            "_view_count": null,
            "_view_module": "@jupyter-widgets/controls",
            "_view_module_version": "1.5.0",
            "_view_name": "HBoxView",
            "box_style": "",
            "children": [
              "IPY_MODEL_c8e59485380e416a99bd74bda3174c3d",
              "IPY_MODEL_35fc13ddd5c547e4be58979d35f326e5",
              "IPY_MODEL_8ba0ebc2164443f8ae6f8cec4fd82d67"
            ],
            "layout": "IPY_MODEL_79759651d02247e6b37bff916c0f9c2e"
          }
        },
        "c8e59485380e416a99bd74bda3174c3d": {
          "model_module": "@jupyter-widgets/controls",
          "model_name": "HTMLModel",
          "model_module_version": "1.5.0",
          "state": {
            "_dom_classes": [],
            "_model_module": "@jupyter-widgets/controls",
            "_model_module_version": "1.5.0",
            "_model_name": "HTMLModel",
            "_view_count": null,
            "_view_module": "@jupyter-widgets/controls",
            "_view_module_version": "1.5.0",
            "_view_name": "HTMLView",
            "description": "",
            "description_tooltip": null,
            "layout": "IPY_MODEL_e7abf282e24a4645931cd2043681425a",
            "placeholder": "​",
            "style": "IPY_MODEL_8382faf62edf45d7883f09a6cf3a7189",
            "value": "100%"
          }
        },
        "35fc13ddd5c547e4be58979d35f326e5": {
          "model_module": "@jupyter-widgets/controls",
          "model_name": "FloatProgressModel",
          "model_module_version": "1.5.0",
          "state": {
            "_dom_classes": [],
            "_model_module": "@jupyter-widgets/controls",
            "_model_module_version": "1.5.0",
            "_model_name": "FloatProgressModel",
            "_view_count": null,
            "_view_module": "@jupyter-widgets/controls",
            "_view_module_version": "1.5.0",
            "_view_name": "ProgressView",
            "bar_style": "success",
            "description": "",
            "description_tooltip": null,
            "layout": "IPY_MODEL_d109db54f71f467490a4ad2787736d1c",
            "max": 1000,
            "min": 0,
            "orientation": "horizontal",
            "style": "IPY_MODEL_3425df1c882e4e5faf4630002c534d74",
            "value": 1000
          }
        },
        "8ba0ebc2164443f8ae6f8cec4fd82d67": {
          "model_module": "@jupyter-widgets/controls",
          "model_name": "HTMLModel",
          "model_module_version": "1.5.0",
          "state": {
            "_dom_classes": [],
            "_model_module": "@jupyter-widgets/controls",
            "_model_module_version": "1.5.0",
            "_model_name": "HTMLModel",
            "_view_count": null,
            "_view_module": "@jupyter-widgets/controls",
            "_view_module_version": "1.5.0",
            "_view_name": "HTMLView",
            "description": "",
            "description_tooltip": null,
            "layout": "IPY_MODEL_2c30c25839c845c6a9a659f55c963b89",
            "placeholder": "​",
            "style": "IPY_MODEL_968d5f2a5b114d74807bf4aaae07cb0c",
            "value": " 1000/1000 [00:40&lt;00:00, 25.47it/s]"
          }
        },
        "79759651d02247e6b37bff916c0f9c2e": {
          "model_module": "@jupyter-widgets/base",
          "model_name": "LayoutModel",
          "model_module_version": "1.2.0",
          "state": {
            "_model_module": "@jupyter-widgets/base",
            "_model_module_version": "1.2.0",
            "_model_name": "LayoutModel",
            "_view_count": null,
            "_view_module": "@jupyter-widgets/base",
            "_view_module_version": "1.2.0",
            "_view_name": "LayoutView",
            "align_content": null,
            "align_items": null,
            "align_self": null,
            "border": null,
            "bottom": null,
            "display": null,
            "flex": null,
            "flex_flow": null,
            "grid_area": null,
            "grid_auto_columns": null,
            "grid_auto_flow": null,
            "grid_auto_rows": null,
            "grid_column": null,
            "grid_gap": null,
            "grid_row": null,
            "grid_template_areas": null,
            "grid_template_columns": null,
            "grid_template_rows": null,
            "height": null,
            "justify_content": null,
            "justify_items": null,
            "left": null,
            "margin": null,
            "max_height": null,
            "max_width": null,
            "min_height": null,
            "min_width": null,
            "object_fit": null,
            "object_position": null,
            "order": null,
            "overflow": null,
            "overflow_x": null,
            "overflow_y": null,
            "padding": null,
            "right": null,
            "top": null,
            "visibility": null,
            "width": null
          }
        },
        "e7abf282e24a4645931cd2043681425a": {
          "model_module": "@jupyter-widgets/base",
          "model_name": "LayoutModel",
          "model_module_version": "1.2.0",
          "state": {
            "_model_module": "@jupyter-widgets/base",
            "_model_module_version": "1.2.0",
            "_model_name": "LayoutModel",
            "_view_count": null,
            "_view_module": "@jupyter-widgets/base",
            "_view_module_version": "1.2.0",
            "_view_name": "LayoutView",
            "align_content": null,
            "align_items": null,
            "align_self": null,
            "border": null,
            "bottom": null,
            "display": null,
            "flex": null,
            "flex_flow": null,
            "grid_area": null,
            "grid_auto_columns": null,
            "grid_auto_flow": null,
            "grid_auto_rows": null,
            "grid_column": null,
            "grid_gap": null,
            "grid_row": null,
            "grid_template_areas": null,
            "grid_template_columns": null,
            "grid_template_rows": null,
            "height": null,
            "justify_content": null,
            "justify_items": null,
            "left": null,
            "margin": null,
            "max_height": null,
            "max_width": null,
            "min_height": null,
            "min_width": null,
            "object_fit": null,
            "object_position": null,
            "order": null,
            "overflow": null,
            "overflow_x": null,
            "overflow_y": null,
            "padding": null,
            "right": null,
            "top": null,
            "visibility": null,
            "width": null
          }
        },
        "8382faf62edf45d7883f09a6cf3a7189": {
          "model_module": "@jupyter-widgets/controls",
          "model_name": "DescriptionStyleModel",
          "model_module_version": "1.5.0",
          "state": {
            "_model_module": "@jupyter-widgets/controls",
            "_model_module_version": "1.5.0",
            "_model_name": "DescriptionStyleModel",
            "_view_count": null,
            "_view_module": "@jupyter-widgets/base",
            "_view_module_version": "1.2.0",
            "_view_name": "StyleView",
            "description_width": ""
          }
        },
        "d109db54f71f467490a4ad2787736d1c": {
          "model_module": "@jupyter-widgets/base",
          "model_name": "LayoutModel",
          "model_module_version": "1.2.0",
          "state": {
            "_model_module": "@jupyter-widgets/base",
            "_model_module_version": "1.2.0",
            "_model_name": "LayoutModel",
            "_view_count": null,
            "_view_module": "@jupyter-widgets/base",
            "_view_module_version": "1.2.0",
            "_view_name": "LayoutView",
            "align_content": null,
            "align_items": null,
            "align_self": null,
            "border": null,
            "bottom": null,
            "display": null,
            "flex": null,
            "flex_flow": null,
            "grid_area": null,
            "grid_auto_columns": null,
            "grid_auto_flow": null,
            "grid_auto_rows": null,
            "grid_column": null,
            "grid_gap": null,
            "grid_row": null,
            "grid_template_areas": null,
            "grid_template_columns": null,
            "grid_template_rows": null,
            "height": null,
            "justify_content": null,
            "justify_items": null,
            "left": null,
            "margin": null,
            "max_height": null,
            "max_width": null,
            "min_height": null,
            "min_width": null,
            "object_fit": null,
            "object_position": null,
            "order": null,
            "overflow": null,
            "overflow_x": null,
            "overflow_y": null,
            "padding": null,
            "right": null,
            "top": null,
            "visibility": null,
            "width": null
          }
        },
        "3425df1c882e4e5faf4630002c534d74": {
          "model_module": "@jupyter-widgets/controls",
          "model_name": "ProgressStyleModel",
          "model_module_version": "1.5.0",
          "state": {
            "_model_module": "@jupyter-widgets/controls",
            "_model_module_version": "1.5.0",
            "_model_name": "ProgressStyleModel",
            "_view_count": null,
            "_view_module": "@jupyter-widgets/base",
            "_view_module_version": "1.2.0",
            "_view_name": "StyleView",
            "bar_color": null,
            "description_width": ""
          }
        },
        "2c30c25839c845c6a9a659f55c963b89": {
          "model_module": "@jupyter-widgets/base",
          "model_name": "LayoutModel",
          "model_module_version": "1.2.0",
          "state": {
            "_model_module": "@jupyter-widgets/base",
            "_model_module_version": "1.2.0",
            "_model_name": "LayoutModel",
            "_view_count": null,
            "_view_module": "@jupyter-widgets/base",
            "_view_module_version": "1.2.0",
            "_view_name": "LayoutView",
            "align_content": null,
            "align_items": null,
            "align_self": null,
            "border": null,
            "bottom": null,
            "display": null,
            "flex": null,
            "flex_flow": null,
            "grid_area": null,
            "grid_auto_columns": null,
            "grid_auto_flow": null,
            "grid_auto_rows": null,
            "grid_column": null,
            "grid_gap": null,
            "grid_row": null,
            "grid_template_areas": null,
            "grid_template_columns": null,
            "grid_template_rows": null,
            "height": null,
            "justify_content": null,
            "justify_items": null,
            "left": null,
            "margin": null,
            "max_height": null,
            "max_width": null,
            "min_height": null,
            "min_width": null,
            "object_fit": null,
            "object_position": null,
            "order": null,
            "overflow": null,
            "overflow_x": null,
            "overflow_y": null,
            "padding": null,
            "right": null,
            "top": null,
            "visibility": null,
            "width": null
          }
        },
        "968d5f2a5b114d74807bf4aaae07cb0c": {
          "model_module": "@jupyter-widgets/controls",
          "model_name": "DescriptionStyleModel",
          "model_module_version": "1.5.0",
          "state": {
            "_model_module": "@jupyter-widgets/controls",
            "_model_module_version": "1.5.0",
            "_model_name": "DescriptionStyleModel",
            "_view_count": null,
            "_view_module": "@jupyter-widgets/base",
            "_view_module_version": "1.2.0",
            "_view_name": "StyleView",
            "description_width": ""
          }
        },
        "7232e3a9a9a84879b10d98f43052fbcb": {
          "model_module": "@jupyter-widgets/controls",
          "model_name": "HBoxModel",
          "model_module_version": "1.5.0",
          "state": {
            "_dom_classes": [],
            "_model_module": "@jupyter-widgets/controls",
            "_model_module_version": "1.5.0",
            "_model_name": "HBoxModel",
            "_view_count": null,
            "_view_module": "@jupyter-widgets/controls",
            "_view_module_version": "1.5.0",
            "_view_name": "HBoxView",
            "box_style": "",
            "children": [
              "IPY_MODEL_b0fa0f997c68426fbb1f3ee999cdd30a",
              "IPY_MODEL_7d205ccd861244a1b817346deec1f688",
              "IPY_MODEL_7bf36d952e284f788d69e2da7718dfd9"
            ],
            "layout": "IPY_MODEL_bbc2789398514ce992a1eaf9cfaa0404"
          }
        },
        "b0fa0f997c68426fbb1f3ee999cdd30a": {
          "model_module": "@jupyter-widgets/controls",
          "model_name": "HTMLModel",
          "model_module_version": "1.5.0",
          "state": {
            "_dom_classes": [],
            "_model_module": "@jupyter-widgets/controls",
            "_model_module_version": "1.5.0",
            "_model_name": "HTMLModel",
            "_view_count": null,
            "_view_module": "@jupyter-widgets/controls",
            "_view_module_version": "1.5.0",
            "_view_name": "HTMLView",
            "description": "",
            "description_tooltip": null,
            "layout": "IPY_MODEL_be6d0843644c41bd89550d92bb702b72",
            "placeholder": "​",
            "style": "IPY_MODEL_590c1e90494c40efbaf665e88320d1b4",
            "value": "100%"
          }
        },
        "7d205ccd861244a1b817346deec1f688": {
          "model_module": "@jupyter-widgets/controls",
          "model_name": "FloatProgressModel",
          "model_module_version": "1.5.0",
          "state": {
            "_dom_classes": [],
            "_model_module": "@jupyter-widgets/controls",
            "_model_module_version": "1.5.0",
            "_model_name": "FloatProgressModel",
            "_view_count": null,
            "_view_module": "@jupyter-widgets/controls",
            "_view_module_version": "1.5.0",
            "_view_name": "ProgressView",
            "bar_style": "success",
            "description": "",
            "description_tooltip": null,
            "layout": "IPY_MODEL_4e907c2971564a32a3f4fae9ee4bfcb3",
            "max": 1000,
            "min": 0,
            "orientation": "horizontal",
            "style": "IPY_MODEL_6c4656607c8540f4bab71e61e783451d",
            "value": 1000
          }
        },
        "7bf36d952e284f788d69e2da7718dfd9": {
          "model_module": "@jupyter-widgets/controls",
          "model_name": "HTMLModel",
          "model_module_version": "1.5.0",
          "state": {
            "_dom_classes": [],
            "_model_module": "@jupyter-widgets/controls",
            "_model_module_version": "1.5.0",
            "_model_name": "HTMLModel",
            "_view_count": null,
            "_view_module": "@jupyter-widgets/controls",
            "_view_module_version": "1.5.0",
            "_view_name": "HTMLView",
            "description": "",
            "description_tooltip": null,
            "layout": "IPY_MODEL_dabe642976214dea9a4d75d159e711b6",
            "placeholder": "​",
            "style": "IPY_MODEL_07c5b6c4924b47318559e32f97cac4f4",
            "value": " 1000/1000 [00:29&lt;00:00, 75.78it/s]"
          }
        },
        "bbc2789398514ce992a1eaf9cfaa0404": {
          "model_module": "@jupyter-widgets/base",
          "model_name": "LayoutModel",
          "model_module_version": "1.2.0",
          "state": {
            "_model_module": "@jupyter-widgets/base",
            "_model_module_version": "1.2.0",
            "_model_name": "LayoutModel",
            "_view_count": null,
            "_view_module": "@jupyter-widgets/base",
            "_view_module_version": "1.2.0",
            "_view_name": "LayoutView",
            "align_content": null,
            "align_items": null,
            "align_self": null,
            "border": null,
            "bottom": null,
            "display": null,
            "flex": null,
            "flex_flow": null,
            "grid_area": null,
            "grid_auto_columns": null,
            "grid_auto_flow": null,
            "grid_auto_rows": null,
            "grid_column": null,
            "grid_gap": null,
            "grid_row": null,
            "grid_template_areas": null,
            "grid_template_columns": null,
            "grid_template_rows": null,
            "height": null,
            "justify_content": null,
            "justify_items": null,
            "left": null,
            "margin": null,
            "max_height": null,
            "max_width": null,
            "min_height": null,
            "min_width": null,
            "object_fit": null,
            "object_position": null,
            "order": null,
            "overflow": null,
            "overflow_x": null,
            "overflow_y": null,
            "padding": null,
            "right": null,
            "top": null,
            "visibility": null,
            "width": null
          }
        },
        "be6d0843644c41bd89550d92bb702b72": {
          "model_module": "@jupyter-widgets/base",
          "model_name": "LayoutModel",
          "model_module_version": "1.2.0",
          "state": {
            "_model_module": "@jupyter-widgets/base",
            "_model_module_version": "1.2.0",
            "_model_name": "LayoutModel",
            "_view_count": null,
            "_view_module": "@jupyter-widgets/base",
            "_view_module_version": "1.2.0",
            "_view_name": "LayoutView",
            "align_content": null,
            "align_items": null,
            "align_self": null,
            "border": null,
            "bottom": null,
            "display": null,
            "flex": null,
            "flex_flow": null,
            "grid_area": null,
            "grid_auto_columns": null,
            "grid_auto_flow": null,
            "grid_auto_rows": null,
            "grid_column": null,
            "grid_gap": null,
            "grid_row": null,
            "grid_template_areas": null,
            "grid_template_columns": null,
            "grid_template_rows": null,
            "height": null,
            "justify_content": null,
            "justify_items": null,
            "left": null,
            "margin": null,
            "max_height": null,
            "max_width": null,
            "min_height": null,
            "min_width": null,
            "object_fit": null,
            "object_position": null,
            "order": null,
            "overflow": null,
            "overflow_x": null,
            "overflow_y": null,
            "padding": null,
            "right": null,
            "top": null,
            "visibility": null,
            "width": null
          }
        },
        "590c1e90494c40efbaf665e88320d1b4": {
          "model_module": "@jupyter-widgets/controls",
          "model_name": "DescriptionStyleModel",
          "model_module_version": "1.5.0",
          "state": {
            "_model_module": "@jupyter-widgets/controls",
            "_model_module_version": "1.5.0",
            "_model_name": "DescriptionStyleModel",
            "_view_count": null,
            "_view_module": "@jupyter-widgets/base",
            "_view_module_version": "1.2.0",
            "_view_name": "StyleView",
            "description_width": ""
          }
        },
        "4e907c2971564a32a3f4fae9ee4bfcb3": {
          "model_module": "@jupyter-widgets/base",
          "model_name": "LayoutModel",
          "model_module_version": "1.2.0",
          "state": {
            "_model_module": "@jupyter-widgets/base",
            "_model_module_version": "1.2.0",
            "_model_name": "LayoutModel",
            "_view_count": null,
            "_view_module": "@jupyter-widgets/base",
            "_view_module_version": "1.2.0",
            "_view_name": "LayoutView",
            "align_content": null,
            "align_items": null,
            "align_self": null,
            "border": null,
            "bottom": null,
            "display": null,
            "flex": null,
            "flex_flow": null,
            "grid_area": null,
            "grid_auto_columns": null,
            "grid_auto_flow": null,
            "grid_auto_rows": null,
            "grid_column": null,
            "grid_gap": null,
            "grid_row": null,
            "grid_template_areas": null,
            "grid_template_columns": null,
            "grid_template_rows": null,
            "height": null,
            "justify_content": null,
            "justify_items": null,
            "left": null,
            "margin": null,
            "max_height": null,
            "max_width": null,
            "min_height": null,
            "min_width": null,
            "object_fit": null,
            "object_position": null,
            "order": null,
            "overflow": null,
            "overflow_x": null,
            "overflow_y": null,
            "padding": null,
            "right": null,
            "top": null,
            "visibility": null,
            "width": null
          }
        },
        "6c4656607c8540f4bab71e61e783451d": {
          "model_module": "@jupyter-widgets/controls",
          "model_name": "ProgressStyleModel",
          "model_module_version": "1.5.0",
          "state": {
            "_model_module": "@jupyter-widgets/controls",
            "_model_module_version": "1.5.0",
            "_model_name": "ProgressStyleModel",
            "_view_count": null,
            "_view_module": "@jupyter-widgets/base",
            "_view_module_version": "1.2.0",
            "_view_name": "StyleView",
            "bar_color": null,
            "description_width": ""
          }
        },
        "dabe642976214dea9a4d75d159e711b6": {
          "model_module": "@jupyter-widgets/base",
          "model_name": "LayoutModel",
          "model_module_version": "1.2.0",
          "state": {
            "_model_module": "@jupyter-widgets/base",
            "_model_module_version": "1.2.0",
            "_model_name": "LayoutModel",
            "_view_count": null,
            "_view_module": "@jupyter-widgets/base",
            "_view_module_version": "1.2.0",
            "_view_name": "LayoutView",
            "align_content": null,
            "align_items": null,
            "align_self": null,
            "border": null,
            "bottom": null,
            "display": null,
            "flex": null,
            "flex_flow": null,
            "grid_area": null,
            "grid_auto_columns": null,
            "grid_auto_flow": null,
            "grid_auto_rows": null,
            "grid_column": null,
            "grid_gap": null,
            "grid_row": null,
            "grid_template_areas": null,
            "grid_template_columns": null,
            "grid_template_rows": null,
            "height": null,
            "justify_content": null,
            "justify_items": null,
            "left": null,
            "margin": null,
            "max_height": null,
            "max_width": null,
            "min_height": null,
            "min_width": null,
            "object_fit": null,
            "object_position": null,
            "order": null,
            "overflow": null,
            "overflow_x": null,
            "overflow_y": null,
            "padding": null,
            "right": null,
            "top": null,
            "visibility": null,
            "width": null
          }
        },
        "07c5b6c4924b47318559e32f97cac4f4": {
          "model_module": "@jupyter-widgets/controls",
          "model_name": "DescriptionStyleModel",
          "model_module_version": "1.5.0",
          "state": {
            "_model_module": "@jupyter-widgets/controls",
            "_model_module_version": "1.5.0",
            "_model_name": "DescriptionStyleModel",
            "_view_count": null,
            "_view_module": "@jupyter-widgets/base",
            "_view_module_version": "1.2.0",
            "_view_name": "StyleView",
            "description_width": ""
          }
        }
      }
    }
  },
  "nbformat": 4,
  "nbformat_minor": 0
}